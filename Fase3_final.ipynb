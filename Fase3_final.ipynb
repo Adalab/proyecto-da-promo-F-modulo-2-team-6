{
 "cells": [
  {
   "cell_type": "code",
   "execution_count": 1,
   "metadata": {},
   "outputs": [],
   "source": [
    "import pandas as pd \n",
    "#from bs4 import BeautifulSoup\n",
    "import requests\n",
    "from selenium import webdriver  \n",
    "from webdriver_manager.chrome import ChromeDriverManager  \n",
    "from tqdm import tqdm\n",
    "from selenium.webdriver.common.keys import Keys  \n",
    "from selenium.webdriver.support.ui import Select  \n",
    "from time import sleep  \n",
    "pd.set_option('display.max_columns', None)"
   ]
  },
  {
   "cell_type": "markdown",
   "metadata": {},
   "source": [
    "## 1. Metemos los csv de las pelis"
   ]
  },
  {
   "cell_type": "code",
   "execution_count": 7,
   "metadata": {},
   "outputs": [
    {
     "data": {
      "text/html": [
       "<div>\n",
       "<style scoped>\n",
       "    .dataframe tbody tr th:only-of-type {\n",
       "        vertical-align: middle;\n",
       "    }\n",
       "\n",
       "    .dataframe tbody tr th {\n",
       "        vertical-align: top;\n",
       "    }\n",
       "\n",
       "    .dataframe thead th {\n",
       "        text-align: right;\n",
       "    }\n",
       "</style>\n",
       "<table border=\"1\" class=\"dataframe\">\n",
       "  <thead>\n",
       "    <tr style=\"text-align: right;\">\n",
       "      <th></th>\n",
       "      <th>type</th>\n",
       "      <th>name</th>\n",
       "      <th>year</th>\n",
       "      <th>month</th>\n",
       "      <th>id</th>\n",
       "    </tr>\n",
       "    <tr>\n",
       "      <th>genre</th>\n",
       "      <th></th>\n",
       "      <th></th>\n",
       "      <th></th>\n",
       "      <th></th>\n",
       "      <th></th>\n",
       "    </tr>\n",
       "  </thead>\n",
       "  <tbody>\n",
       "    <tr>\n",
       "      <th>Horror</th>\n",
       "      <td>Movie</td>\n",
       "      <td>The Legend of Johnny Jones</td>\n",
       "      <td>2024</td>\n",
       "      <td>10</td>\n",
       "      <td>tt10928904</td>\n",
       "    </tr>\n",
       "    <tr>\n",
       "      <th>Horror</th>\n",
       "      <td>Movie</td>\n",
       "      <td>Tanha Nam Man Phrai</td>\n",
       "      <td>1990</td>\n",
       "      <td>1</td>\n",
       "      <td>tt8449060</td>\n",
       "    </tr>\n",
       "    <tr>\n",
       "      <th>Horror</th>\n",
       "      <td>Movie</td>\n",
       "      <td>Johnny in Monsterland</td>\n",
       "      <td>1990</td>\n",
       "      <td>6</td>\n",
       "      <td>tt7097770</td>\n",
       "    </tr>\n",
       "    <tr>\n",
       "      <th>Horror</th>\n",
       "      <td>Movie</td>\n",
       "      <td>The Horror</td>\n",
       "      <td>1990</td>\n",
       "      <td>2</td>\n",
       "      <td>tt4299276</td>\n",
       "    </tr>\n",
       "    <tr>\n",
       "      <th>Horror</th>\n",
       "      <td>Movie</td>\n",
       "      <td>Kashmoraa</td>\n",
       "      <td>1990</td>\n",
       "      <td>1</td>\n",
       "      <td>tt3521170</td>\n",
       "    </tr>\n",
       "  </tbody>\n",
       "</table>\n",
       "</div>"
      ],
      "text/plain": [
       "         type                        name  year  month          id\n",
       "genre                                                             \n",
       "Horror  Movie  The Legend of Johnny Jones  2024     10  tt10928904\n",
       "Horror  Movie         Tanha Nam Man Phrai  1990      1   tt8449060\n",
       "Horror  Movie       Johnny in Monsterland  1990      6   tt7097770\n",
       "Horror  Movie                  The Horror  1990      2   tt4299276\n",
       "Horror  Movie                   Kashmoraa  1990      1   tt3521170"
      ]
     },
     "execution_count": 7,
     "metadata": {},
     "output_type": "execute_result"
    }
   ],
   "source": [
    "data = pd.read_csv(\"horror_1.csv\", index_col=0)  #lo único que tenemos que cambiar cada vez es el nombre del csv\n",
    "data.head()"
   ]
  },
  {
   "cell_type": "code",
   "execution_count": 8,
   "metadata": {},
   "outputs": [
    {
     "data": {
      "text/plain": [
       "113"
      ]
     },
     "execution_count": 8,
     "metadata": {},
     "output_type": "execute_result"
    }
   ],
   "source": [
    "len(data)"
   ]
  },
  {
   "cell_type": "code",
   "execution_count": 9,
   "metadata": {},
   "outputs": [
    {
     "data": {
      "text/plain": [
       "genre\n",
       "Horror    tt10928904\n",
       "Horror     tt8449060\n",
       "Horror     tt7097770\n",
       "Horror     tt4299276\n",
       "Horror     tt3521170\n",
       "Name: id, dtype: object"
      ]
     },
     "execution_count": 9,
     "metadata": {},
     "output_type": "execute_result"
    }
   ],
   "source": [
    "ids = data[\"id\"] ##Esto no lo tocamos, ya está definido para coger únicamente el id de la peli que se va a leer en el buscador de IMDB\n",
    "ids.head()"
   ]
  },
  {
   "cell_type": "code",
   "execution_count": null,
   "metadata": {},
   "outputs": [],
   "source": [
    "#__next > main > div > section.ipc-page-background.ipc-page-background--base.sc-304f99f6-0.fSJiHR > div > section > div > div.sc-9178d6fe-1.fqVKQb.ipc-page-grid__item.ipc-page-grid__item--span-2 > section.ipc-page-section.ipc-page-section--base.sc-bfec09a1-0.jgUBLM.title-cast.title-cast--movie.celwidget > div.ipc-shoveler.ipc-shoveler--base.ipc-shoveler--page0.title-cast__grid > div.ipc-sub-grid.ipc-sub-grid--page-span-2.ipc-sub-grid--wraps-at-above-l.ipc-shoveler__grid > div:nth-child(1) > div.sc-bfec09a1-7.gWwKlt > a\n",
    "#__next > main > div > section.ipc-page-background.ipc-page-background--base.sc-304f99f6-0.fSJiHR > div > section > div > div.sc-9178d6fe-1.fqVKQb.ipc-page-grid__item.ipc-page-grid__item--span-2 > section.ipc-page-section.ipc-page-section--base.sc-bfec09a1-0.jgUBLM.title-cast.title-cast--movie.celwidget > div.ipc-shoveler.ipc-shoveler--base.ipc-shoveler--page0.title-cast__grid > div.ipc-sub-grid.ipc-sub-grid--page-span-2.ipc-sub-grid--wraps-at-above-l.ipc-shoveler__grid > div:nth-child(2) > div.sc-bfec09a1-7.gWwKlt > a\n",
    "#__next > main > div > section.ipc-page-background.ipc-page-background--base.sc-304f99f6-0.eaRXHu > div > section > div > div.sc-9178d6fe-1.kFxVZc.ipc-page-grid__item.ipc-page-grid__item--span-2 > section.ipc-page-section.ipc-page-section--base.sc-bfec09a1-0.gmonkL.title-cast.title-cast--movie.celwidget > div.ipc-shoveler.ipc-shoveler--base.ipc-shoveler--page0.title-cast__grid > div.ipc-sub-grid.ipc-sub-grid--page-span-2.ipc-sub-grid--wraps-at-above-l.ipc-shoveler__grid > div:nth-child({i}) > div.sc-bfec09a1-7.dpBDvu > a"
   ]
  },
  {
   "cell_type": "markdown",
   "metadata": {},
   "source": [
    "## 2. Extracción de los actores de las películas y guardamos la info en un csv"
   ]
  },
  {
   "cell_type": "code",
   "execution_count": 14,
   "metadata": {},
   "outputs": [
    {
     "name": "stderr",
     "output_type": "stream",
     "text": [
      "100%|██████████| 2/2 [00:30<00:00, 15.25s/it]"
     ]
    },
    {
     "name": "stdout",
     "output_type": "stream",
     "text": [
      "[('Danny Trejo', 'Dylan Playfair', 'Clifton Powell', 'Isaac C. Singleton Jr.', 'Hector David Jr.', 'Emily Rose Hernandez', 'Aaron Cohen', 'David Siracusa', 'Bronsonn Taylor', 'Raven Armando Astone', 'tt10928904'), ('Tanit Pongmanoon', 'Somsak Chaisongkram', 'Chatrin Tana Pong', 'Nadira Al Khor', 'NA', 'NA', 'NA', 'NA', 'NA', 'NA', 'tt8449060')]\n"
     ]
    },
    {
     "name": "stderr",
     "output_type": "stream",
     "text": [
      "\n"
     ]
    }
   ],
   "source": [
    "driver = webdriver.Chrome()\n",
    "\n",
    "driver.maximize_window() #Maximizamos ventana antes de meternos en IMDB\n",
    "\n",
    "sleep(2)\n",
    "\n",
    "driver.get(\"https://www.imdb.com/\")\n",
    "\n",
    "sleep(2)\n",
    "\n",
    "lista_actores = []\n",
    "\n",
    "for id in tqdm(ids[0:2]):\n",
    "\n",
    "    driver.find_element(\"css selector\", \"#suggestion-search\").send_keys(id, Keys.ENTER) #Para que coja el ID de cada tupla de peli\n",
    "\n",
    "    try: \n",
    "    \n",
    "        lista_actores_consumible = []\n",
    "        \n",
    "        for i in range (1,11):\n",
    "\n",
    "            try:\n",
    "                nombre_actor = driver.find_element(\"css selector\", f\"#__next > main > div > section.ipc-page-background.ipc-page-background--base.sc-304f99f6-0.fSJiHR > div > section > div > div.sc-9178d6fe-1.fqVKQb.ipc-page-grid__item.ipc-page-grid__item--span-2 > section.ipc-page-section.ipc-page-section--base.sc-bfec09a1-0.jgUBLM.title-cast.title-cast--movie.celwidget > div.ipc-shoveler.ipc-shoveler--base.ipc-shoveler--page0.title-cast__grid > div.ipc-sub-grid.ipc-sub-grid--page-span-2.ipc-sub-grid--wraps-at-above-l.ipc-shoveler__grid > div:nth-child({i}) > div.sc-bfec09a1-7.gWwKlt > a\").text          \n",
    "                lista_actores_consumible.append (nombre_actor)\n",
    "\n",
    "            except:\n",
    "                lista_actores_consumible.append(\"NA\")\n",
    "        \n",
    "        lista_actores_consumible.append(id) #Lo pongo al nivel del \"for\" para que lo apendee una vez y no cada vez que itere un actor y lo añado a la lista de consumible para que aparezca dentro de la lista de tuplas de actores y tb lo pongo antes de convertir la lista a tupla (línea de código a continuación)\n",
    "\n",
    "        lista_actores.append (tuple(lista_actores_consumible))\n",
    "\n",
    "        driver.back()\n",
    "\n",
    "        sleep(2)\n",
    "    \n",
    "    except: \n",
    "        pass\n",
    "\n",
    "print (lista_actores)"
   ]
  },
  {
   "cell_type": "code",
   "execution_count": 15,
   "metadata": {},
   "outputs": [
    {
     "data": {
      "text/plain": [
       "2"
      ]
     },
     "execution_count": 15,
     "metadata": {},
     "output_type": "execute_result"
    }
   ],
   "source": [
    "len(lista_actores)  #debería ser igual al nro de pelis en csv si encontró todos los IDs de las pelis del CSV"
   ]
  },
  {
   "cell_type": "code",
   "execution_count": 16,
   "metadata": {},
   "outputs": [],
   "source": [
    "df_lista_actores = pd.DataFrame(lista_actores)"
   ]
  },
  {
   "cell_type": "code",
   "execution_count": 13,
   "metadata": {},
   "outputs": [
    {
     "data": {
      "text/html": [
       "<div>\n",
       "<style scoped>\n",
       "    .dataframe tbody tr th:only-of-type {\n",
       "        vertical-align: middle;\n",
       "    }\n",
       "\n",
       "    .dataframe tbody tr th {\n",
       "        vertical-align: top;\n",
       "    }\n",
       "\n",
       "    .dataframe thead th {\n",
       "        text-align: right;\n",
       "    }\n",
       "</style>\n",
       "<table border=\"1\" class=\"dataframe\">\n",
       "  <thead>\n",
       "    <tr style=\"text-align: right;\">\n",
       "      <th></th>\n",
       "      <th>0</th>\n",
       "      <th>1</th>\n",
       "      <th>2</th>\n",
       "      <th>3</th>\n",
       "      <th>4</th>\n",
       "      <th>5</th>\n",
       "      <th>6</th>\n",
       "      <th>7</th>\n",
       "      <th>8</th>\n",
       "      <th>9</th>\n",
       "      <th>10</th>\n",
       "    </tr>\n",
       "  </thead>\n",
       "  <tbody>\n",
       "    <tr>\n",
       "      <th>0</th>\n",
       "      <td>Danny Trejo</td>\n",
       "      <td>Dylan Playfair</td>\n",
       "      <td>Clifton Powell</td>\n",
       "      <td>Isaac C. Singleton Jr.</td>\n",
       "      <td>Hector David Jr.</td>\n",
       "      <td>Emily Rose Hernandez</td>\n",
       "      <td>Aaron Cohen</td>\n",
       "      <td>David Siracusa</td>\n",
       "      <td>Bronsonn Taylor</td>\n",
       "      <td>Raven Armando Astone</td>\n",
       "      <td>tt10928904</td>\n",
       "    </tr>\n",
       "    <tr>\n",
       "      <th>1</th>\n",
       "      <td>Tanit Pongmanoon</td>\n",
       "      <td>Somsak Chaisongkram</td>\n",
       "      <td>Chatrin Tana Pong</td>\n",
       "      <td>Nadira Al Khor</td>\n",
       "      <td>NA</td>\n",
       "      <td>NA</td>\n",
       "      <td>NA</td>\n",
       "      <td>NA</td>\n",
       "      <td>NA</td>\n",
       "      <td>NA</td>\n",
       "      <td>tt8449060</td>\n",
       "    </tr>\n",
       "  </tbody>\n",
       "</table>\n",
       "</div>"
      ],
      "text/plain": [
       "                 0                    1                  2   \\\n",
       "0       Danny Trejo       Dylan Playfair     Clifton Powell   \n",
       "1  Tanit Pongmanoon  Somsak Chaisongkram  Chatrin Tana Pong   \n",
       "\n",
       "                       3                 4                     5   \\\n",
       "0  Isaac C. Singleton Jr.  Hector David Jr.  Emily Rose Hernandez   \n",
       "1          Nadira Al Khor                NA                    NA   \n",
       "\n",
       "            6               7                8                     9   \\\n",
       "0  Aaron Cohen  David Siracusa  Bronsonn Taylor  Raven Armando Astone   \n",
       "1           NA              NA               NA                    NA   \n",
       "\n",
       "           10  \n",
       "0  tt10928904  \n",
       "1   tt8449060  "
      ]
     },
     "execution_count": 13,
     "metadata": {},
     "output_type": "execute_result"
    }
   ],
   "source": [
    "df_lista_actores.head()"
   ]
  },
  {
   "cell_type": "code",
   "execution_count": null,
   "metadata": {},
   "outputs": [],
   "source": [
    "df_lista_actores.to_csv(\"XXX_lista_actores.csv\") #para guardarlo en un csv"
   ]
  },
  {
   "cell_type": "markdown",
   "metadata": {},
   "source": [
    "## 3. Extracción de la información de los actores y guardamos la info en un csv"
   ]
  },
  {
   "cell_type": "code",
   "execution_count": 20,
   "metadata": {},
   "outputs": [
    {
     "name": "stderr",
     "output_type": "stream",
     "text": [
      " 50%|█████     | 1/2 [00:00<00:00,  5.23it/s]"
     ]
    },
    {
     "name": "stdout",
     "output_type": "stream",
     "text": [
      "['DANNY TREJO', 'NA nacimiento', 'NA conocido', 'NA profesión', 'NA oscars', 'DYLAN PLAYFAIR', 'NA nacimiento', 'NA conocido', 'NA profesión', 'NA oscars', 'CLIFTON POWELL', 'NA nacimiento', 'NA conocido', 'NA profesión', 'NA oscars', 'ISAAC C. SINGLETON JR.', 'NA nacimiento', 'NA conocido', 'NA profesión', 'NA oscars', 'HECTOR DAVID JR.', 'NA nacimiento', 'NA conocido', 'NA profesión', 'NA oscars', 'EMILY ROSE HERNANDEZ', 'NA nacimiento', 'NA conocido', 'NA profesión', 'NA oscars', 'AARON COHEN', 'NA nacimiento', 'NA conocido', 'NA profesión', 'NA oscars', 'DAVID SIRACUSA', 'NA nacimiento', 'NA conocido', 'NA profesión', 'NA oscars', 'BRONSONN TAYLOR', 'NA nacimiento', 'NA conocido', 'NA profesión', 'NA oscars', 'RAVEN ARMANDO ASTONE', 'NA nacimiento', 'NA conocido', 'NA profesión', 'NA oscars', 'tt10928904']\n"
     ]
    },
    {
     "name": "stderr",
     "output_type": "stream",
     "text": [
      "100%|██████████| 2/2 [00:00<00:00,  9.41it/s]\n"
     ]
    },
    {
     "name": "stdout",
     "output_type": "stream",
     "text": [
      "['TANIT PONGMANOON', 'NA nacimiento', 'NA conocido', 'NA profesión', 'NA oscars', 'SOMSAK CHAISONGKRAM', 'NA nacimiento', 'NA conocido', 'NA profesión', 'NA oscars', 'CHATRIN TANA PONG', 'NA nacimiento', 'NA conocido', 'NA profesión', 'NA oscars', 'NADIRA AL KHOR', 'NA nacimiento', 'NA conocido', 'NA profesión', 'NA oscars', 'NA', 'NA nacimiento', 'NA conocido', 'NA profesión', 'NA oscars', 'NA', 'NA nacimiento', 'NA conocido', 'NA profesión', 'NA oscars', 'NA', 'NA nacimiento', 'NA conocido', 'NA profesión', 'NA oscars', 'NA', 'NA nacimiento', 'NA conocido', 'NA profesión', 'NA oscars', 'NA', 'NA nacimiento', 'NA conocido', 'NA profesión', 'NA oscars', 'NA', 'NA nacimiento', 'NA conocido', 'NA profesión', 'NA oscars', 'tt8449060']\n",
      "[('DANNY TREJO', 'NA nacimiento', 'NA conocido', 'NA profesión', 'NA oscars', 'DYLAN PLAYFAIR', 'NA nacimiento', 'NA conocido', 'NA profesión', 'NA oscars', 'CLIFTON POWELL', 'NA nacimiento', 'NA conocido', 'NA profesión', 'NA oscars', 'ISAAC C. SINGLETON JR.', 'NA nacimiento', 'NA conocido', 'NA profesión', 'NA oscars', 'HECTOR DAVID JR.', 'NA nacimiento', 'NA conocido', 'NA profesión', 'NA oscars', 'EMILY ROSE HERNANDEZ', 'NA nacimiento', 'NA conocido', 'NA profesión', 'NA oscars', 'AARON COHEN', 'NA nacimiento', 'NA conocido', 'NA profesión', 'NA oscars', 'DAVID SIRACUSA', 'NA nacimiento', 'NA conocido', 'NA profesión', 'NA oscars', 'BRONSONN TAYLOR', 'NA nacimiento', 'NA conocido', 'NA profesión', 'NA oscars', 'RAVEN ARMANDO ASTONE', 'NA nacimiento', 'NA conocido', 'NA profesión', 'NA oscars', 'tt10928904'), ('TANIT PONGMANOON', 'NA nacimiento', 'NA conocido', 'NA profesión', 'NA oscars', 'SOMSAK CHAISONGKRAM', 'NA nacimiento', 'NA conocido', 'NA profesión', 'NA oscars', 'CHATRIN TANA PONG', 'NA nacimiento', 'NA conocido', 'NA profesión', 'NA oscars', 'NADIRA AL KHOR', 'NA nacimiento', 'NA conocido', 'NA profesión', 'NA oscars', 'NA', 'NA nacimiento', 'NA conocido', 'NA profesión', 'NA oscars', 'NA', 'NA nacimiento', 'NA conocido', 'NA profesión', 'NA oscars', 'NA', 'NA nacimiento', 'NA conocido', 'NA profesión', 'NA oscars', 'NA', 'NA nacimiento', 'NA conocido', 'NA profesión', 'NA oscars', 'NA', 'NA nacimiento', 'NA conocido', 'NA profesión', 'NA oscars', 'NA', 'NA nacimiento', 'NA conocido', 'NA profesión', 'NA oscars', 'tt8449060')]\n"
     ]
    }
   ],
   "source": [
    "driver = webdriver.Chrome()\n",
    "\n",
    "driver.maximize_window() #Maximizamos ventana antes de meternos en IMDB\n",
    "\n",
    "sleep(2)\n",
    "\n",
    "driver.get(\"https://www.imdb.com/\")\n",
    "\n",
    "sleep(2)\n",
    "\n",
    "info_actores = []\n",
    "\n",
    "for actores_peli in tqdm(lista_actores): #Del resultado anterior de lista de actores, vamos a iterar por cada una de las tuplas de 10 actores\n",
    "\n",
    "    info_actores_consumible = []\n",
    "\n",
    "    for actores in actores_peli[0:10]:  #Cogemos sólo los actores (excluyendo el ID de la peli)\n",
    "    \n",
    "        info_actores_consumible.append (actores.upper()) #AÑADIMOS NOMBRE en mayúsculas para verlo bien\n",
    "\n",
    "        if actores == \"NA\" or \"NaN\":   \n",
    "            info_actores_consumible.append (\"NA nacimiento\")\n",
    "            info_actores_consumible.append (\"NA conocido\")\n",
    "            info_actores_consumible.append (\"NA profesión\")\n",
    "            info_actores_consumible.append (\"NA oscars\")\n",
    "\n",
    "\n",
    "        else:\n",
    "\n",
    "            driver.find_element(\"css selector\", \"#suggestion-search\").send_keys(actores, Keys.ENTER) #busco cada actor en el \"search box\"\n",
    "\n",
    "            sleep (2)\n",
    "                    \n",
    "            #Click en el resultado el actor para ver su información\n",
    "            driver.find_element(\"css selector\", \"#__next > main > div.ipc-page-content-container.ipc-page-content-container--full.sc-872d7ac7-0.fqEQWL > div.ipc-page-content-container.ipc-page-content-container--center > section > div > div.ipc-page-grid__item.ipc-page-grid__item--span-2 > section:nth-child(3) > div.sc-17bafbdb-2.iUyFfD > ul > li:nth-child(1) > div.ipc-metadata-list-summary-item__c > div > a\").click()\n",
    "                                                 \n",
    "            sleep (2)\n",
    "\n",
    "            try:\n",
    "            \n",
    "            #AÑADIMOS AÑO DE NACIMIENTO      \n",
    "                try:\n",
    "                    nacimiento = driver.find_element (\"css selector\", \"#__next > main > div > section.ipc-page-background.ipc-page-background--base.sc-304f99f6-0.fSJiHR > section > div:nth-child(4) > section > section > div.sc-e226b0e3-4.dEqUUl > div.sc-e226b0e3-6.CUzkx > div.sc-e226b0e3-11.kkLqLt > section > aside > div > span:nth-child(2)\").text\n",
    "                    try:                                               \n",
    "                        info_actores_consumible.append (nacimiento.split(\",\")[1]) \n",
    "\n",
    "                    except:\n",
    "                        info_actores_consumible.append (nacimiento) \n",
    "\n",
    "                except:\n",
    "                    info_actores_consumible.append (\"NA nacimiento\")\n",
    "                \n",
    "                sleep(2) \n",
    "\n",
    "                \n",
    "                #AÑADIMOS POR QUÉ ES CONOCIDO           \n",
    "                try:\n",
    "                    conocido_lista = []\n",
    "                    \n",
    "                    for i in range (1,5):\n",
    "                        try:\n",
    "                            conocido = driver.find_element(\"css selector\", f\"#__next > main > div > section.ipc-page-background.ipc-page-background--base.sc-304f99f6-0.fSJiHR > div > section > div > div.sc-9178d6fe-1.fqVKQb.ipc-page-grid__item.ipc-page-grid__item--span-2 > div.celwidget > section:nth-child(1) > div.sc-a6d4b6c0-0.bBRhdF > div > div.ipc-sub-grid.ipc-sub-grid--page-span-2.ipc-sub-grid--wraps-at-above-l.ipc-shoveler__grid > div:nth-child({i}) > div.ipc-primary-image-list-card__content > div.ipc-primary-image-list-card__content-top > a\")\n",
    "                            conocido_limpio = conocido.text                  \n",
    "                            conocido_lista.append (conocido_limpio)\n",
    "                            sleep(2)\n",
    "\n",
    "                        except:\n",
    "                            pass\n",
    "\n",
    "                    info_actores_consumible.append(conocido_lista)  \n",
    "\n",
    "                except:\n",
    "                    info_actores_consumible.append (\"NA conocido\")\n",
    "\n",
    "                sleep(2)   \n",
    "\n",
    "\n",
    "                #AÑADIMOS PROFESIÓN\n",
    "                try:\n",
    "                    profesion = driver.find_element (\"css selector\", \"#__next > main > div > section.ipc-page-background.ipc-page-background--base.sc-304f99f6-0.fSJiHR > section > div:nth-child(4) > section > section > div.sc-e226b0e3-3.dwkouE > div > ul\"). text\n",
    "                    try:                                              \n",
    "                        info_actores_consumible.append (profesion.split(\"\\n\"))\n",
    "\n",
    "                    except:                                               \n",
    "                        info_actores_consumible.append (profesion) \n",
    "                \n",
    "                except:\n",
    "                    info_actores_consumible.append (\"NA profesion\")\n",
    "                \n",
    "                sleep(2) \n",
    "\n",
    "                #AÑADIMOS INFO SOBRE OSCARS\n",
    "                try:\n",
    "                    oscars = driver.find_element (\"css selector\", \"#__next > main > div > section.ipc-page-background.ipc-page-background--base.sc-304f99f6-0.fSJiHR > div > section > div > div.sc-9178d6fe-1.fqVKQb.ipc-page-grid__item.ipc-page-grid__item--span-2 > section:nth-child(3) > div > ul > li > a.ipc-metadata-list-item__label.ipc-metadata-list-item__label--link\").text\n",
    "                    info_actores_consumible.append (oscars)             \n",
    "                \n",
    "                except:\n",
    "                    info_actores_consumible.append (\"No ha ganado ningún oscar\")\n",
    "\n",
    "\n",
    "            \n",
    "            except:\n",
    "                pass\n",
    "\n",
    "    info_actores_consumible.append(actores_peli[10]) #Lo pongo al nivel del \"for\" para que lo apendee una vez y no cada vez que itere un actor y lo añado a la lista de consumible para que aparezca dentro de la lista de tuplas de actores y tb lo pongo antes de convertir la lista a tupla (línea de código a continuación)\n",
    "    \n",
    "    info_actores.append (tuple(info_actores_consumible))\n",
    "    \n",
    "    print (info_actores_consumible) #Para ir viendo que pelis se van descargando\n",
    "\n",
    "    driver.back()\n",
    "\n",
    "driver.close()  \n",
    "\n",
    "print (info_actores)"
   ]
  },
  {
   "cell_type": "code",
   "execution_count": null,
   "metadata": {},
   "outputs": [],
   "source": [
    "len(info_actores)  #debería ser igual al nro de pelis en csv"
   ]
  },
  {
   "cell_type": "code",
   "execution_count": null,
   "metadata": {},
   "outputs": [],
   "source": [
    "df_info_actores = pd.DataFrame(info_actores) #convertimos \"info_actors\" a dataframe"
   ]
  },
  {
   "cell_type": "code",
   "execution_count": null,
   "metadata": {},
   "outputs": [],
   "source": [
    "df_info_actores.to_csv(\"XXX_info_actores.csv\") #para guardarlo en un csv"
   ]
  }
 ],
 "metadata": {
  "kernelspec": {
   "display_name": "Python 3",
   "language": "python",
   "name": "python3"
  },
  "language_info": {
   "codemirror_mode": {
    "name": "ipython",
    "version": 3
   },
   "file_extension": ".py",
   "mimetype": "text/x-python",
   "name": "python",
   "nbconvert_exporter": "python",
   "pygments_lexer": "ipython3",
   "version": "3.11.6"
  }
 },
 "nbformat": 4,
 "nbformat_minor": 2
}
