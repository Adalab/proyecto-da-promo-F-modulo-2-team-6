{
 "cells": [
  {
   "cell_type": "code",
   "execution_count": 1,
   "metadata": {},
   "outputs": [],
   "source": [
    "import pandas as pd \n",
    "#from bs4 import BeautifulSoup\n",
    "import requests\n",
    "from selenium import webdriver  \n",
    "from webdriver_manager.chrome import ChromeDriverManager  \n",
    "from tqdm import tqdm\n",
    "from selenium.webdriver.common.keys import Keys  \n",
    "from selenium.webdriver.support.ui import Select  \n",
    "from time import sleep  \n",
    "pd.set_option('display.max_columns', None)"
   ]
  },
  {
   "cell_type": "markdown",
   "metadata": {},
   "source": [
    "## 1. Metemos los csv de las pelis"
   ]
  },
  {
   "cell_type": "code",
   "execution_count": 2,
   "metadata": {},
   "outputs": [
    {
     "data": {
      "text/html": [
       "<div>\n",
       "<style scoped>\n",
       "    .dataframe tbody tr th:only-of-type {\n",
       "        vertical-align: middle;\n",
       "    }\n",
       "\n",
       "    .dataframe tbody tr th {\n",
       "        vertical-align: top;\n",
       "    }\n",
       "\n",
       "    .dataframe thead th {\n",
       "        text-align: right;\n",
       "    }\n",
       "</style>\n",
       "<table border=\"1\" class=\"dataframe\">\n",
       "  <thead>\n",
       "    <tr style=\"text-align: right;\">\n",
       "      <th></th>\n",
       "      <th>type</th>\n",
       "      <th>name</th>\n",
       "      <th>year</th>\n",
       "      <th>month</th>\n",
       "      <th>ids</th>\n",
       "    </tr>\n",
       "    <tr>\n",
       "      <th>genre</th>\n",
       "      <th></th>\n",
       "      <th></th>\n",
       "      <th></th>\n",
       "      <th></th>\n",
       "      <th></th>\n",
       "    </tr>\n",
       "  </thead>\n",
       "  <tbody>\n",
       "    <tr>\n",
       "      <th>Mystery</th>\n",
       "      <td>Movie</td>\n",
       "      <td>Spy Story</td>\n",
       "      <td>1990</td>\n",
       "      <td>3</td>\n",
       "      <td>tt0075259</td>\n",
       "    </tr>\n",
       "    <tr>\n",
       "      <th>Mystery</th>\n",
       "      <td>Movie</td>\n",
       "      <td>Demonia</td>\n",
       "      <td>1990</td>\n",
       "      <td>10</td>\n",
       "      <td>tt0094997</td>\n",
       "    </tr>\n",
       "    <tr>\n",
       "      <th>Mystery</th>\n",
       "      <td>Movie</td>\n",
       "      <td>Still Life</td>\n",
       "      <td>1990</td>\n",
       "      <td>11</td>\n",
       "      <td>tt0096177</td>\n",
       "    </tr>\n",
       "    <tr>\n",
       "      <th>Mystery</th>\n",
       "      <td>Movie</td>\n",
       "      <td>In the Cold of the Night</td>\n",
       "      <td>1990</td>\n",
       "      <td>12</td>\n",
       "      <td>tt0097573</td>\n",
       "    </tr>\n",
       "    <tr>\n",
       "      <th>Mystery</th>\n",
       "      <td>Movie</td>\n",
       "      <td>The Platinum Triangle</td>\n",
       "      <td>1990</td>\n",
       "      <td>3</td>\n",
       "      <td>tt0098100</td>\n",
       "    </tr>\n",
       "  </tbody>\n",
       "</table>\n",
       "</div>"
      ],
      "text/plain": [
       "          type                      name  year  month        ids\n",
       "genre                                                           \n",
       "Mystery  Movie                 Spy Story  1990      3  tt0075259\n",
       "Mystery  Movie                   Demonia  1990     10  tt0094997\n",
       "Mystery  Movie                Still Life  1990     11  tt0096177\n",
       "Mystery  Movie  In the Cold of the Night  1990     12  tt0097573\n",
       "Mystery  Movie     The Platinum Triangle  1990      3  tt0098100"
      ]
     },
     "execution_count": 2,
     "metadata": {},
     "output_type": "execute_result"
    }
   ],
   "source": [
    "data = pd.read_csv(\"test_misterio.csv\", index_col=0)  #lo único que tenemos que cambiar cada vez es el nombre del csv\n",
    "data.head()"
   ]
  },
  {
   "cell_type": "code",
   "execution_count": 3,
   "metadata": {},
   "outputs": [
    {
     "data": {
      "text/plain": [
       "genre\n",
       "Mystery    tt0075259\n",
       "Mystery    tt0094997\n",
       "Mystery    tt0096177\n",
       "Mystery    tt0097573\n",
       "Mystery    tt0098100\n",
       "Name: ids, dtype: object"
      ]
     },
     "execution_count": 3,
     "metadata": {},
     "output_type": "execute_result"
    }
   ],
   "source": [
    "ids = data[\"ids\"] ##Esto no lo tocamos, ya está definido para coger únicamente el id de la peli que se va a leer en el buscador de IMDB\n",
    "ids.head()"
   ]
  },
  {
   "cell_type": "markdown",
   "metadata": {},
   "source": [
    "## 2. Extracción de los actores de las películas y guardamos la info en un csv"
   ]
  },
  {
   "cell_type": "code",
   "execution_count": null,
   "metadata": {},
   "outputs": [],
   "source": [
    "driver = webdriver.Chrome()\n",
    "\n",
    "driver.maximize_window() #Maximizamos ventana antes de meternos en IMDB\n",
    "\n",
    "sleep(2)\n",
    "\n",
    "driver.get(\"https://www.imdb.com/\")\n",
    "\n",
    "sleep(2)\n",
    "#____________________________________________ PRIMERA PARTE: Extracción de nombre de actores____________________________________________________________________________________________\n",
    "\n",
    "lista_actors = []\n",
    "\n",
    "for id in tqdm(ids):\n",
    "\n",
    "    driver.find_element(\"css selector\", \"#suggestion-search\").send_keys(id, Keys.ENTER) #Para que coja el ID de cada tupla de peli\n",
    "\n",
    "    lista_actores_consumible = []\n",
    "    \n",
    "    for i in range (1,11):\n",
    "\n",
    "        try:\n",
    "            nombre_actor = driver.find_element(\"css selector\", f\"#__next > main > div > section.ipc-page-background.ipc-page-background--base.sc-304f99f6-0.eaRXHu > div > section > div > div.sc-9178d6fe-1.kFxVZc.ipc-page-grid__item.ipc-page-grid__item--span-2 > section.ipc-page-section.ipc-page-section--base.sc-bfec09a1-0.gmonkL.title-cast.title-cast--movie.celwidget > div.ipc-shoveler.ipc-shoveler--base.ipc-shoveler--page0.title-cast__grid > div.ipc-sub-grid.ipc-sub-grid--page-span-2.ipc-sub-grid--wraps-at-above-l.ipc-shoveler__grid > div:nth-child({i}) > div.sc-bfec09a1-7.dpBDvu > a\").text\n",
    "            lista_actores_consumible.append (nombre_actor)\n",
    "\n",
    "        except:\n",
    "            lista_actores_consumible.append(\"NA\")\n",
    "    \n",
    "    lista_actores_consumible.append(id) #Lo pongo al nivel del \"for\" para que lo apendee una vez y no cada vez que itere un actor y lo añado a la lista de consumible para que aparezca dentro de la lista de tuplas de actores y tb lo pongo antes de convertir la lista a tupla (línea de código a continuación)\n",
    "\n",
    "    lista_actors.append (tuple(lista_actores_consumible))\n",
    "\n",
    "    driver.back()\n",
    "\n",
    "    sleep(2)\n",
    "\n",
    "print (lista_actors)"
   ]
  },
  {
   "cell_type": "code",
   "execution_count": null,
   "metadata": {},
   "outputs": [],
   "source": [
    "len(lista_actors)  #debe ser igual al nro de pelis en csv"
   ]
  },
  {
   "cell_type": "code",
   "execution_count": null,
   "metadata": {},
   "outputs": [],
   "source": [
    "df_lista_actors = pd.DataFrame(lista_actors, columns=[\"actor1\", \"actor2\", \"actor3\", \"actor4\", \"actor5\", \"actor6\", \"actor7\", \"actor8\", \"actor9\", \"actor10\",\"id\"]) #convertimos \"lista_actors\" a dataframe"
   ]
  },
  {
   "cell_type": "code",
   "execution_count": null,
   "metadata": {},
   "outputs": [],
   "source": [
    "df_lista_actors.to_csv(\"XXX_lista_actors.csv\") #para guardarlo en un csv"
   ]
  },
  {
   "cell_type": "markdown",
   "metadata": {},
   "source": [
    "## 3. Extracción de la información de los actores y guardamos la info en un csv"
   ]
  },
  {
   "cell_type": "code",
   "execution_count": 11,
   "metadata": {},
   "outputs": [
    {
     "name": "stderr",
     "output_type": "stream",
     "text": [
      "100%|██████████| 10/10 [02:46<00:00, 16.65s/it]\n"
     ]
    },
    {
     "name": "stdout",
     "output_type": "stream",
     "text": [
      "[('Michael Petrovitch', 'Philip Latham', 'Don Fellows', 'Michael Gwynn', 'Nicholas Parsons', 'Toby Robins', 'Tessa Wyatt', 'Derren Nesbitt', 'Nigel Plaskitt', 'Ciaran Madden', 'tt0075259'), ('Brett Halsey', 'Meg Register', 'Lino Salemme', 'Christina Engelhardt', 'Pascal Druant', 'Grady Clarkson', 'Ettore Comi', 'Carla Cassola', 'Michael Aronin', 'Al Cliver', 'tt0094997'), ('Jason Gedrick', 'Jessica Steen', 'Stephen Shellen', 'Gary Farmer', 'Sam Malkin', 'Lubomir Mykytiuk', 'Dave McKay', 'Johnie Chase', 'Ted Loviscek', 'Beverly Murray', 'tt0096177'), ('Jeff Lester', 'Adrianne Sachs', 'Marc Singer', 'Brian Thompson', 'Shannon Tweed', 'John Beck', 'Tippi Hedren', 'David Soul', 'Jack Kehler', 'Stuart Bird', 'tt0097573'), ('Peter Lochran', 'Alex Courtney', 'Lori Lethin', 'Janet Carroll', 'Robert Frank Telfer', 'Joe Estevez', 'Troy Donahue', 'Harvey Jason', 'Jennifer Bassey', 'Ginger Pollini', 'tt0098100'), ('Héctor Bonilla', 'Héctor Ortega', 'María Rojo', 'Gina Morett', 'Pedro Armendáriz Jr.', 'Roberto Cobo', 'Damián Alcázar', 'Martha Papadimitriou', 'Pedro Altamirano', 'Gabriel Pingarrón', 'tt0097738'), ('Eddie Murphy', 'Nick Nolte', 'Brion James', 'Kevin Tighe', \"Ed O'Ross\", 'David Anthony Marshall', 'Andrew Divoff', 'Bernie Casey', 'Brent Jennings', 'Ted Markland', 'tt0099044'), ('Branislav Lecic', 'Suzana Nikolic', 'Fabijan Sovagovic', 'Milka Podrug-Kokotovic', 'Luka Milas', 'Dora Lipovcan', 'Relja Basic', 'Krunoslav Saric', 'Ljubo Kapor', 'Danko Ljustina', 'tt0097765'), ('Stéphane Ferrara', 'Diogo Dória', 'José Wallenstein', 'Mapi Galán', 'Lionel Tua', 'Michel Albertini', 'Serge Avedikian', 'Clovis Cornillac', 'Patrick Quillier', 'Francisco Baião', 'tt0098531'), ('R. Lee Ermey', 'Jan-Michael Vincent', 'Nancy Everhard', 'Peter Brown', 'Pat Skipper', 'Joonee Gamboa', 'Joe Mari Avellana', 'Rolando Tinio', 'Marilyn Bautista', 'Frederick Bailey', 'tt0097184')]\n"
     ]
    },
    {
     "name": "stderr",
     "output_type": "stream",
     "text": [
      "  0%|          | 0/10 [00:00<?, ?it/s]"
     ]
    },
    {
     "name": "stdout",
     "output_type": "stream",
     "text": [
      "['MICHAEL PETROVITCH', '1945', ['The Zoo Gang', 'Turkey Shoot', 'Spy Story', 'Poldark'], ['Actor'], 'No ha ganado ningún oscar', 'PHILIP LATHAM', ' 1929', ['Dracula, Prince of Darkness', 'The Treasure Seekers', 'The Fourth Arm', 'Middlemarch'], ['Actor'], 'No ha ganado ningún oscar', 'DON FELLOWS', ' 1922', ['Raiders of the Lost Ark', 'Superman IV: The Quest for Peace', 'Superman II', 'Lillie'], ['Actor'], 'No ha ganado ningún oscar', 'MICHAEL GWYNN', ' 1916', ['Jason and the Argonauts', 'Cleopatra', 'Village of the Damned', 'Great Expectations'], ['Actor'], 'No ha ganado ningún oscar', 'NICHOLAS PARSONS', ' 1923', ['Doctor Who', 'Happy Is the Bride', 'Saturday Playhouse', 'Lady Godiva'], ['Actor', 'Director', 'Writer'], 'Awards', 'TOBY ROBINS', 'NA nacimiento', ['For Your Eyes Only', 'Space: 1999', 'Folio', 'Department S'], ['Actress'], 'No ha ganado ningún oscar', 'TESSA WYATT', 'NA nacimiento', ['Pride and Prejudice', 'The Wednesday Play', 'Armchair Theatre', 'BBC Play of the Month'], ['Actress'], 'No ha ganado ningún oscar', 'DERREN NESBITT', ' 1935', ['Where Eagles Dare', 'The Blue Max', 'The Amorous Milkman', 'Flawless'], ['Actor', 'Writer', 'Director'], 'Awards', 'NIGEL PLASKITT', 'NA nacimiento', ['Little Shop of Horrors', 'Lost in Space', 'Labyrinth', 'Muppet Treasure Island'], ['Actor', 'Additional Crew', 'Producer'], 'No ha ganado ningún oscar', 'CIARAN MADDEN', ' 1942', ['Wolfshead: The Legend of Robin Hood', 'Gawain and the Green Knight', \"Agatha Christie's Miss Marple: The Body in the Library\", 'Sense and Sensibility'], ['Actress', 'Soundtrack'], 'No ha ganado ningún oscar', 'tt0075259']\n"
     ]
    },
    {
     "name": "stderr",
     "output_type": "stream",
     "text": [
      " 10%|█         | 1/10 [04:11<37:40, 251.22s/it]"
     ]
    },
    {
     "name": "stdout",
     "output_type": "stream",
     "text": [
      "['BRETT HALSEY', ' 1933', ['The Godfather Part III', 'Return of the Fly', 'The Seventh Sword', 'Desire in the Dust'], ['Actor'], 'Awards', 'MEG REGISTER', 'NA nacimiento', ['Running Scared', 'Boxing Helena', 'Ministry of Vengeance', 'Hunter'], ['Actress'], 'No ha ganado ningún oscar', 'LINO SALEMME', 'NA nacimiento', ['The Passion of the Christ', 'Demons', 'Balkan Runner', 'Black Tunnel'], ['Actor'], 'No ha ganado ningún oscar', 'CHRISTINA ENGELHARDT', ' 1959', ['Actress'], 'Awards', 'PASCAL DRUANT', 'NA nacimiento', ['Leviathan', 'Blue Tornado', 'Un eroe borghese', 'The Suitors'], ['Actor'], 'No ha ganado ningún oscar', 'GRADY CLARKSON', 'NA nacimiento', ['The Adventures of Baron Munchausen', 'Arena', 'Frankenstein Unbound', 'Demonia'], ['Actor', 'Additional Crew'], 'No ha ganado ningún oscar', 'ETTORE COMI', 'NA nacimiento', ['Director', 'Actor', 'Writer'], 'No ha ganado ningún oscar', 'CARLA CASSOLA', 'NA nacimiento', ['Captain America', 'Year of the Gun', 'Alibi perfetto', 'Dangerous Beauty'], ['Actress'], 'Awards', 'MICHAEL ARONIN', 'NA nacimiento', ['Annie Hall', 'Two of a Kind', 'Il burattinaio', 'Cruising'], ['Actor', 'Second Unit or Assistant Director', 'Casting Director'], 'No ha ganado ningún oscar', 'AL CLIVER', ' 1951', ['Zombie Flesh Eaters', 'Endgame', 'Laure', '2020 Texas Gladiators'], ['Actor'], 'Awards', 'tt0094997']\n"
     ]
    },
    {
     "name": "stderr",
     "output_type": "stream",
     "text": [
      " 20%|██        | 2/10 [08:22<33:27, 250.98s/it]"
     ]
    },
    {
     "name": "stdout",
     "output_type": "stream",
     "text": [
      "['JASON GEDRICK', ' 1965', ['Luck', 'Bosch', 'Dexter', 'Backdraft'], ['Actor', 'Director', 'Writer'], 'Awards', 'JESSICA STEEN', ' 1965', ['Armageddon', 'Chaos', 'Captain Power', 'Stargate SG-1'], ['Actress', 'Producer'], 'Awards', 'STEPHEN SHELLEN', ' 1957', ['A River Runs Through It', 'Gone in Sixty Seconds', 'The Bodyguard', 'Casual Sex?'], ['Actor'], 'No ha ganado ningún oscar', 'GARY FARMER', ' 1953', ['Dead Man', 'Ghost Dog: The Way of the Samurai', 'Powwow Highway', 'Smoke Signals'], ['Actor', 'Director', 'Additional Crew'], 'Awards', 'SAM MALKIN', 'NA nacimiento', ['Videodrome', 'Diary of the Dead', 'Cinderella Man', 'Saw II'], ['Actor', 'Additional Crew', 'Casting Department'], 'Awards', 'LUBOMIR MYKYTIUK', 'NA nacimiento', ['North of 60', 'The Sum of All Fears', 'Left Behind II: Tribulation Force', 'K-19: The Widowmaker'], ['Actor'], 'Awards', 'DAVE MCKAY', 'NA nacimiento', ['Actor', 'Producer'], 'No ha ganado ningún oscar', 'JOHNIE CHASE', 'NA nacimiento', ['Remember', 'Detroit Rock City', 'Extreme Measures', 'Dirty Work'], ['Actor'], 'No ha ganado ningún oscar', 'TED LOVISCEK', 'NA nacimiento', ['The Party Game', 'Still Life', \"What's for Dinner?\", 'Switchback'], ['Writer', 'Actor'], 'No ha ganado ningún oscar', 'BEVERLY MURRAY', 'NA nacimiento', ['Still Life', 'The Moderns', 'Street Smart', 'Breaking All the Rules'], ['Actress'], 'No ha ganado ningún oscar', 'tt0096177']\n"
     ]
    },
    {
     "name": "stderr",
     "output_type": "stream",
     "text": [
      " 30%|███       | 3/10 [12:36<29:28, 252.65s/it]"
     ]
    },
    {
     "name": "stdout",
     "output_type": "stream",
     "text": [
      "['JEFF LESTER', ' 1955', ['Star Trek IV: The Voyage Home', 'The Little Drummer Girl', 'The Last Real Cowboys', 'Speed of Life'], ['Actor', 'Writer', 'Director'], 'Awards', 'ADRIANNE SACHS', 'NA nacimiento', ['RoboCop', 'The Stuff', 'Best of the Best', 'Cat Chaser'], ['Actress'], 'No ha ganado ningún oscar', 'MARC SINGER', ' 1948', ['The Beastmaster', 'V', 'Beastmaster 2: Through the Portal of Time', 'V'], ['Actor', 'Director', 'Additional Crew'], 'No ha ganado ningún oscar', 'BRIAN THOMPSON', ' 1959', ['Cobra', 'The Terminator', 'Mortal Kombat: Annihilation', 'DragonHeart'], ['Actor', 'Director', 'Writer'], 'Awards', 'SHANNON TWEED', ' 1957', ['Electra', 'Detroit Rock City', 'Cannibal Women in the Avocado Jungle of Death', 'No Contest'], ['Actress', 'Producer', 'Additional Crew'], 'No ha ganado ningún oscar', 'JOHN BECK', ' 1943', ['Rollerball', 'Sleeper', 'Black Day Blue Night', 'Audrey Rose'], ['Actor', 'Soundtrack'], 'No ha ganado ningún oscar', 'TIPPI HEDREN', ' 1930', ['The Birds', 'Marnie', 'Roar', 'Mulligans!'], ['Actress', 'Producer'], 'Awards', 'DAVID SOUL', ' 1943', ['Starsky & Hutch', 'Starsky and Hutch', 'Magnum Force', 'Jerry Springer: The Opera'], ['Actor', 'Director', 'Producer'], 'Awards', 'JACK KEHLER', ' 1946', ['Men in Black II', 'Lost Highway', 'The Perfect Catch', 'The Last Boy Scout'], ['Actor', 'Director'], 'Awards', 'STUART BIRD', 'NA nacimiento', ['Actor'], 'No ha ganado ningún oscar', 'tt0097573']\n"
     ]
    },
    {
     "name": "stderr",
     "output_type": "stream",
     "text": [
      " 40%|████      | 4/10 [17:03<25:48, 258.07s/it]"
     ]
    },
    {
     "name": "stdout",
     "output_type": "stream",
     "text": [
      "['PETER LOCHRAN', 'NA nacimiento', ['Capitol', 'The Young Doctors', 'The Platinum Triangle', 'Another World'], ['Actor'], 'Awards', 'ALEX COURTNEY', 'March 21', ['Mr. Goodbar', 'Sword of Justice', 'And the Band Played On', 'Murder Between Friends'], ['Actor'], 'No ha ganado ningún oscar', 'LORI LETHIN', 'NA nacimiento', ['The Day After', 'Brokedown Palace', 'Bloody Birthday', 'Return to Horror High'], ['Actress'], 'No ha ganado ningún oscar', 'JANET CARROLL', ' 1940', ['Risky Business', 'Enough', 'Forces of Nature', 'Family Business'], ['Actress', 'Soundtrack'], 'No ha ganado ningún oscar', 'ROBERT FRANK TELFER', 'NA nacimiento', ['Arachnophobia', 'Mr. Deeds', \"Something's Gotta Give\", 'As the World Turns'], ['Actor'], 'No ha ganado ningún oscar', 'JOE ESTEVEZ', ' 1946', ['Return of the Roller Blade Seven', 'Who Lives Last', 'The Roller Blade Seven', 'Eyes Upon Waking'], ['Actor', 'Producer', 'Additional Crew'], 'Awards', 'TROY DONAHUE', ' 1936', ['A Summer Place', 'Cry-Baby', 'The Godfather Part II', 'Monster on the Campus'], ['Actor', 'Soundtrack'], 'Awards', 'HARVEY JASON', ' 1940', ['The Lost World: Jurassic Park', 'Air America', 'Pet Sematary', '3 Men and a Little Lady'], ['Actor', 'Additional Crew', 'Sound Department'], 'No ha ganado ningún oscar', 'JENNIFER BASSEY', ' 1942', ['27 Dresses', 'All My Children', 'Waxwork', 'Anacostia'], ['Actress', 'Producer'], 'Awards', 'GINGER POLLINI', 'NA nacimiento', ['Actress'], 'No ha ganado ningún oscar', 'tt0098100']\n"
     ]
    },
    {
     "name": "stderr",
     "output_type": "stream",
     "text": [
      " 50%|█████     | 5/10 [21:17<21:24, 256.83s/it]"
     ]
    }
   ],
   "source": [
    "driver = webdriver.Chrome()\n",
    "\n",
    "driver.maximize_window() #Maximizamos ventana antes de meternos en IMDB\n",
    "\n",
    "sleep(2)\n",
    "\n",
    "driver.get(\"https://www.imdb.com/\")\n",
    "\n",
    "sleep(2)\n",
    "\n",
    "info_actores = []\n",
    "\n",
    "for actores_peli in tqdm(lista_actors): \n",
    "\n",
    "    info_actores_consumible = []\n",
    "\n",
    "    for actores in actores_peli[0:10]:\n",
    "    \n",
    "        info_actores_consumible.append (actores.upper()) #AÑADIMOS NOMBRE en mayúsculas para verlo bien\n",
    "\n",
    "        if actores == \"NA\":\n",
    "            info_actores_consumible.append (\"NA nacimiento\")\n",
    "            info_actores_consumible.append (\"NA conocido\")\n",
    "            info_actores_consumible.append (\"NA profesión\")\n",
    "            info_actores_consumible.append (\"NA oscars\")\n",
    "\n",
    "\n",
    "        else:\n",
    "\n",
    "            driver.find_element(\"css selector\", \"#suggestion-search\").send_keys(actores, Keys.ENTER) #busco cada actor en el \"search box\"\n",
    "\n",
    "            sleep (2)\n",
    "                    \n",
    "            #Click en el resultado el actor para ver su información\n",
    "            driver.find_element(\"css selector\", \"#__next > main > div.ipc-page-content-container.ipc-page-content-container--full.sc-383f2ac5-0.bfcGjo > div.ipc-page-content-container.ipc-page-content-container--center > section > div > div.ipc-page-grid__item.ipc-page-grid__item--span-2 > section:nth-child(3) > div.sc-17bafbdb-2.ffAEHI > ul > li:nth-child(1) > div.ipc-metadata-list-summary-item__c > div > a\").click()\n",
    "            \n",
    "            sleep (2)\n",
    "\n",
    "            try:\n",
    "            \n",
    "            #AÑADIMOS AÑO DE NACIMIENTO      \n",
    "                try:\n",
    "                    nacimiento = driver.find_element (\"css selector\", \"#__next > main > div > section.ipc-page-background.ipc-page-background--base.sc-304f99f6-0.eaRXHu > section > div:nth-child(4) > section > section > div.sc-e226b0e3-4.ecgcFy > div.sc-e226b0e3-6.hfusNC > div.sc-e226b0e3-11.jSQoAO > section > aside > div > span:nth-child(2)\").text\n",
    "                    try:\n",
    "                        info_actores_consumible.append (nacimiento.split(\",\")[1]) \n",
    "\n",
    "                    except:\n",
    "                        info_actores_consumible.append (nacimiento) \n",
    "\n",
    "                except:\n",
    "                    info_actores_consumible.append (\"NA nacimiento\")\n",
    "                \n",
    "                sleep(2) \n",
    "\n",
    "                \n",
    "                #AÑADIMOS POR QUÉ ES CONOCIDO           \n",
    "                try:\n",
    "                    conocido_lista = []\n",
    "                    for i in range (1,5):\n",
    "                        try:\n",
    "                            conocido = driver.find_element(\"css selector\", f\"#__next > main > div > section.ipc-page-background.ipc-page-background--base.sc-304f99f6-0.eaRXHu > div > section > div > div.sc-9178d6fe-1.kFxVZc.ipc-page-grid__item.ipc-page-grid__item--span-2 > div.celwidget > section:nth-child(1) > div.sc-a6d4b6c0-0.jGufEe > div > div.ipc-sub-grid.ipc-sub-grid--page-span-2.ipc-sub-grid--wraps-at-above-l.ipc-shoveler__grid > div:nth-child({i}) > div.ipc-primary-image-list-card__content > div.ipc-primary-image-list-card__content-top\")\n",
    "                            conocido_limpio = conocido.text\n",
    "                            conocido_lista.append (conocido_limpio)\n",
    "                            sleep(3)\n",
    "\n",
    "                        except NoSuchElementException:\n",
    "                            continue\n",
    "\n",
    "                    info_actores_consumible.append(conocido_lista)  \n",
    "\n",
    "                except:\n",
    "                    pass\n",
    "\n",
    "                sleep(2)   \n",
    "\n",
    "\n",
    "                #AÑADIMOS PROFESIÓN\n",
    "                try:\n",
    "                    profesion = driver.find_element (\"css selector\", \"#__next > main > div > section.ipc-page-background.ipc-page-background--base.sc-304f99f6-0.eaRXHu > section > div:nth-child(4) > section > section > div.sc-e226b0e3-3.jJsEuz > div > ul\"). text\n",
    "                    info_actores_consumible.append (profesion.split(\"\\n\"))\n",
    "\n",
    "                \n",
    "                except:\n",
    "                    info_actores_consumible.append (\"NA profesion\")\n",
    "\n",
    "                #AÑADIMOS INFO SOBRE OSCARS\n",
    "                try:\n",
    "                    oscars = driver.find_element (\"css selector\", \"#__next > main > div > section.ipc-page-background.ipc-page-background--base.sc-304f99f6-0.eaRXHu > div > section > div > div.sc-9178d6fe-1.kFxVZc.ipc-page-grid__item.ipc-page-grid__item--span-2 > section:nth-child(3) > div > ul > li > a.ipc-metadata-list-item__label.ipc-metadata-list-item__label--link\").text\n",
    "                    info_actores_consumible.append (oscars)           \n",
    "                \n",
    "                except:\n",
    "                    info_actores_consumible.append (\"No ha ganado ningún oscar\")\n",
    "\n",
    "\n",
    "            \n",
    "            except:\n",
    "                continue\n",
    "\n",
    "    info_actores_consumible.append(actores_peli[10]) #Lo pongo al nivel del \"for\" para que lo apendee una vez y no cada vez que itere un actor y lo añado a la lista de consumible para que aparezca dentro de la lista de tuplas de actores y tb lo pongo antes de convertir la lista a tupla (línea de código a continuación)\n",
    "    \n",
    "    info_actores.append (tuple(info_actores_consumible))\n",
    "    \n",
    "    print (info_actores_consumible) #Para ir viendo que pelis se van descargando\n",
    "\n",
    "    driver.back()\n",
    "\n",
    "driver.close()  \n",
    "\n",
    "print (info_actores)"
   ]
  },
  {
   "cell_type": "code",
   "execution_count": null,
   "metadata": {},
   "outputs": [],
   "source": [
    "len(info_actores)  #debe ser igual al nro de pelis en csv"
   ]
  },
  {
   "cell_type": "code",
   "execution_count": null,
   "metadata": {},
   "outputs": [],
   "source": [
    "df_info_actores = pd.DataFrame(info_actores) #convertimos \"info_actors\" a dataframe"
   ]
  },
  {
   "cell_type": "code",
   "execution_count": null,
   "metadata": {},
   "outputs": [],
   "source": [
    "df_info_actores.to_csv(\"XXX_info_actores.csv\") #para guardarlo en un csv"
   ]
  }
 ],
 "metadata": {
  "kernelspec": {
   "display_name": "Python 3",
   "language": "python",
   "name": "python3"
  },
  "language_info": {
   "codemirror_mode": {
    "name": "ipython",
    "version": 3
   },
   "file_extension": ".py",
   "mimetype": "text/x-python",
   "name": "python",
   "nbconvert_exporter": "python",
   "pygments_lexer": "ipython3",
   "version": "3.11.6"
  }
 },
 "nbformat": 4,
 "nbformat_minor": 2
}
