{
 "cells": [
  {
   "cell_type": "code",
   "execution_count": null,
   "metadata": {},
   "outputs": [],
   "source": [
    "import re\n",
    "import pandas as pd\n",
    "import requests\n",
    "\n",
    "import time #modulo para controlar los tiempos y los sleep (evitar el error 429)\n",
    "\n",
    "#DEFINO LOS HEADERS: \n",
    "headers = {\n",
    "\"X-RapidAPI-Key\": \"47608e078dmsha9428889aafcc0ap1afc77jsn6e04b24d521c\", #MariCarmen\n",
    "#X-RapidAPI-Key\": \"2583d39c0emshe321f51d17d9328p10cfb0jsn38ed4dc93da2\"  #Zahara\n",
    "\"X-RapidAPI-Host\": \"moviesdatabase.p.rapidapi.com\"\n",
    "}\n",
    "\n",
    "#DEFINO LOS GENEROS \n",
    "genres = [\"Drama\", \"Comedy\", \"Action\", \"Fantasy\", \"Horror\", \"Mystery\", \"Romance\", \"Thriller\"]\n",
    "\n",
    "sleep_time = 5\n",
    "\n",
    "#SACAR TODAS LAS URLS: \n",
    "\n",
    "for genre in genres:\n",
    "  \n",
    "    for year in range(1990, 2023):\n",
    "       \n",
    "        for page in range(1, 10):\n",
    "            url = f\"https://moviesdatabase.p.rapidapi.com/titles?year={year}&genre={genre}&page={page}\"\n",
    "            sleep_time\n",
    "            response = requests.get(url, headers=headers)\n",
    "            #SI LA RESPUESTA ES 200 ENTONCES COMIENZO A HACER TODO EL LOOP DE LINKS Y EXTRAER DATOS: \n",
    "            if response.status_code == 200:\n",
    "                # Procesamos la respuesta da data aqui, lo convertimos a JSONy extraemos la información:\n",
    "                datos = response.json()\n",
    "                lista_de_diccionarios = datos[\"results\"]\n",
    "                lista_peliculas = []\n",
    "\n",
    "                for datos in lista_de_diccionarios: \n",
    "                    \n",
    "                    #lista que usamos para ir appendeando toda la información de abajo /cada peli y será una lista \"de paso\"\n",
    "                    lista_consumible = []\n",
    "                    # aqui creamos las variables con las \"rutas \" que hemos ido buscando arriba /dentro del json \n",
    "                    tipo = datos[\"titleType\"][\"text\"]\n",
    "                    texto = datos[\"titleText\"][\"text\"]\n",
    "                    #para que no me de error el NONE de aquellas pelis que no tengan mes o año. añado el check de: \n",
    "                    release_date = datos.get(\"releaseDate\")\n",
    "                    if release_date:\n",
    "                        mes = release_date.get(\"month\")\n",
    "                        anio = release_date.get(\"year\")\n",
    "                    else:\n",
    "                        mes = None\n",
    "                        anio = None\n",
    "                    #hasta aqui el control del mes y año \n",
    "                    id = datos[\"id\"]\n",
    "\n",
    "                    if tipo == \"Movie\" or tipo ==\"Short\":\n",
    "                        lista_consumible.append(tipo)\n",
    "                        lista_consumible.append(texto)\n",
    "                        lista_consumible.append(mes)\n",
    "                        lista_consumible.append(anio)\n",
    "                        lista_consumible.append(id)\n",
    "                        sleep_time\n",
    "\n",
    "                        #Si la var está, entonces lo appendeamos a la tupla. Tiene q estar aqui dentro porque si esta fuera, irá creando tuplas vacías. \n",
    "                        lista_peliculas.append(tuple(lista_consumible))\n",
    "                        sleep_time\n",
    "                    else: \n",
    "                        pass\n",
    "                # CONFIRMAME QUE ESTA PASANDO ...\n",
    "                print(f\"Received data for {genre} in {year}, page {page}\")\n",
    "\n",
    "            #SI LA RESPUESTA NO ES 200. TELL ME SOMETHING I DONT KNOW\n",
    "            else:\n",
    "                print(f\"Failed to retrieve data for {genre} in {year}, page {page}. Status Code: {response.status_code}\")\n",
    "                #añadido este IF para printear cual es el error 429 (too many requests)\n",
    "                if \"error\" in response.text:\n",
    "                    error_message = response.json().get(\"error\")\n",
    "                    print(f\"Error Message: {error_message}\")\n",
    "\n",
    "            print(\"...\")\n",
    "        \n",
    "            #HE METIDO EL SLEEP PARA CONTROLAR UN POCO PERO NO SE SI VA \n",
    "            time.sleep(sleep_time)"
   ]
  },
  {
   "cell_type": "code",
   "execution_count": null,
   "metadata": {},
   "outputs": [],
   "source": [
    "lista_peliculas"
   ]
  },
  {
   "cell_type": "code",
   "execution_count": null,
   "metadata": {},
   "outputs": [],
   "source": [
    "df = pd.DataFrame(lista_peliculas)"
   ]
  },
  {
   "cell_type": "code",
   "execution_count": null,
   "metadata": {},
   "outputs": [],
   "source": [
    "df"
   ]
  }
 ],
 "metadata": {
  "kernelspec": {
   "display_name": "base",
   "language": "python",
   "name": "python3"
  },
  "language_info": {
   "codemirror_mode": {
    "name": "ipython",
    "version": 3
   },
   "file_extension": ".py",
   "mimetype": "text/x-python",
   "name": "python",
   "nbconvert_exporter": "python",
   "pygments_lexer": "ipython3",
   "version": "3.9.7"
  },
  "orig_nbformat": 4
 },
 "nbformat": 4,
 "nbformat_minor": 2
}
