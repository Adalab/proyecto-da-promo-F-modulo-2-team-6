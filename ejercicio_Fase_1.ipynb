{
 "cells": [
  {
   "cell_type": "code",
   "execution_count": 6,
   "metadata": {},
   "outputs": [],
   "source": [
    "import requests\n",
    "import pandas as pd"
   ]
  },
  {
   "cell_type": "code",
   "execution_count": 7,
   "metadata": {},
   "outputs": [],
   "source": [
    "#response.json().keys()"
   ]
  },
  {
   "cell_type": "code",
   "execution_count": 8,
   "metadata": {},
   "outputs": [],
   "source": [
    "#response.json()[\"results\"]"
   ]
  },
  {
   "cell_type": "code",
   "execution_count": 9,
   "metadata": {},
   "outputs": [
    {
     "name": "stdout",
     "output_type": "stream",
     "text": [
      "{'page': 1, 'next': '/titles?endYear=2022&startYear=1990&genre=Drama&page=2', 'entries': 10, 'results': [{'_id': '61e584ead735dff3f9422c4b', 'id': 'tt0429087', 'primaryImage': {'id': 'rm3004956673', 'width': 675, 'height': 1000, 'url': 'https://m.media-amazon.com/images/M/MV5BMjU0ZmU1NTItNmRjNS00MjRkLWE0MDctYWMyNDY0YTA3ZDc4XkEyXkFqcGdeQXVyMDM2NDM2MQ@@._V1_.jpg', 'caption': {'plainText': 'Charlie Hunnam in Shantaram (2022)', '__typename': 'Markdown'}, '__typename': 'Image'}, 'titleType': {'text': 'TV Series', 'id': 'tvSeries', 'isSeries': True, 'isEpisode': False, 'categories': [{'value': 'tv', '__typename': 'TitleTypeCategory'}], 'canHaveEpisodes': True, '__typename': 'TitleType'}, 'titleText': {'text': 'Shantaram', '__typename': 'TitleText'}, 'originalTitleText': {'text': 'Shantaram', '__typename': 'TitleText'}, 'releaseYear': {'year': 2022, 'endYear': 2022, '__typename': 'YearRange'}, 'releaseDate': {'day': 14, 'month': 10, 'year': 2022, '__typename': 'ReleaseDate'}}, {'_id': '61e58920d8f3c0931e431dcf', 'id': 'tt0808491', 'primaryImage': {'id': 'rm1496121601', 'width': 1500, 'height': 2125, 'url': 'https://m.media-amazon.com/images/M/MV5BYzYzN2MzNjgtOTFlMC00MzIzLWI0YjgtZGJiNzg5MzVkYjgwXkEyXkFqcGdeQXVyOTEwNTkyNjE@._V1_.jpg', 'caption': {'plainText': 'The Swarm (2022)', '__typename': 'Markdown'}, '__typename': 'Image'}, 'titleType': {'text': 'TV Series', 'id': 'tvSeries', 'isSeries': True, 'isEpisode': False, 'categories': [{'value': 'tv', '__typename': 'TitleTypeCategory'}], 'canHaveEpisodes': True, '__typename': 'TitleType'}, 'titleText': {'text': 'The Swarm', '__typename': 'TitleText'}, 'originalTitleText': {'text': 'The Swarm', '__typename': 'TitleText'}, 'releaseYear': {'year': 2022, 'endYear': None, '__typename': 'YearRange'}, 'releaseDate': {'day': None, 'month': None, 'year': 2022, '__typename': 'ReleaseDate'}}, {'_id': '61e58ad2ef99b1c5434380e1', 'id': 'tt0965381', 'primaryImage': {'id': 'rm3017329409', 'width': 3508, 'height': 4961, 'url': 'https://m.media-amazon.com/images/M/MV5BODgzZDk1NzEtODhkYi00NTJhLWJjYTUtNTMxY2I3MDg3ZmE0XkEyXkFqcGdeQXVyNDI3OTE4ODE@._V1_.jpg', 'caption': {'plainText': 'Milli Vanilli (2022)', '__typename': 'Markdown'}, '__typename': 'Image'}, 'titleType': {'text': 'Movie', 'id': 'movie', 'isSeries': False, 'isEpisode': False, 'categories': [{'value': 'movie', '__typename': 'TitleTypeCategory'}], 'canHaveEpisodes': False, '__typename': 'TitleType'}, 'titleText': {'text': 'Milli Vanilli', '__typename': 'TitleText'}, 'originalTitleText': {'text': 'Milli Vanilli', '__typename': 'TitleText'}, 'releaseYear': {'year': 2022, 'endYear': None, '__typename': 'YearRange'}, 'releaseDate': {'day': None, 'month': None, 'year': 2022, '__typename': 'ReleaseDate'}}, {'_id': '61e58b2ea66e5964234395bd', 'id': 'tt10001728', 'primaryImage': {'id': 'rm3808227585', 'width': 1200, 'height': 1584, 'url': 'https://m.media-amazon.com/images/M/MV5BNDFmZDljNWYtMWY4Zi00YWI3LWFjOTgtOWFhYTBmN2EzZWIwXkEyXkFqcGdeQXVyNDE4NTE4MQ@@._V1_.jpg', 'caption': {'plainText': 'Kill Switch (2022)', '__typename': 'Markdown'}, '__typename': 'Image'}, 'titleType': {'text': 'Short', 'id': 'short', 'isSeries': False, 'isEpisode': False, '__typename': 'TitleType'}, 'titleText': {'text': 'Kill Switch', '__typename': 'TitleText'}, 'originalTitleText': {'text': 'Kill Switch', '__typename': 'TitleText'}, 'releaseYear': {'year': 2022, 'endYear': None, '__typename': 'YearRange'}, 'releaseDate': {'day': None, 'month': 10, 'year': 2022, '__typename': 'ReleaseDate'}}, {'_id': '61e58b3378c012aa34439601', 'id': 'tt10003926', 'primaryImage': {'id': 'rm2662392577', 'width': 1200, 'height': 1822, 'url': 'https://m.media-amazon.com/images/M/MV5BZjMzMWFlMzQtN2Y1NC00YWNjLWE4ZTctM2U5M2Q3OTM0ZThkXkEyXkFqcGdeQXVyMjIwMTAzNzU@._V1_.jpg', 'caption': {'plainText': 'Fermí Reixach in Siempre Yo (2022)', '__typename': 'Markdown'}, '__typename': 'Image'}, 'titleType': {'text': 'Short', 'id': 'short', 'isSeries': False, 'isEpisode': False, 'categories': [{'value': 'movie', '__typename': 'TitleTypeCategory'}], 'canHaveEpisodes': False, '__typename': 'TitleType'}, 'titleText': {'text': 'Siempre Yo', '__typename': 'TitleText'}, 'originalTitleText': {'text': 'Siempre Yo', '__typename': 'TitleText'}, 'releaseYear': {'year': 2022, 'endYear': None, '__typename': 'YearRange'}, 'releaseDate': {'day': 1, 'month': 3, 'year': 2022, '__typename': 'ReleaseDate'}}, {'_id': '61e58b3f971a4a15d6439b17', 'id': 'tt10011314', 'primaryImage': {'id': 'rm2727614721', 'width': 1500, 'height': 2172, 'url': 'https://m.media-amazon.com/images/M/MV5BZWE5ODc4MzMtYWI2OC00M2M2LWI3MTctODFiZWRjMzJjYzIzXkEyXkFqcGdeQXVyMTEzMTI1Mjk3._V1_.jpg', 'caption': {'plainText': 'Vampire in the Garden (2022)', '__typename': 'Markdown'}, '__typename': 'Image'}, 'titleType': {'text': 'TV Series', 'id': 'tvSeries', 'isSeries': True, 'isEpisode': False, 'categories': [{'value': 'tv', '__typename': 'TitleTypeCategory'}], 'canHaveEpisodes': True, '__typename': 'TitleType'}, 'titleText': {'text': 'Vampire in the Garden', '__typename': 'TitleText'}, 'originalTitleText': {'text': 'Vampire in the Garden', '__typename': 'TitleText'}, 'releaseYear': {'year': 2022, 'endYear': 2022, '__typename': 'YearRange'}, 'releaseDate': {'day': 16, 'month': 5, 'year': 2022, '__typename': 'ReleaseDate'}}, {'_id': '61e58b578a5a6a599f43a1e9', 'id': 'tt10028196', 'primaryImage': {'id': 'rm1058277633', 'width': 2215, 'height': 2953, 'url': 'https://m.media-amazon.com/images/M/MV5BMmQ4OTEyOTctMmFkOC00N2M4LWIyMDEtN2Y1MzQ0NzMzNDJlXkEyXkFqcGdeQXVyODE5NzE3OTE@._V1_.jpg', 'caption': {'plainText': 'Kareena Kapoor, Aamir Khan, Mona Singh, Manav Vij, and Naga Chaitanya Akkineni in Laal Singh Chaddha (2022)', '__typename': 'Markdown'}, '__typename': 'Image'}, 'titleType': {'text': 'Movie', 'id': 'movie', 'isSeries': False, 'isEpisode': False, 'categories': [{'value': 'movie', '__typename': 'TitleTypeCategory'}], 'canHaveEpisodes': False, '__typename': 'TitleType'}, 'titleText': {'text': 'Laal Singh Chaddha', '__typename': 'TitleText'}, 'originalTitleText': {'text': 'Laal Singh Chaddha', '__typename': 'TitleText'}, 'releaseYear': {'year': 2022, 'endYear': None, '__typename': 'YearRange'}, 'releaseDate': {'day': 11, 'month': 8, 'year': 2022, '__typename': 'ReleaseDate'}}, {'_id': '61e58b77b597b91eb943a80f', 'id': 'tt10047904', 'primaryImage': {'id': 'rm2811362817', 'width': 1448, 'height': 2048, 'url': 'https://m.media-amazon.com/images/M/MV5BOGQwNzBhODUtYjlkMS00NGU5LTlhNTgtZjIwZWIwZGZkYTRlXkEyXkFqcGdeQXVyNzg5OTk2OA@@._V1_.jpg', 'caption': {'plainText': 'Darkling (2022)', '__typename': 'Markdown'}, '__typename': 'Image'}, 'titleType': {'text': 'Movie', 'id': 'movie', 'isSeries': False, 'isEpisode': False, 'categories': [{'value': 'movie', '__typename': 'TitleTypeCategory'}], 'canHaveEpisodes': False, '__typename': 'TitleType'}, 'titleText': {'text': 'Darkling', '__typename': 'TitleText'}, 'originalTitleText': {'text': 'Mrak', '__typename': 'TitleText'}, 'releaseYear': {'year': 2022, 'endYear': None, '__typename': 'YearRange'}, 'releaseDate': {'day': 21, 'month': 4, 'year': 2022, '__typename': 'ReleaseDate'}}, {'_id': '61e58b7ab597b91eb943a90d', 'id': 'tt10049720', 'primaryImage': {'id': 'rm2063436545', 'width': 2494, 'height': 3786, 'url': 'https://m.media-amazon.com/images/M/MV5BMzJkYzIxMTItNWU1OS00MWQ1LWFjMjItYTI5OTgwZGI4NTAxXkEyXkFqcGdeQXVyNzQ0NzU2OA@@._V1_.jpg', 'caption': {'plainText': \"Kevin Porter, Annalicia Aguilar, Kristine Stokes, Morgan Witkop, Steve Filice, William d'Anthony, Peter Marshall Smith, Joey Ruggiero, Jeremiah Crothers, Joe Barra, Emily Lines, and Michael Joseph Nelson in Charlie Hustle (2022)\", '__typename': 'Markdown'}, '__typename': 'Image'}, 'titleType': {'text': 'Movie', 'id': 'movie', 'isSeries': False, 'isEpisode': False, 'categories': [{'value': 'movie', '__typename': 'TitleTypeCategory'}], 'canHaveEpisodes': False, '__typename': 'TitleType'}, 'titleText': {'text': 'Charlie Hustle', '__typename': 'TitleText'}, 'originalTitleText': {'text': 'Charlie Hustle', '__typename': 'TitleText'}, 'releaseYear': {'year': 2022, 'endYear': None, '__typename': 'YearRange'}, 'releaseDate': {'day': None, 'month': None, 'year': 2022, '__typename': 'ReleaseDate'}}, {'_id': '61e58b85909c2ca78143aaa9', 'id': 'tt10054992', 'primaryImage': {'id': 'rm3703934977', 'width': 1536, 'height': 2048, 'url': 'https://m.media-amazon.com/images/M/MV5BNzE5OGU0NmYtMjZkYi00YzExLTg1MDctNGUzZjI2NWI5YzA2XkEyXkFqcGdeQXVyMjA4MDMxNjI@._V1_.jpg', 'caption': {'plainText': 'Thomas Walton, Jared Safier, and Mary Jane Bulseco in D.O.P.E. UNIT (2022)', '__typename': 'Markdown'}, '__typename': 'Image'}, 'titleType': {'text': 'TV Series', 'id': 'tvSeries', 'isSeries': True, 'isEpisode': False, 'categories': [{'value': 'tv', '__typename': 'TitleTypeCategory'}], 'canHaveEpisodes': True, '__typename': 'TitleType'}, 'titleText': {'text': 'D.O.P.E. UNIT', '__typename': 'TitleText'}, 'originalTitleText': {'text': 'D.O.P.E. UNIT', '__typename': 'TitleText'}, 'releaseYear': {'year': 2022, 'endYear': None, '__typename': 'YearRange'}, 'releaseDate': {'day': None, 'month': None, 'year': 2022, '__typename': 'ReleaseDate'}}]}\n"
     ]
    }
   ],
   "source": [
    "#películas de drama desde 1990 a 2022.\n",
    "\n",
    "import requests\n",
    "\n",
    "url = \"https://moviesdatabase.p.rapidapi.com/titles\"\n",
    "\n",
    "querystring = {\"genre\":\"Drama\",\"startYear\":\"1990\",\"endYear\":\"2022\"}\n",
    "\n",
    "headers = {\n",
    "\t\"X-RapidAPI-Key\": \"47608e078dmsha9428889aafcc0ap1afc77jsn6e04b24d521c\",\n",
    "\t\"X-RapidAPI-Host\": \"moviesdatabase.p.rapidapi.com\"\n",
    "}\n",
    "\n",
    "response = requests.get(url, headers=headers, params=querystring)\n",
    "\n",
    "print(response.json())"
   ]
  },
  {
   "cell_type": "code",
   "execution_count": 10,
   "metadata": {},
   "outputs": [
    {
     "data": {
      "text/plain": [
       "dict_keys(['_id', 'id', 'primaryImage', 'titleType', 'titleText', 'originalTitleText', 'releaseYear', 'releaseDate'])"
      ]
     },
     "execution_count": 10,
     "metadata": {},
     "output_type": "execute_result"
    }
   ],
   "source": [
    "respuesta_drama = response.json()\n",
    "respuesta_drama[\"results\"] [0].keys()\n"
   ]
  },
  {
   "cell_type": "code",
   "execution_count": 11,
   "metadata": {},
   "outputs": [
    {
     "data": {
      "text/plain": [
       "'TV Series'"
      ]
     },
     "execution_count": 11,
     "metadata": {},
     "output_type": "execute_result"
    }
   ],
   "source": [
    "respuesta_drama[\"results\"][0][\"titleType\"][\"text\"] #Aquí nos dice el tipo."
   ]
  },
  {
   "cell_type": "code",
   "execution_count": 12,
   "metadata": {},
   "outputs": [
    {
     "data": {
      "text/plain": [
       "'Shantaram'"
      ]
     },
     "execution_count": 12,
     "metadata": {},
     "output_type": "execute_result"
    }
   ],
   "source": [
    "respuesta_drama [\"results\"][0][\"titleText\"][\"text\"] #Aquí nos da el nombre de la película."
   ]
  },
  {
   "cell_type": "code",
   "execution_count": 13,
   "metadata": {},
   "outputs": [
    {
     "data": {
      "text/plain": [
       "10"
      ]
     },
     "execution_count": 13,
     "metadata": {},
     "output_type": "execute_result"
    }
   ],
   "source": [
    "respuesta_drama [\"results\"][0][\"releaseDate\"][\"month\"]"
   ]
  },
  {
   "cell_type": "code",
   "execution_count": 14,
   "metadata": {},
   "outputs": [
    {
     "data": {
      "text/plain": [
       "2022"
      ]
     },
     "execution_count": 14,
     "metadata": {},
     "output_type": "execute_result"
    }
   ],
   "source": [
    "respuesta_drama [\"results\"][0][\"releaseDate\"][\"year\"]"
   ]
  },
  {
   "cell_type": "code",
   "execution_count": 15,
   "metadata": {},
   "outputs": [
    {
     "data": {
      "text/plain": [
       "'tt0429087'"
      ]
     },
     "execution_count": 15,
     "metadata": {},
     "output_type": "execute_result"
    }
   ],
   "source": [
    "respuesta_drama [\"results\"][0][\"id\"]"
   ]
  },
  {
   "cell_type": "code",
   "execution_count": 16,
   "metadata": {},
   "outputs": [
    {
     "data": {
      "text/plain": [
       "{'_id': '61e584ead735dff3f9422c4b',\n",
       " 'id': 'tt0429087',\n",
       " 'primaryImage': {'id': 'rm3004956673',\n",
       "  'width': 675,\n",
       "  'height': 1000,\n",
       "  'url': 'https://m.media-amazon.com/images/M/MV5BMjU0ZmU1NTItNmRjNS00MjRkLWE0MDctYWMyNDY0YTA3ZDc4XkEyXkFqcGdeQXVyMDM2NDM2MQ@@._V1_.jpg',\n",
       "  'caption': {'plainText': 'Charlie Hunnam in Shantaram (2022)',\n",
       "   '__typename': 'Markdown'},\n",
       "  '__typename': 'Image'},\n",
       " 'titleType': {'text': 'TV Series',\n",
       "  'id': 'tvSeries',\n",
       "  'isSeries': True,\n",
       "  'isEpisode': False,\n",
       "  'categories': [{'value': 'tv', '__typename': 'TitleTypeCategory'}],\n",
       "  'canHaveEpisodes': True,\n",
       "  '__typename': 'TitleType'},\n",
       " 'titleText': {'text': 'Shantaram', '__typename': 'TitleText'},\n",
       " 'originalTitleText': {'text': 'Shantaram', '__typename': 'TitleText'},\n",
       " 'releaseYear': {'year': 2022, 'endYear': 2022, '__typename': 'YearRange'},\n",
       " 'releaseDate': {'day': 14,\n",
       "  'month': 10,\n",
       "  'year': 2022,\n",
       "  '__typename': 'ReleaseDate'}}"
      ]
     },
     "execution_count": 16,
     "metadata": {},
     "output_type": "execute_result"
    }
   ],
   "source": [
    "respuesta_drama[\"results\"][0]"
   ]
  },
  {
   "cell_type": "code",
   "execution_count": 17,
   "metadata": {},
   "outputs": [],
   "source": [
    "lista_de_diccionarios = respuesta_drama[\"results\"]"
   ]
  },
  {
   "cell_type": "code",
   "execution_count": 18,
   "metadata": {},
   "outputs": [],
   "source": [
    "lista_peliculas = []\n",
    "\n",
    "for datos in lista_de_diccionarios: \n",
    "    #lista que usamos para ir appendeando toda la información de abajo /cada peli y será una lista \"de paso\"\n",
    "    lista_consumible = []\n",
    "    # aqui creamos las variables con las \"rutas \" que hemos ido buscando arriba /dentro del json \n",
    "    tipo = datos[\"titleType\"][\"text\"]\n",
    "    texto = datos[\"titleText\"][\"text\"]\n",
    "    mes = datos[\"releaseDate\"][\"month\"]\n",
    "    anio = datos[\"releaseDate\"][\"year\"]\n",
    "    id = datos[\"id\"]\n",
    "\n",
    "    if tipo == \"Movie\" or tipo ==\"Short\":\n",
    "        lista_consumible.append(tipo)\n",
    "        lista_consumible.append(texto)\n",
    "        lista_consumible.append(mes)\n",
    "        lista_consumible.append(anio)\n",
    "        lista_consumible.append(id)\n",
    "\n",
    "\n",
    "        #Si la var está, entonces lo appendeamos a la tupla. Tiene q estar aqui dentro porque si esta fuera, irá creando tuplas vacías. \n",
    "        lista_peliculas.append(tuple(lista_consumible))\n",
    "    else: \n",
    "        pass\n",
    "\n",
    "\n",
    "\n",
    "\n",
    "\n",
    "    "
   ]
  },
  {
   "cell_type": "code",
   "execution_count": 19,
   "metadata": {},
   "outputs": [
    {
     "data": {
      "text/plain": [
       "[]"
      ]
     },
     "execution_count": 19,
     "metadata": {},
     "output_type": "execute_result"
    }
   ],
   "source": [
    "lista_consumible"
   ]
  },
  {
   "cell_type": "code",
   "execution_count": 20,
   "metadata": {},
   "outputs": [
    {
     "data": {
      "text/plain": [
       "[('Movie', 'Milli Vanilli', None, 2022, 'tt0965381'),\n",
       " ('Short', 'Kill Switch', 10, 2022, 'tt10001728'),\n",
       " ('Short', 'Siempre Yo', 3, 2022, 'tt10003926'),\n",
       " ('Movie', 'Laal Singh Chaddha', 8, 2022, 'tt10028196'),\n",
       " ('Movie', 'Darkling', 4, 2022, 'tt10047904'),\n",
       " ('Movie', 'Charlie Hustle', None, 2022, 'tt10049720')]"
      ]
     },
     "execution_count": 20,
     "metadata": {},
     "output_type": "execute_result"
    }
   ],
   "source": [
    "lista_peliculas"
   ]
  },
  {
   "cell_type": "code",
   "execution_count": 21,
   "metadata": {},
   "outputs": [
    {
     "name": "stdout",
     "output_type": "stream",
     "text": [
      "{'page': 1, 'next': '/titles?endYear=1992&startYear=1992&genre=Drama&page=2', 'entries': 10, 'results': [{'_id': '61e5811ad735dff3f9415477', 'id': 'tt0082891', 'primaryImage': None, 'titleType': {'text': 'Short', 'id': 'short', 'isSeries': False, 'isEpisode': False, '__typename': 'TitleType'}, 'titleText': {'text': 'Peep Show', '__typename': 'TitleText'}, 'originalTitleText': {'text': 'Peep Show', '__typename': 'TitleText'}, 'releaseYear': {'year': 1992, 'endYear': None, '__typename': 'YearRange'}, 'releaseDate': {'day': None, 'month': 6, 'year': 1992, '__typename': 'ReleaseDate'}}, {'_id': '61e5811dd735dff3f94154fd', 'id': 'tt0084447', 'primaryImage': None, 'titleType': {'text': 'Short', 'id': 'short', 'isSeries': False, 'isEpisode': False, '__typename': 'TitleType'}, 'titleText': {'text': 'Open House', '__typename': 'TitleText'}, 'originalTitleText': {'text': 'Open House', '__typename': 'TitleText'}, 'releaseYear': {'year': 1992, 'endYear': None, '__typename': 'YearRange'}, 'releaseDate': {'day': None, 'month': 6, 'year': 1992, '__typename': 'ReleaseDate'}}, {'_id': '61e58149a66e596423415d3b', 'id': 'tt0095761', 'primaryImage': {'id': 'rm1994664448', 'width': 752, 'height': 1024, 'url': 'https://m.media-amazon.com/images/M/MV5BOTc5NjllZmMtNzAxMy00ZjY5LWI2NmMtYzZlMDdhYTBmZTVkXkEyXkFqcGdeQXVyMjQzMzQzODY@._V1_.jpg', 'caption': {'plainText': \"La nuit de l'océan (1992)\", '__typename': 'Markdown'}, '__typename': 'Image'}, 'titleType': {'text': 'Movie', 'id': 'movie', 'isSeries': False, 'isEpisode': False, '__typename': 'TitleType'}, 'titleText': {'text': \"La nuit de l'océan\", '__typename': 'TitleText'}, 'originalTitleText': {'text': \"La nuit de l'océan\", '__typename': 'TitleText'}, 'releaseYear': {'year': 1992, 'endYear': None, '__typename': 'YearRange'}, 'releaseDate': {'day': 3, 'month': 6, 'year': 1992, '__typename': 'ReleaseDate'}}, {'_id': '61e5814c95801a78bc415dc7', 'id': 'tt0096222', 'primaryImage': {'id': 'rm2995887104', 'width': 372, 'height': 475, 'url': 'https://m.media-amazon.com/images/M/MV5BMTA0MTQ5MzU0MTleQTJeQWpwZ15BbWU3MDE2NzUxMjE@._V1_.jpg', 'caption': {'plainText': 'Tao xue wai zhuan (1992)', '__typename': 'Markdown'}, '__typename': 'Image'}, 'titleType': {'text': 'Movie', 'id': 'movie', 'isSeries': False, 'isEpisode': False, '__typename': 'TitleType'}, 'titleText': {'text': 'Tao xue wai zhuan', '__typename': 'TitleText'}, 'originalTitleText': {'text': 'Tao xue wai zhuan', '__typename': 'TitleText'}, 'releaseYear': {'year': 1992, 'endYear': None, '__typename': 'YearRange'}, 'releaseDate': {'day': 1, 'month': 10, 'year': 1992, '__typename': 'ReleaseDate'}}, {'_id': '61e5814d971a4a15d6415e31', 'id': 'tt0096903', 'primaryImage': {'id': 'rm1863580160', 'width': 353, 'height': 500, 'url': 'https://m.media-amazon.com/images/M/MV5BMjI3NTU4MDA4MF5BMl5BanBnXkFtZTgwNjMwNDkwMzE@._V1_.jpg', 'caption': {'plainText': 'Beethoven Lives Upstairs (1992)', '__typename': 'Markdown'}, '__typename': 'Image'}, 'titleType': {'text': 'TV Movie', 'id': 'tvMovie', 'isSeries': False, 'isEpisode': False, '__typename': 'TitleType'}, 'titleText': {'text': 'Beethoven Lives Upstairs', '__typename': 'TitleText'}, 'originalTitleText': {'text': 'Beethoven Lives Upstairs', '__typename': 'TitleText'}, 'releaseYear': {'year': 1992, 'endYear': None, '__typename': 'YearRange'}, 'releaseDate': {'day': None, 'month': None, 'year': 1992, '__typename': 'ReleaseDate'}}, {'_id': '61e5814fe1a8ddbd96415e87', 'id': 'tt0097631', 'primaryImage': {'id': 'rm3966688257', 'width': 1092, 'height': 1555, 'url': 'https://m.media-amazon.com/images/M/MV5BYjJkOWE3YTEtNDMwYy00NzA1LWFkMWEtYzYxZTdjNzRlM2MwXkEyXkFqcGdeQXVyMTAyNDU2NDM@._V1_.jpg', 'caption': {'plainText': 'Elliott Gould in Judgement (1992)', '__typename': 'Markdown'}, '__typename': 'Image'}, 'titleType': {'text': 'Movie', 'id': 'movie', 'isSeries': False, 'isEpisode': False, '__typename': 'TitleType'}, 'titleText': {'text': 'Judgement', '__typename': 'TitleText'}, 'originalTitleText': {'text': 'Judgement', '__typename': 'TitleText'}, 'releaseYear': {'year': 1992, 'endYear': None, '__typename': 'YearRange'}, 'releaseDate': {'day': 5, 'month': 8, 'year': 1992, '__typename': 'ReleaseDate'}}, {'_id': '61e5815178c012aa34415e71', 'id': 'tt0099104', 'primaryImage': {'id': 'rm2009373696', 'width': 276, 'height': 475, 'url': 'https://m.media-amazon.com/images/M/MV5BMTk2NDc5NTI0NV5BMl5BanBnXkFtZTcwNDM1MDkxMQ@@._V1_.jpg', 'caption': {'plainText': 'Ng yuet yam seon (1992)', '__typename': 'Markdown'}, '__typename': 'Image'}, 'titleType': {'text': 'Movie', 'id': 'movie', 'isSeries': False, 'isEpisode': False, '__typename': 'TitleType'}, 'titleText': {'text': 'Ng yuet yam seon', '__typename': 'TitleText'}, 'originalTitleText': {'text': 'Ng yuet yam seon', '__typename': 'TitleText'}, 'releaseYear': {'year': 1992, 'endYear': None, '__typename': 'YearRange'}, 'releaseDate': {'day': 28, 'month': 5, 'year': 1992, '__typename': 'ReleaseDate'}}, {'_id': '61e58152cffb8f2faa415ed5', 'id': 'tt0099437', 'primaryImage': {'id': 'rm1082071808', 'width': 1200, 'height': 1680, 'url': 'https://m.media-amazon.com/images/M/MV5BYjdlMGEzYmItOTM5OS00NTdlLTljYzItYWFiMWU3Y2MyZjZiXkEyXkFqcGdeQXVyNDUzOTQ5MjY@._V1_.jpg', 'caption': {'plainText': 'Disha (1992)', '__typename': 'Markdown'}, '__typename': 'Image'}, 'titleType': {'text': 'Movie', 'id': 'movie', 'isSeries': False, 'isEpisode': False, '__typename': 'TitleType'}, 'titleText': {'text': 'Disha', '__typename': 'TitleText'}, 'originalTitleText': {'text': 'Disha', '__typename': 'TitleText'}, 'releaseYear': {'year': 1992, 'endYear': None, '__typename': 'YearRange'}, 'releaseDate': {'day': 1, 'month': 2, 'year': 1992, '__typename': 'ReleaseDate'}}, {'_id': '61e58152d735dff3f9415e55', 'id': 'tt0099639', 'primaryImage': {'id': 'rm1656954880', 'width': 499, 'height': 725, 'url': 'https://m.media-amazon.com/images/M/MV5BNjdjYjJlNDUtOGE4OS00ZThkLTg0ODktMzAyZWVhMzZiZTk2XkEyXkFqcGdeQXVyNzMzMjU5NDY@._V1_.jpg', 'caption': {'plainText': \"Coupable d'innocence ou Quand la raison dort (1992)\", '__typename': 'Markdown'}, '__typename': 'Image'}, 'titleType': {'text': 'Movie', 'id': 'movie', 'isSeries': False, 'isEpisode': False, '__typename': 'TitleType'}, 'titleText': {'text': \"Coupable d'innocence ou Quand la raison dort\", '__typename': 'TitleText'}, 'originalTitleText': {'text': \"Coupable d'innocence ou Quand la raison dort\", '__typename': 'TitleText'}, 'releaseYear': {'year': 1992, 'endYear': None, '__typename': 'YearRange'}, 'releaseDate': {'day': 10, 'month': 2, 'year': 1992, '__typename': 'ReleaseDate'}}, {'_id': '61e58153e1a8ddbd96415f19', 'id': 'tt0099356', 'primaryImage': {'id': 'rm81566976', 'width': 340, 'height': 475, 'url': 'https://m.media-amazon.com/images/M/MV5BMTIzOTY0NDYwN15BMl5BanBnXkFtZTcwMzI4MTUyMQ@@._V1_.jpg', 'caption': {'plainText': 'A Dangerous Man: Lawrence After Arabia (1992)', '__typename': 'Markdown'}, '__typename': 'Image'}, 'titleType': {'text': 'TV Movie', 'id': 'tvMovie', 'isSeries': False, 'isEpisode': False, '__typename': 'TitleType'}, 'titleText': {'text': 'A Dangerous Man: Lawrence After Arabia', '__typename': 'TitleText'}, 'originalTitleText': {'text': 'A Dangerous Man: Lawrence After Arabia', '__typename': 'TitleText'}, 'releaseYear': {'year': 1992, 'endYear': None, '__typename': 'YearRange'}, 'releaseDate': {'day': 18, 'month': 4, 'year': 1992, '__typename': 'ReleaseDate'}}]}\n"
     ]
    }
   ],
   "source": [
    "#películas de drama desde 1990 a 2022.\n",
    "\n",
    "import requests\n",
    "\n",
    "url = \"https://moviesdatabase.p.rapidapi.com/titles\"\n",
    "\n",
    "querystring = {\"genre\":\"Drama\",\"startYear\":\"1992\",\"endYear\":\"1992\"}\n",
    "\n",
    "headers = {\n",
    "\t\"X-RapidAPI-Key\": \"47608e078dmsha9428889aafcc0ap1afc77jsn6e04b24d521c\",\n",
    "\t\"X-RapidAPI-Host\": \"moviesdatabase.p.rapidapi.com\"\n",
    "}\n",
    "\n",
    "response = requests.get(url, headers=headers, params=querystring)\n",
    "\n",
    "print(response.json())"
   ]
  },
  {
   "cell_type": "markdown",
   "metadata": {},
   "source": [
    "ITERAR EN ORDEN POR \n",
    "GENERO\n",
    "AÑO\n",
    "PAGINA "
   ]
  },
  {
   "cell_type": "code",
   "execution_count": 22,
   "metadata": {},
   "outputs": [
    {
     "name": "stdout",
     "output_type": "stream",
     "text": [
      "https://moviesdatabase.p.rapidapi.com/titles?year=1990&genre=Drama&page=1\n",
      "...\n",
      "https://moviesdatabase.p.rapidapi.com/titles?year=1990&genre=Drama&page=2\n",
      "...\n",
      "https://moviesdatabase.p.rapidapi.com/titles?year=1990&genre=Drama&page=3\n",
      "...\n",
      "https://moviesdatabase.p.rapidapi.com/titles?year=1990&genre=Drama&page=4\n",
      "...\n",
      "https://moviesdatabase.p.rapidapi.com/titles?year=1990&genre=Drama&page=5\n",
      "...\n",
      "https://moviesdatabase.p.rapidapi.com/titles?year=1990&genre=Drama&page=6\n",
      "...\n",
      "https://moviesdatabase.p.rapidapi.com/titles?year=1990&genre=Drama&page=7\n",
      "...\n",
      "https://moviesdatabase.p.rapidapi.com/titles?year=1990&genre=Drama&page=8\n",
      "...\n",
      "https://moviesdatabase.p.rapidapi.com/titles?year=1990&genre=Drama&page=9\n",
      "...\n",
      "https://moviesdatabase.p.rapidapi.com/titles?year=1990&genre=Drama&page=10\n",
      "...\n",
      "https://moviesdatabase.p.rapidapi.com/titles?year=1991&genre=Drama&page=1\n",
      "...\n",
      "https://moviesdatabase.p.rapidapi.com/titles?year=1991&genre=Drama&page=2\n",
      "...\n",
      "https://moviesdatabase.p.rapidapi.com/titles?year=1991&genre=Drama&page=3\n",
      "...\n",
      "https://moviesdatabase.p.rapidapi.com/titles?year=1991&genre=Drama&page=4\n",
      "...\n",
      "https://moviesdatabase.p.rapidapi.com/titles?year=1991&genre=Drama&page=5\n",
      "...\n",
      "https://moviesdatabase.p.rapidapi.com/titles?year=1991&genre=Drama&page=6\n",
      "...\n",
      "https://moviesdatabase.p.rapidapi.com/titles?year=1991&genre=Drama&page=7\n",
      "...\n",
      "https://moviesdatabase.p.rapidapi.com/titles?year=1991&genre=Drama&page=8\n",
      "...\n",
      "https://moviesdatabase.p.rapidapi.com/titles?year=1991&genre=Drama&page=9\n",
      "...\n",
      "https://moviesdatabase.p.rapidapi.com/titles?year=1991&genre=Drama&page=10\n",
      "...\n",
      "https://moviesdatabase.p.rapidapi.com/titles?year=1992&genre=Drama&page=1\n",
      "...\n",
      "https://moviesdatabase.p.rapidapi.com/titles?year=1992&genre=Drama&page=2\n",
      "...\n",
      "https://moviesdatabase.p.rapidapi.com/titles?year=1992&genre=Drama&page=3\n",
      "...\n",
      "https://moviesdatabase.p.rapidapi.com/titles?year=1992&genre=Drama&page=4\n",
      "...\n",
      "https://moviesdatabase.p.rapidapi.com/titles?year=1992&genre=Drama&page=5\n",
      "...\n",
      "https://moviesdatabase.p.rapidapi.com/titles?year=1992&genre=Drama&page=6\n",
      "...\n",
      "https://moviesdatabase.p.rapidapi.com/titles?year=1992&genre=Drama&page=7\n",
      "...\n",
      "https://moviesdatabase.p.rapidapi.com/titles?year=1992&genre=Drama&page=8\n",
      "...\n",
      "https://moviesdatabase.p.rapidapi.com/titles?year=1992&genre=Drama&page=9\n",
      "...\n",
      "https://moviesdatabase.p.rapidapi.com/titles?year=1992&genre=Drama&page=10\n",
      "...\n",
      "https://moviesdatabase.p.rapidapi.com/titles?year=1993&genre=Drama&page=1\n",
      "...\n",
      "https://moviesdatabase.p.rapidapi.com/titles?year=1993&genre=Drama&page=2\n",
      "...\n",
      "https://moviesdatabase.p.rapidapi.com/titles?year=1993&genre=Drama&page=3\n",
      "...\n",
      "https://moviesdatabase.p.rapidapi.com/titles?year=1993&genre=Drama&page=4\n",
      "...\n",
      "https://moviesdatabase.p.rapidapi.com/titles?year=1993&genre=Drama&page=5\n",
      "...\n",
      "https://moviesdatabase.p.rapidapi.com/titles?year=1993&genre=Drama&page=6\n",
      "...\n",
      "https://moviesdatabase.p.rapidapi.com/titles?year=1993&genre=Drama&page=7\n",
      "...\n",
      "https://moviesdatabase.p.rapidapi.com/titles?year=1993&genre=Drama&page=8\n",
      "...\n",
      "https://moviesdatabase.p.rapidapi.com/titles?year=1993&genre=Drama&page=9\n",
      "...\n",
      "https://moviesdatabase.p.rapidapi.com/titles?year=1993&genre=Drama&page=10\n",
      "...\n",
      "https://moviesdatabase.p.rapidapi.com/titles?year=1994&genre=Drama&page=1\n",
      "...\n",
      "https://moviesdatabase.p.rapidapi.com/titles?year=1994&genre=Drama&page=2\n",
      "...\n",
      "https://moviesdatabase.p.rapidapi.com/titles?year=1994&genre=Drama&page=3\n",
      "...\n",
      "https://moviesdatabase.p.rapidapi.com/titles?year=1994&genre=Drama&page=4\n",
      "...\n",
      "https://moviesdatabase.p.rapidapi.com/titles?year=1994&genre=Drama&page=5\n",
      "...\n",
      "https://moviesdatabase.p.rapidapi.com/titles?year=1994&genre=Drama&page=6\n",
      "...\n",
      "https://moviesdatabase.p.rapidapi.com/titles?year=1994&genre=Drama&page=7\n",
      "...\n",
      "https://moviesdatabase.p.rapidapi.com/titles?year=1994&genre=Drama&page=8\n",
      "...\n",
      "https://moviesdatabase.p.rapidapi.com/titles?year=1994&genre=Drama&page=9\n",
      "...\n",
      "https://moviesdatabase.p.rapidapi.com/titles?year=1994&genre=Drama&page=10\n",
      "...\n",
      "https://moviesdatabase.p.rapidapi.com/titles?year=1995&genre=Drama&page=1\n",
      "...\n",
      "https://moviesdatabase.p.rapidapi.com/titles?year=1995&genre=Drama&page=2\n",
      "...\n",
      "https://moviesdatabase.p.rapidapi.com/titles?year=1995&genre=Drama&page=3\n",
      "...\n",
      "https://moviesdatabase.p.rapidapi.com/titles?year=1995&genre=Drama&page=4\n",
      "...\n",
      "https://moviesdatabase.p.rapidapi.com/titles?year=1995&genre=Drama&page=5\n",
      "...\n",
      "https://moviesdatabase.p.rapidapi.com/titles?year=1995&genre=Drama&page=6\n",
      "...\n",
      "https://moviesdatabase.p.rapidapi.com/titles?year=1995&genre=Drama&page=7\n",
      "...\n",
      "https://moviesdatabase.p.rapidapi.com/titles?year=1995&genre=Drama&page=8\n",
      "...\n",
      "https://moviesdatabase.p.rapidapi.com/titles?year=1995&genre=Drama&page=9\n",
      "...\n",
      "https://moviesdatabase.p.rapidapi.com/titles?year=1995&genre=Drama&page=10\n",
      "...\n",
      "https://moviesdatabase.p.rapidapi.com/titles?year=1996&genre=Drama&page=1\n",
      "...\n",
      "https://moviesdatabase.p.rapidapi.com/titles?year=1996&genre=Drama&page=2\n",
      "...\n",
      "https://moviesdatabase.p.rapidapi.com/titles?year=1996&genre=Drama&page=3\n",
      "...\n",
      "https://moviesdatabase.p.rapidapi.com/titles?year=1996&genre=Drama&page=4\n",
      "...\n",
      "https://moviesdatabase.p.rapidapi.com/titles?year=1996&genre=Drama&page=5\n",
      "...\n",
      "https://moviesdatabase.p.rapidapi.com/titles?year=1996&genre=Drama&page=6\n",
      "...\n",
      "https://moviesdatabase.p.rapidapi.com/titles?year=1996&genre=Drama&page=7\n",
      "...\n",
      "https://moviesdatabase.p.rapidapi.com/titles?year=1996&genre=Drama&page=8\n",
      "...\n",
      "https://moviesdatabase.p.rapidapi.com/titles?year=1996&genre=Drama&page=9\n",
      "...\n",
      "https://moviesdatabase.p.rapidapi.com/titles?year=1996&genre=Drama&page=10\n",
      "...\n",
      "https://moviesdatabase.p.rapidapi.com/titles?year=1997&genre=Drama&page=1\n",
      "...\n",
      "https://moviesdatabase.p.rapidapi.com/titles?year=1997&genre=Drama&page=2\n",
      "...\n",
      "https://moviesdatabase.p.rapidapi.com/titles?year=1997&genre=Drama&page=3\n",
      "...\n",
      "https://moviesdatabase.p.rapidapi.com/titles?year=1997&genre=Drama&page=4\n",
      "...\n",
      "https://moviesdatabase.p.rapidapi.com/titles?year=1997&genre=Drama&page=5\n",
      "...\n",
      "https://moviesdatabase.p.rapidapi.com/titles?year=1997&genre=Drama&page=6\n",
      "...\n",
      "https://moviesdatabase.p.rapidapi.com/titles?year=1997&genre=Drama&page=7\n",
      "...\n",
      "https://moviesdatabase.p.rapidapi.com/titles?year=1997&genre=Drama&page=8\n",
      "...\n",
      "https://moviesdatabase.p.rapidapi.com/titles?year=1997&genre=Drama&page=9\n",
      "...\n",
      "https://moviesdatabase.p.rapidapi.com/titles?year=1997&genre=Drama&page=10\n",
      "...\n",
      "https://moviesdatabase.p.rapidapi.com/titles?year=1998&genre=Drama&page=1\n",
      "...\n",
      "https://moviesdatabase.p.rapidapi.com/titles?year=1998&genre=Drama&page=2\n",
      "...\n",
      "https://moviesdatabase.p.rapidapi.com/titles?year=1998&genre=Drama&page=3\n",
      "...\n",
      "https://moviesdatabase.p.rapidapi.com/titles?year=1998&genre=Drama&page=4\n",
      "...\n",
      "https://moviesdatabase.p.rapidapi.com/titles?year=1998&genre=Drama&page=5\n",
      "...\n",
      "https://moviesdatabase.p.rapidapi.com/titles?year=1998&genre=Drama&page=6\n",
      "...\n",
      "https://moviesdatabase.p.rapidapi.com/titles?year=1998&genre=Drama&page=7\n",
      "...\n",
      "https://moviesdatabase.p.rapidapi.com/titles?year=1998&genre=Drama&page=8\n",
      "...\n",
      "https://moviesdatabase.p.rapidapi.com/titles?year=1998&genre=Drama&page=9\n",
      "...\n",
      "https://moviesdatabase.p.rapidapi.com/titles?year=1998&genre=Drama&page=10\n",
      "...\n",
      "https://moviesdatabase.p.rapidapi.com/titles?year=1999&genre=Drama&page=1\n",
      "...\n",
      "https://moviesdatabase.p.rapidapi.com/titles?year=1999&genre=Drama&page=2\n",
      "...\n",
      "https://moviesdatabase.p.rapidapi.com/titles?year=1999&genre=Drama&page=3\n",
      "...\n",
      "https://moviesdatabase.p.rapidapi.com/titles?year=1999&genre=Drama&page=4\n",
      "...\n",
      "https://moviesdatabase.p.rapidapi.com/titles?year=1999&genre=Drama&page=5\n",
      "...\n",
      "https://moviesdatabase.p.rapidapi.com/titles?year=1999&genre=Drama&page=6\n",
      "...\n",
      "https://moviesdatabase.p.rapidapi.com/titles?year=1999&genre=Drama&page=7\n",
      "...\n",
      "https://moviesdatabase.p.rapidapi.com/titles?year=1999&genre=Drama&page=8\n",
      "...\n",
      "https://moviesdatabase.p.rapidapi.com/titles?year=1999&genre=Drama&page=9\n",
      "...\n",
      "https://moviesdatabase.p.rapidapi.com/titles?year=1999&genre=Drama&page=10\n",
      "...\n",
      "https://moviesdatabase.p.rapidapi.com/titles?year=1990&genre=Comedy&page=1\n",
      "...\n",
      "https://moviesdatabase.p.rapidapi.com/titles?year=1990&genre=Comedy&page=2\n",
      "...\n",
      "https://moviesdatabase.p.rapidapi.com/titles?year=1990&genre=Comedy&page=3\n",
      "...\n",
      "https://moviesdatabase.p.rapidapi.com/titles?year=1990&genre=Comedy&page=4\n",
      "...\n",
      "https://moviesdatabase.p.rapidapi.com/titles?year=1990&genre=Comedy&page=5\n",
      "...\n",
      "https://moviesdatabase.p.rapidapi.com/titles?year=1990&genre=Comedy&page=6\n",
      "...\n",
      "https://moviesdatabase.p.rapidapi.com/titles?year=1990&genre=Comedy&page=7\n",
      "...\n",
      "https://moviesdatabase.p.rapidapi.com/titles?year=1990&genre=Comedy&page=8\n",
      "...\n",
      "https://moviesdatabase.p.rapidapi.com/titles?year=1990&genre=Comedy&page=9\n",
      "...\n",
      "https://moviesdatabase.p.rapidapi.com/titles?year=1990&genre=Comedy&page=10\n",
      "...\n",
      "https://moviesdatabase.p.rapidapi.com/titles?year=1991&genre=Comedy&page=1\n",
      "...\n",
      "https://moviesdatabase.p.rapidapi.com/titles?year=1991&genre=Comedy&page=2\n",
      "...\n",
      "https://moviesdatabase.p.rapidapi.com/titles?year=1991&genre=Comedy&page=3\n",
      "...\n",
      "https://moviesdatabase.p.rapidapi.com/titles?year=1991&genre=Comedy&page=4\n",
      "...\n",
      "https://moviesdatabase.p.rapidapi.com/titles?year=1991&genre=Comedy&page=5\n",
      "...\n",
      "https://moviesdatabase.p.rapidapi.com/titles?year=1991&genre=Comedy&page=6\n",
      "...\n",
      "https://moviesdatabase.p.rapidapi.com/titles?year=1991&genre=Comedy&page=7\n",
      "...\n",
      "https://moviesdatabase.p.rapidapi.com/titles?year=1991&genre=Comedy&page=8\n",
      "...\n",
      "https://moviesdatabase.p.rapidapi.com/titles?year=1991&genre=Comedy&page=9\n",
      "...\n",
      "https://moviesdatabase.p.rapidapi.com/titles?year=1991&genre=Comedy&page=10\n",
      "...\n",
      "https://moviesdatabase.p.rapidapi.com/titles?year=1992&genre=Comedy&page=1\n",
      "...\n",
      "https://moviesdatabase.p.rapidapi.com/titles?year=1992&genre=Comedy&page=2\n",
      "...\n",
      "https://moviesdatabase.p.rapidapi.com/titles?year=1992&genre=Comedy&page=3\n",
      "...\n",
      "https://moviesdatabase.p.rapidapi.com/titles?year=1992&genre=Comedy&page=4\n",
      "...\n",
      "https://moviesdatabase.p.rapidapi.com/titles?year=1992&genre=Comedy&page=5\n",
      "...\n",
      "https://moviesdatabase.p.rapidapi.com/titles?year=1992&genre=Comedy&page=6\n",
      "...\n",
      "https://moviesdatabase.p.rapidapi.com/titles?year=1992&genre=Comedy&page=7\n",
      "...\n",
      "https://moviesdatabase.p.rapidapi.com/titles?year=1992&genre=Comedy&page=8\n",
      "...\n",
      "https://moviesdatabase.p.rapidapi.com/titles?year=1992&genre=Comedy&page=9\n",
      "...\n",
      "https://moviesdatabase.p.rapidapi.com/titles?year=1992&genre=Comedy&page=10\n",
      "...\n",
      "https://moviesdatabase.p.rapidapi.com/titles?year=1993&genre=Comedy&page=1\n",
      "...\n",
      "https://moviesdatabase.p.rapidapi.com/titles?year=1993&genre=Comedy&page=2\n",
      "...\n",
      "https://moviesdatabase.p.rapidapi.com/titles?year=1993&genre=Comedy&page=3\n",
      "...\n",
      "https://moviesdatabase.p.rapidapi.com/titles?year=1993&genre=Comedy&page=4\n",
      "...\n",
      "https://moviesdatabase.p.rapidapi.com/titles?year=1993&genre=Comedy&page=5\n",
      "...\n",
      "https://moviesdatabase.p.rapidapi.com/titles?year=1993&genre=Comedy&page=6\n",
      "...\n",
      "https://moviesdatabase.p.rapidapi.com/titles?year=1993&genre=Comedy&page=7\n",
      "...\n",
      "https://moviesdatabase.p.rapidapi.com/titles?year=1993&genre=Comedy&page=8\n",
      "...\n",
      "https://moviesdatabase.p.rapidapi.com/titles?year=1993&genre=Comedy&page=9\n",
      "...\n",
      "https://moviesdatabase.p.rapidapi.com/titles?year=1993&genre=Comedy&page=10\n",
      "...\n",
      "https://moviesdatabase.p.rapidapi.com/titles?year=1994&genre=Comedy&page=1\n",
      "...\n",
      "https://moviesdatabase.p.rapidapi.com/titles?year=1994&genre=Comedy&page=2\n",
      "...\n",
      "https://moviesdatabase.p.rapidapi.com/titles?year=1994&genre=Comedy&page=3\n",
      "...\n",
      "https://moviesdatabase.p.rapidapi.com/titles?year=1994&genre=Comedy&page=4\n",
      "...\n",
      "https://moviesdatabase.p.rapidapi.com/titles?year=1994&genre=Comedy&page=5\n",
      "...\n",
      "https://moviesdatabase.p.rapidapi.com/titles?year=1994&genre=Comedy&page=6\n",
      "...\n",
      "https://moviesdatabase.p.rapidapi.com/titles?year=1994&genre=Comedy&page=7\n",
      "...\n",
      "https://moviesdatabase.p.rapidapi.com/titles?year=1994&genre=Comedy&page=8\n",
      "...\n",
      "https://moviesdatabase.p.rapidapi.com/titles?year=1994&genre=Comedy&page=9\n",
      "...\n",
      "https://moviesdatabase.p.rapidapi.com/titles?year=1994&genre=Comedy&page=10\n",
      "...\n",
      "https://moviesdatabase.p.rapidapi.com/titles?year=1995&genre=Comedy&page=1\n",
      "...\n",
      "https://moviesdatabase.p.rapidapi.com/titles?year=1995&genre=Comedy&page=2\n",
      "...\n",
      "https://moviesdatabase.p.rapidapi.com/titles?year=1995&genre=Comedy&page=3\n",
      "...\n",
      "https://moviesdatabase.p.rapidapi.com/titles?year=1995&genre=Comedy&page=4\n",
      "...\n",
      "https://moviesdatabase.p.rapidapi.com/titles?year=1995&genre=Comedy&page=5\n",
      "...\n",
      "https://moviesdatabase.p.rapidapi.com/titles?year=1995&genre=Comedy&page=6\n",
      "...\n",
      "https://moviesdatabase.p.rapidapi.com/titles?year=1995&genre=Comedy&page=7\n",
      "...\n",
      "https://moviesdatabase.p.rapidapi.com/titles?year=1995&genre=Comedy&page=8\n",
      "...\n",
      "https://moviesdatabase.p.rapidapi.com/titles?year=1995&genre=Comedy&page=9\n",
      "...\n",
      "https://moviesdatabase.p.rapidapi.com/titles?year=1995&genre=Comedy&page=10\n",
      "...\n",
      "https://moviesdatabase.p.rapidapi.com/titles?year=1996&genre=Comedy&page=1\n",
      "...\n",
      "https://moviesdatabase.p.rapidapi.com/titles?year=1996&genre=Comedy&page=2\n",
      "...\n",
      "https://moviesdatabase.p.rapidapi.com/titles?year=1996&genre=Comedy&page=3\n",
      "...\n",
      "https://moviesdatabase.p.rapidapi.com/titles?year=1996&genre=Comedy&page=4\n",
      "...\n",
      "https://moviesdatabase.p.rapidapi.com/titles?year=1996&genre=Comedy&page=5\n",
      "...\n",
      "https://moviesdatabase.p.rapidapi.com/titles?year=1996&genre=Comedy&page=6\n",
      "...\n",
      "https://moviesdatabase.p.rapidapi.com/titles?year=1996&genre=Comedy&page=7\n",
      "...\n",
      "https://moviesdatabase.p.rapidapi.com/titles?year=1996&genre=Comedy&page=8\n",
      "...\n",
      "https://moviesdatabase.p.rapidapi.com/titles?year=1996&genre=Comedy&page=9\n",
      "...\n",
      "https://moviesdatabase.p.rapidapi.com/titles?year=1996&genre=Comedy&page=10\n",
      "...\n",
      "https://moviesdatabase.p.rapidapi.com/titles?year=1997&genre=Comedy&page=1\n",
      "...\n",
      "https://moviesdatabase.p.rapidapi.com/titles?year=1997&genre=Comedy&page=2\n",
      "...\n",
      "https://moviesdatabase.p.rapidapi.com/titles?year=1997&genre=Comedy&page=3\n",
      "...\n",
      "https://moviesdatabase.p.rapidapi.com/titles?year=1997&genre=Comedy&page=4\n",
      "...\n",
      "https://moviesdatabase.p.rapidapi.com/titles?year=1997&genre=Comedy&page=5\n",
      "...\n",
      "https://moviesdatabase.p.rapidapi.com/titles?year=1997&genre=Comedy&page=6\n",
      "...\n",
      "https://moviesdatabase.p.rapidapi.com/titles?year=1997&genre=Comedy&page=7\n",
      "...\n",
      "https://moviesdatabase.p.rapidapi.com/titles?year=1997&genre=Comedy&page=8\n",
      "...\n",
      "https://moviesdatabase.p.rapidapi.com/titles?year=1997&genre=Comedy&page=9\n",
      "...\n",
      "https://moviesdatabase.p.rapidapi.com/titles?year=1997&genre=Comedy&page=10\n",
      "...\n",
      "https://moviesdatabase.p.rapidapi.com/titles?year=1998&genre=Comedy&page=1\n",
      "...\n",
      "https://moviesdatabase.p.rapidapi.com/titles?year=1998&genre=Comedy&page=2\n",
      "...\n",
      "https://moviesdatabase.p.rapidapi.com/titles?year=1998&genre=Comedy&page=3\n",
      "...\n",
      "https://moviesdatabase.p.rapidapi.com/titles?year=1998&genre=Comedy&page=4\n",
      "...\n",
      "https://moviesdatabase.p.rapidapi.com/titles?year=1998&genre=Comedy&page=5\n",
      "...\n",
      "https://moviesdatabase.p.rapidapi.com/titles?year=1998&genre=Comedy&page=6\n",
      "...\n",
      "https://moviesdatabase.p.rapidapi.com/titles?year=1998&genre=Comedy&page=7\n",
      "...\n",
      "https://moviesdatabase.p.rapidapi.com/titles?year=1998&genre=Comedy&page=8\n",
      "...\n",
      "https://moviesdatabase.p.rapidapi.com/titles?year=1998&genre=Comedy&page=9\n",
      "...\n",
      "https://moviesdatabase.p.rapidapi.com/titles?year=1998&genre=Comedy&page=10\n",
      "...\n",
      "https://moviesdatabase.p.rapidapi.com/titles?year=1999&genre=Comedy&page=1\n",
      "...\n",
      "https://moviesdatabase.p.rapidapi.com/titles?year=1999&genre=Comedy&page=2\n",
      "...\n",
      "https://moviesdatabase.p.rapidapi.com/titles?year=1999&genre=Comedy&page=3\n",
      "...\n",
      "https://moviesdatabase.p.rapidapi.com/titles?year=1999&genre=Comedy&page=4\n",
      "...\n",
      "https://moviesdatabase.p.rapidapi.com/titles?year=1999&genre=Comedy&page=5\n",
      "...\n",
      "https://moviesdatabase.p.rapidapi.com/titles?year=1999&genre=Comedy&page=6\n",
      "...\n",
      "https://moviesdatabase.p.rapidapi.com/titles?year=1999&genre=Comedy&page=7\n",
      "...\n",
      "https://moviesdatabase.p.rapidapi.com/titles?year=1999&genre=Comedy&page=8\n",
      "...\n",
      "https://moviesdatabase.p.rapidapi.com/titles?year=1999&genre=Comedy&page=9\n",
      "...\n",
      "https://moviesdatabase.p.rapidapi.com/titles?year=1999&genre=Comedy&page=10\n",
      "...\n"
     ]
    }
   ],
   "source": [
    "import re\n",
    "genres = [\"Drama\", \"Comedy\"]\n",
    "\n",
    "\n",
    "\n",
    "for genre in genres: \n",
    "\n",
    "    for year in range(1990, 2000):\n",
    "\n",
    "        for page in range(1, 11): #son 10 paginas máximo (comprobar en la documentación de rapidapi)\n",
    "\n",
    "            url = f\"https://moviesdatabase.p.rapidapi.com/titles?year={year}&genre={genre}&page={page}\"\n",
    "            print(url)\n",
    "            print(\"...\")\n",
    "#Si la pagina esta vacia, no llega a 10. BREAK \n",
    "\n",
    "#     url = \"https://moviesdatabase.p.rapidapi.com/titles\"\n",
    "\n",
    "#     querystring = {\"genre\": genres ,\"startYear\":year,\"endYear\":year}\n",
    "\n",
    "#     headers = {\n",
    "#         \"X-RapidAPI-Key\": \"28a3c3ab32msha5ca6e00170b6c7p197d01jsn44c7f725210a\",\n",
    "#         \"X-RapidAPI-Host\": \"moviesdatabase.p.rapidapi.com\"\n",
    "#     }\n",
    "\n",
    "#     response = requests.get(url, headers=headers, params=querystring)\n",
    "# print()"
   ]
  }
 ],
 "metadata": {
  "kernelspec": {
   "display_name": "base",
   "language": "python",
   "name": "python3"
  },
  "language_info": {
   "codemirror_mode": {
    "name": "ipython",
    "version": 3
   },
   "file_extension": ".py",
   "mimetype": "text/x-python",
   "name": "python",
   "nbconvert_exporter": "python",
   "pygments_lexer": "ipython3",
   "version": "3.11.5"
  },
  "orig_nbformat": 4
 },
 "nbformat": 4,
 "nbformat_minor": 2
}
