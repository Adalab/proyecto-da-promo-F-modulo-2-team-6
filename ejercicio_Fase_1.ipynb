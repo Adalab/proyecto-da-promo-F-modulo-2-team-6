{
 "cells": [
  {
   "cell_type": "code",
   "execution_count": 11,
   "metadata": {},
   "outputs": [],
   "source": [
    "import requests\n",
    "import pandas as pd"
   ]
  },
  {
   "cell_type": "code",
   "execution_count": 12,
   "metadata": {},
   "outputs": [
    {
     "ename": "NameError",
     "evalue": "name 'response' is not defined",
     "output_type": "error",
     "traceback": [
      "\u001b[0;31m---------------------------------------------------------------------------\u001b[0m",
      "\u001b[0;31mNameError\u001b[0m                                 Traceback (most recent call last)",
      "\u001b[1;32m/Users/margaritaobrador/Adalab/Module-2/Proyecto/proyecto-da-promo-F-modulo-2-team-6/ejercicio_Fase_1.ipynb Cell 2\u001b[0m line \u001b[0;36m1\n\u001b[0;32m----> <a href='vscode-notebook-cell:/Users/margaritaobrador/Adalab/Module-2/Proyecto/proyecto-da-promo-F-modulo-2-team-6/ejercicio_Fase_1.ipynb#W1sZmlsZQ%3D%3D?line=0'>1</a>\u001b[0m response\u001b[39m.\u001b[39mjson()\u001b[39m.\u001b[39mkeys()\n",
      "\u001b[0;31mNameError\u001b[0m: name 'response' is not defined"
     ]
    }
   ],
   "source": [
    "response.json().keys()"
   ]
  },
  {
   "cell_type": "code",
   "execution_count": 15,
   "metadata": {},
   "outputs": [
    {
     "ename": "KeyError",
     "evalue": "'results'",
     "output_type": "error",
     "traceback": [
      "\u001b[0;31m---------------------------------------------------------------------------\u001b[0m",
      "\u001b[0;31mKeyError\u001b[0m                                  Traceback (most recent call last)",
      "\u001b[1;32m/Users/margaritaobrador/Adalab/Module-2/Proyecto/proyecto-da-promo-F-modulo-2-team-6/ejercicio_Fase_1.ipynb Cell 3\u001b[0m line \u001b[0;36m1\n\u001b[0;32m----> <a href='vscode-notebook-cell:/Users/margaritaobrador/Adalab/Module-2/Proyecto/proyecto-da-promo-F-modulo-2-team-6/ejercicio_Fase_1.ipynb#W2sZmlsZQ%3D%3D?line=0'>1</a>\u001b[0m response\u001b[39m.\u001b[39mjson()[\u001b[39m\"\u001b[39m\u001b[39mresults\u001b[39m\u001b[39m\"\u001b[39m]\n",
      "\u001b[0;31mKeyError\u001b[0m: 'results'"
     ]
    }
   ],
   "source": [
    "response.json()[\"results\"]"
   ]
  },
  {
   "cell_type": "code",
   "execution_count": 14,
   "metadata": {},
   "outputs": [
    {
     "name": "stdout",
     "output_type": "stream",
     "text": [
      "{'message': 'You have exceeded the rate limit per hour for your plan, BASIC, by the API provider'}\n"
     ]
    }
   ],
   "source": [
    "#películas de drama desde 1990 a 2022.\n",
    "\n",
    "import requests\n",
    "\n",
    "url = \"https://moviesdatabase.p.rapidapi.com/titles\"\n",
    "\n",
    "querystring = {\"genre\":\"Drama\",\"startYear\":\"1990\",\"endYear\":\"2022\"}\n",
    "\n",
    "headers = {\n",
    "\t\"X-RapidAPI-Key\": \"47608e078dmsha9428889aafcc0ap1afc77jsn6e04b24d521c\",\n",
    "\t\"X-RapidAPI-Host\": \"moviesdatabase.p.rapidapi.com\"\n",
    "}\n",
    "\n",
    "response = requests.get(url, headers=headers, params=querystring)\n",
    "\n",
    "print(response.json())"
   ]
  },
  {
   "cell_type": "code",
   "execution_count": null,
   "metadata": {},
   "outputs": [],
   "source": [
    "respuesta_drama = response.json()\n",
    "respuesta_drama[\"results\"] [0].keys()\n"
   ]
  },
  {
   "cell_type": "code",
   "execution_count": null,
   "metadata": {},
   "outputs": [],
   "source": [
    "respuesta_drama[\"results\"][0][\"titleType\"][\"text\"] #Aquí nos dice el tipo."
   ]
  },
  {
   "cell_type": "code",
   "execution_count": null,
   "metadata": {},
   "outputs": [],
   "source": [
    "respuesta_drama [\"results\"][0][\"titleText\"][\"text\"] #Aquí nos da el nombre de la película."
   ]
  },
  {
   "cell_type": "code",
   "execution_count": null,
   "metadata": {},
   "outputs": [],
   "source": [
    "respuesta_drama [\"results\"][0][\"releaseDate\"][\"month\"]"
   ]
  },
  {
   "cell_type": "code",
   "execution_count": null,
   "metadata": {},
   "outputs": [],
   "source": [
    "respuesta_drama [\"results\"][0][\"releaseDate\"][\"year\"]"
   ]
  },
  {
   "cell_type": "code",
   "execution_count": null,
   "metadata": {},
   "outputs": [],
   "source": [
    "respuesta_drama [\"results\"][0][\"id\"]"
   ]
  },
  {
   "cell_type": "code",
   "execution_count": null,
   "metadata": {},
   "outputs": [],
   "source": [
    "respuesta_drama[\"results\"][0]"
   ]
  },
  {
   "cell_type": "code",
   "execution_count": null,
   "metadata": {},
   "outputs": [
    {
     "ename": "NameError",
     "evalue": "name 'respuesta_drama' is not defined",
     "output_type": "error",
     "traceback": [
      "\u001b[0;31m---------------------------------------------------------------------------\u001b[0m",
      "\u001b[0;31mNameError\u001b[0m                                 Traceback (most recent call last)",
      "\u001b[1;32m/Users/margaritaobrador/Adalab/Module-2/Proyecto/proyecto-da-promo-F-modulo-2-team-6/ejercicio_Fase_1.ipynb Cell 12\u001b[0m line \u001b[0;36m1\n\u001b[0;32m----> <a href='vscode-notebook-cell:/Users/margaritaobrador/Adalab/Module-2/Proyecto/proyecto-da-promo-F-modulo-2-team-6/ejercicio_Fase_1.ipynb#X14sZmlsZQ%3D%3D?line=0'>1</a>\u001b[0m lista_de_diccionarios \u001b[39m=\u001b[39m respuesta_drama[\u001b[39m\"\u001b[39m\u001b[39mresults\u001b[39m\u001b[39m\"\u001b[39m]\n",
      "\u001b[0;31mNameError\u001b[0m: name 'respuesta_drama' is not defined"
     ]
    }
   ],
   "source": [
    "lista_de_diccionarios = respuesta_drama[\"results\"]"
   ]
  },
  {
   "cell_type": "code",
   "execution_count": null,
   "metadata": {},
   "outputs": [
    {
     "ename": "NameError",
     "evalue": "name 'lista_de_diccionarios' is not defined",
     "output_type": "error",
     "traceback": [
      "\u001b[0;31m---------------------------------------------------------------------------\u001b[0m",
      "\u001b[0;31mNameError\u001b[0m                                 Traceback (most recent call last)",
      "\u001b[1;32m/Users/margaritaobrador/Adalab/Module-2/Proyecto/proyecto-da-promo-F-modulo-2-team-6/ejercicio_Fase_1.ipynb Cell 13\u001b[0m line \u001b[0;36m3\n\u001b[1;32m      <a href='vscode-notebook-cell:/Users/margaritaobrador/Adalab/Module-2/Proyecto/proyecto-da-promo-F-modulo-2-team-6/ejercicio_Fase_1.ipynb#X15sZmlsZQ%3D%3D?line=0'>1</a>\u001b[0m lista_peliculas \u001b[39m=\u001b[39m []\n\u001b[0;32m----> <a href='vscode-notebook-cell:/Users/margaritaobrador/Adalab/Module-2/Proyecto/proyecto-da-promo-F-modulo-2-team-6/ejercicio_Fase_1.ipynb#X15sZmlsZQ%3D%3D?line=2'>3</a>\u001b[0m \u001b[39mfor\u001b[39;00m datos \u001b[39min\u001b[39;00m lista_de_diccionarios: \n\u001b[1;32m      <a href='vscode-notebook-cell:/Users/margaritaobrador/Adalab/Module-2/Proyecto/proyecto-da-promo-F-modulo-2-team-6/ejercicio_Fase_1.ipynb#X15sZmlsZQ%3D%3D?line=3'>4</a>\u001b[0m     \u001b[39m#lista que usamos para ir appendeando toda la información de abajo /cada peli y será una lista \"de paso\"\u001b[39;00m\n\u001b[1;32m      <a href='vscode-notebook-cell:/Users/margaritaobrador/Adalab/Module-2/Proyecto/proyecto-da-promo-F-modulo-2-team-6/ejercicio_Fase_1.ipynb#X15sZmlsZQ%3D%3D?line=4'>5</a>\u001b[0m     lista_consumible \u001b[39m=\u001b[39m []\n\u001b[1;32m      <a href='vscode-notebook-cell:/Users/margaritaobrador/Adalab/Module-2/Proyecto/proyecto-da-promo-F-modulo-2-team-6/ejercicio_Fase_1.ipynb#X15sZmlsZQ%3D%3D?line=5'>6</a>\u001b[0m     \u001b[39m# aqui creamos las variables con las \"rutas \" que hemos ido buscando arriba /dentro del json \u001b[39;00m\n",
      "\u001b[0;31mNameError\u001b[0m: name 'lista_de_diccionarios' is not defined"
     ]
    }
   ],
   "source": [
    "lista_peliculas = []\n",
    "\n",
    "for datos in lista_de_diccionarios: \n",
    "    #lista que usamos para ir appendeando toda la información de abajo /cada peli y será una lista \"de paso\"\n",
    "    lista_consumible = []\n",
    "    # aqui creamos las variables con las \"rutas \" que hemos ido buscando arriba /dentro del json \n",
    "    tipo = datos[\"titleType\"][\"text\"]\n",
    "    texto = datos[\"titleText\"][\"text\"]\n",
    "    mes = datos[\"releaseDate\"][\"month\"]\n",
    "    anio = datos[\"releaseDate\"][\"year\"]\n",
    "    id = datos[\"id\"]\n",
    "\n",
    "    if tipo == \"Movie\" or tipo ==\"Short\":\n",
    "        lista_consumible.append(tipo)\n",
    "        lista_consumible.append(texto)\n",
    "        lista_consumible.append(mes)\n",
    "        lista_consumible.append(anio)\n",
    "        lista_consumible.append(id)\n",
    "\n",
    "\n",
    "        #Si la var está, entonces lo appendeamos a la tupla. Tiene q estar aqui dentro porque si esta fuera, irá creando tuplas vacías. \n",
    "        lista_peliculas.append(tuple(lista_consumible))\n",
    "    else: \n",
    "        pass\n",
    "\n",
    "\n",
    "\n",
    "\n",
    "\n",
    "    "
   ]
  },
  {
   "cell_type": "code",
   "execution_count": null,
   "metadata": {},
   "outputs": [],
   "source": [
    "lista_consumible"
   ]
  },
  {
   "cell_type": "code",
   "execution_count": null,
   "metadata": {},
   "outputs": [
    {
     "data": {
      "text/plain": [
       "[('Movie', 'Milli Vanilli', None, 2022, 'tt0965381'),\n",
       " ('Short', 'Kill Switch', 10, 2022, 'tt10001728'),\n",
       " ('Short', 'Siempre Yo', 3, 2022, 'tt10003926'),\n",
       " ('Movie', 'Laal Singh Chaddha', 8, 2022, 'tt10028196'),\n",
       " ('Movie', 'Darkling', 4, 2022, 'tt10047904'),\n",
       " ('Movie', 'Charlie Hustle', None, 2022, 'tt10049720')]"
      ]
     },
     "execution_count": 100,
     "metadata": {},
     "output_type": "execute_result"
    }
   ],
   "source": [
    "lista_peliculas"
   ]
  },
  {
   "cell_type": "code",
   "execution_count": null,
   "metadata": {},
   "outputs": [],
   "source": [
    "#películas de drama desde 1990 a 2022.\n",
    "\n",
    "import requests\n",
    "\n",
    "url = \"https://moviesdatabase.p.rapidapi.com/titles\"\n",
    "\n",
    "querystring = {\"genre\":\"Drama\",\"startYear\":\"1992\",\"endYear\":\"1992\"}\n",
    "\n",
    "headers = {\n",
    "\t\"X-RapidAPI-Key\": \"47608e078dmsha9428889aafcc0ap1afc77jsn6e04b24d521c\",\n",
    "\t\"X-RapidAPI-Host\": \"moviesdatabase.p.rapidapi.com\"\n",
    "}\n",
    "\n",
    "response = requests.get(url, headers=headers, params=querystring)\n",
    "\n",
    "print(response.json())"
   ]
  },
  {
   "cell_type": "markdown",
   "metadata": {},
   "source": [
    "ITERAR EN ORDEN POR \n",
    "GENERO\n",
    "AÑO\n",
    "PAGINA "
   ]
  },
  {
   "cell_type": "code",
   "execution_count": null,
   "metadata": {},
   "outputs": [],
   "source": [
    "import re\n",
    "genres = [\"Drama\", \"Comedy\"]\n",
    "\n",
    "\n",
    "\n",
    "for genre in genres: \n",
    "\n",
    "    for year in range(1990, 2000):\n",
    "\n",
    "        for page in range(1, 11): #son 10 paginas máximo (comprobar en la documentación de rapidapi)\n",
    "\n",
    "            url = f\"https://moviesdatabase.p.rapidapi.com/titles?year={year}&genre={genre}&page={page}\"\n",
    "            print(url)\n",
    "            print(\"...\")\n",
    "#Si la pagina esta vacia, no llega a 10. BREAK \n",
    "\n",
    "#     url = \"https://moviesdatabase.p.rapidapi.com/titles\"\n",
    "\n",
    "#     querystring = {\"genre\": genres ,\"startYear\":year,\"endYear\":year}\n",
    "\n",
    "#     headers = {\n",
    "#         \"X-RapidAPI-Key\": \"28a3c3ab32msha5ca6e00170b6c7p197d01jsn44c7f725210a\",\n",
    "#         \"X-RapidAPI-Host\": \"moviesdatabase.p.rapidapi.com\"\n",
    "#     }\n",
    "\n",
    "#     response = requests.get(url, headers=headers, params=querystring)\n",
    "# print()"
   ]
  }
 ],
 "metadata": {
  "kernelspec": {
   "display_name": "base",
   "language": "python",
   "name": "python3"
  },
  "language_info": {
   "codemirror_mode": {
    "name": "ipython",
    "version": 3
   },
   "file_extension": ".py",
   "mimetype": "text/x-python",
   "name": "python",
   "nbconvert_exporter": "python",
   "pygments_lexer": "ipython3",
   "version": "3.11.5"
  },
  "orig_nbformat": 4
 },
 "nbformat": 4,
 "nbformat_minor": 2
}
