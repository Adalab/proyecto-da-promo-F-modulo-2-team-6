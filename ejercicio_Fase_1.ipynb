{
 "cells": [
  {
   "cell_type": "code",
   "execution_count": 2,
   "metadata": {},
   "outputs": [],
   "source": [
    "import requests\n",
    "import pandas as pd"
   ]
  },
  {
   "cell_type": "code",
   "execution_count": 4,
   "metadata": {},
   "outputs": [
    {
     "data": {
      "text/plain": [
       "dict_keys(['page', 'next', 'entries', 'results'])"
      ]
     },
     "execution_count": 4,
     "metadata": {},
     "output_type": "execute_result"
    }
   ],
   "source": [
    "response.json().keys()"
   ]
  },
  {
   "cell_type": "code",
   "execution_count": 5,
   "metadata": {},
   "outputs": [
    {
     "data": {
      "text/plain": [
       "[{'_id': '61e584ead735dff3f9422c4b',\n",
       "  'id': 'tt0429087',\n",
       "  'primaryImage': {'id': 'rm3004956673',\n",
       "   'width': 675,\n",
       "   'height': 1000,\n",
       "   'url': 'https://m.media-amazon.com/images/M/MV5BMjU0ZmU1NTItNmRjNS00MjRkLWE0MDctYWMyNDY0YTA3ZDc4XkEyXkFqcGdeQXVyMDM2NDM2MQ@@._V1_.jpg',\n",
       "   'caption': {'plainText': 'Charlie Hunnam in Shantaram (2022)',\n",
       "    '__typename': 'Markdown'},\n",
       "   '__typename': 'Image'},\n",
       "  'titleType': {'text': 'TV Series',\n",
       "   'id': 'tvSeries',\n",
       "   'isSeries': True,\n",
       "   'isEpisode': False,\n",
       "   'categories': [{'value': 'tv', '__typename': 'TitleTypeCategory'}],\n",
       "   'canHaveEpisodes': True,\n",
       "   '__typename': 'TitleType'},\n",
       "  'titleText': {'text': 'Shantaram', '__typename': 'TitleText'},\n",
       "  'originalTitleText': {'text': 'Shantaram', '__typename': 'TitleText'},\n",
       "  'releaseYear': {'year': 2022, 'endYear': 2022, '__typename': 'YearRange'},\n",
       "  'releaseDate': {'day': 14,\n",
       "   'month': 10,\n",
       "   'year': 2022,\n",
       "   '__typename': 'ReleaseDate'}},\n",
       " {'_id': '61e58526b597b91eb9423a1f',\n",
       "  'id': 'tt0451272',\n",
       "  'primaryImage': {'id': 'rm3652042241',\n",
       "   'width': 2525,\n",
       "   'height': 3240,\n",
       "   'url': 'https://m.media-amazon.com/images/M/MV5BNzVkYWQ1ZGQtNmEyZC00N2VjLTgxNzQtNDI2MDBmZDlhZGRlXkEyXkFqcGdeQXVyNTg0MzE1MjQ@._V1_.jpg',\n",
       "   'caption': {'plainText': 'Kim Bodnia in Nefarious (2022)',\n",
       "    '__typename': 'Markdown'},\n",
       "   '__typename': 'Image'},\n",
       "  'titleType': {'text': 'Movie',\n",
       "   'id': 'movie',\n",
       "   'isSeries': False,\n",
       "   'isEpisode': False,\n",
       "   'categories': [{'value': 'movie', '__typename': 'TitleTypeCategory'}],\n",
       "   'canHaveEpisodes': False,\n",
       "   '__typename': 'TitleType'},\n",
       "  'titleText': {'text': 'Nefarious', '__typename': 'TitleText'},\n",
       "  'originalTitleText': {'text': 'Nefarious', '__typename': 'TitleText'},\n",
       "  'releaseYear': {'year': 2022, 'endYear': None, '__typename': 'YearRange'},\n",
       "  'releaseDate': {'day': None,\n",
       "   'month': None,\n",
       "   'year': 2022,\n",
       "   '__typename': 'ReleaseDate'}},\n",
       " {'_id': '61e58920d8f3c0931e431dcf',\n",
       "  'id': 'tt0808491',\n",
       "  'primaryImage': {'id': 'rm1496121601',\n",
       "   'width': 1500,\n",
       "   'height': 2125,\n",
       "   'url': 'https://m.media-amazon.com/images/M/MV5BYzYzN2MzNjgtOTFlMC00MzIzLWI0YjgtZGJiNzg5MzVkYjgwXkEyXkFqcGdeQXVyOTEwNTkyNjE@._V1_.jpg',\n",
       "   'caption': {'plainText': 'The Swarm (2022)', '__typename': 'Markdown'},\n",
       "   '__typename': 'Image'},\n",
       "  'titleType': {'text': 'TV Series',\n",
       "   'id': 'tvSeries',\n",
       "   'isSeries': True,\n",
       "   'isEpisode': False,\n",
       "   'categories': [{'value': 'tv', '__typename': 'TitleTypeCategory'}],\n",
       "   'canHaveEpisodes': True,\n",
       "   '__typename': 'TitleType'},\n",
       "  'titleText': {'text': 'The Swarm', '__typename': 'TitleText'},\n",
       "  'originalTitleText': {'text': 'The Swarm', '__typename': 'TitleText'},\n",
       "  'releaseYear': {'year': 2022, 'endYear': None, '__typename': 'YearRange'},\n",
       "  'releaseDate': {'day': None,\n",
       "   'month': None,\n",
       "   'year': 2022,\n",
       "   '__typename': 'ReleaseDate'}},\n",
       " {'_id': '61e589a8e1a8ddbd96433b79',\n",
       "  'id': 'tt0857466',\n",
       "  'primaryImage': {'id': 'rm3475839489',\n",
       "   'width': 1139,\n",
       "   'height': 775,\n",
       "   'url': 'https://m.media-amazon.com/images/M/MV5BODQzY2MzNWYtOTcwYi00OTZjLTk5NzgtMGJlYWU5N2YzYWIwXkEyXkFqcGdeQXVyMjQ5NzQ4NjM@._V1_.jpg',\n",
       "   'caption': {'plainText': 'American Experience (1987)',\n",
       "    '__typename': 'Markdown'},\n",
       "   '__typename': 'Image'},\n",
       "  'titleType': {'text': 'TV Episode',\n",
       "   'id': 'tvEpisode',\n",
       "   'isSeries': False,\n",
       "   'isEpisode': True,\n",
       "   'categories': [{'value': 'tv', '__typename': 'TitleTypeCategory'}],\n",
       "   'canHaveEpisodes': False,\n",
       "   '__typename': 'TitleType'},\n",
       "  'titleText': {'text': 'Riveted: The History of Jeans',\n",
       "   '__typename': 'TitleText'},\n",
       "  'originalTitleText': {'text': 'Riveted: The History of Jeans',\n",
       "   '__typename': 'TitleText'},\n",
       "  'releaseYear': {'year': 2022, 'endYear': None, '__typename': 'YearRange'},\n",
       "  'releaseDate': {'day': 7,\n",
       "   'month': 2,\n",
       "   'year': 2022,\n",
       "   '__typename': 'ReleaseDate'}},\n",
       " {'_id': '61e589ff8a5a6a599f435125',\n",
       "  'id': 'tt0887261',\n",
       "  'primaryImage': {'id': 'rm3621847809',\n",
       "   'width': 2025,\n",
       "   'height': 3000,\n",
       "   'url': 'https://m.media-amazon.com/images/M/MV5BYWM1YTgxNjMtNzY2NC00YjVmLWE1ODUtNTdiYTI4YjZhODMwXkEyXkFqcGdeQXVyMTUzMTg2ODkz._V1_.jpg',\n",
       "   'caption': {'plainText': 'Jamie Clayton in Hellraiser (2022)',\n",
       "    '__typename': 'Markdown'},\n",
       "   '__typename': 'Image'},\n",
       "  'titleType': {'text': 'Movie',\n",
       "   'id': 'movie',\n",
       "   'isSeries': False,\n",
       "   'isEpisode': False,\n",
       "   'categories': [{'value': 'movie', '__typename': 'TitleTypeCategory'}],\n",
       "   'canHaveEpisodes': False,\n",
       "   '__typename': 'TitleType'},\n",
       "  'titleText': {'text': 'Hellraiser', '__typename': 'TitleText'},\n",
       "  'originalTitleText': {'text': 'Hellraiser', '__typename': 'TitleText'},\n",
       "  'releaseYear': {'year': 2022, 'endYear': None, '__typename': 'YearRange'},\n",
       "  'releaseDate': {'day': 7,\n",
       "   'month': 10,\n",
       "   'year': 2022,\n",
       "   '__typename': 'ReleaseDate'}},\n",
       " {'_id': '61e58ad2ef99b1c5434380e1',\n",
       "  'id': 'tt0965381',\n",
       "  'primaryImage': {'id': 'rm3017329409',\n",
       "   'width': 3508,\n",
       "   'height': 4961,\n",
       "   'url': 'https://m.media-amazon.com/images/M/MV5BODgzZDk1NzEtODhkYi00NTJhLWJjYTUtNTMxY2I3MDg3ZmE0XkEyXkFqcGdeQXVyNDI3OTE4ODE@._V1_.jpg',\n",
       "   'caption': {'plainText': 'Milli Vanilli (2022)', '__typename': 'Markdown'},\n",
       "   '__typename': 'Image'},\n",
       "  'titleType': {'text': 'Movie',\n",
       "   'id': 'movie',\n",
       "   'isSeries': False,\n",
       "   'isEpisode': False,\n",
       "   'categories': [{'value': 'movie', '__typename': 'TitleTypeCategory'}],\n",
       "   'canHaveEpisodes': False,\n",
       "   '__typename': 'TitleType'},\n",
       "  'titleText': {'text': 'Milli Vanilli', '__typename': 'TitleText'},\n",
       "  'originalTitleText': {'text': 'Milli Vanilli', '__typename': 'TitleText'},\n",
       "  'releaseYear': {'year': 2022, 'endYear': None, '__typename': 'YearRange'},\n",
       "  'releaseDate': {'day': None,\n",
       "   'month': None,\n",
       "   'year': 2022,\n",
       "   '__typename': 'ReleaseDate'}},\n",
       " {'_id': '61e58b2ea66e5964234395bd',\n",
       "  'id': 'tt10001728',\n",
       "  'primaryImage': {'id': 'rm3808227585',\n",
       "   'width': 1200,\n",
       "   'height': 1584,\n",
       "   'url': 'https://m.media-amazon.com/images/M/MV5BNDFmZDljNWYtMWY4Zi00YWI3LWFjOTgtOWFhYTBmN2EzZWIwXkEyXkFqcGdeQXVyNDE4NTE4MQ@@._V1_.jpg',\n",
       "   'caption': {'plainText': 'Kill Switch (2022)', '__typename': 'Markdown'},\n",
       "   '__typename': 'Image'},\n",
       "  'titleType': {'text': 'Short',\n",
       "   'id': 'short',\n",
       "   'isSeries': False,\n",
       "   'isEpisode': False,\n",
       "   '__typename': 'TitleType'},\n",
       "  'titleText': {'text': 'Kill Switch', '__typename': 'TitleText'},\n",
       "  'originalTitleText': {'text': 'Kill Switch', '__typename': 'TitleText'},\n",
       "  'releaseYear': {'year': 2022, 'endYear': None, '__typename': 'YearRange'},\n",
       "  'releaseDate': {'day': None,\n",
       "   'month': 10,\n",
       "   'year': 2022,\n",
       "   '__typename': 'ReleaseDate'}},\n",
       " {'_id': '61e58b3378c012aa34439601',\n",
       "  'id': 'tt10003926',\n",
       "  'primaryImage': {'id': 'rm2662392577',\n",
       "   'width': 1200,\n",
       "   'height': 1822,\n",
       "   'url': 'https://m.media-amazon.com/images/M/MV5BZjMzMWFlMzQtN2Y1NC00YWNjLWE4ZTctM2U5M2Q3OTM0ZThkXkEyXkFqcGdeQXVyMjIwMTAzNzU@._V1_.jpg',\n",
       "   'caption': {'plainText': 'Fermí Reixach in Siempre Yo (2022)',\n",
       "    '__typename': 'Markdown'},\n",
       "   '__typename': 'Image'},\n",
       "  'titleType': {'text': 'Short',\n",
       "   'id': 'short',\n",
       "   'isSeries': False,\n",
       "   'isEpisode': False,\n",
       "   'categories': [{'value': 'movie', '__typename': 'TitleTypeCategory'}],\n",
       "   'canHaveEpisodes': False,\n",
       "   '__typename': 'TitleType'},\n",
       "  'titleText': {'text': 'Siempre Yo', '__typename': 'TitleText'},\n",
       "  'originalTitleText': {'text': 'Siempre Yo', '__typename': 'TitleText'},\n",
       "  'releaseYear': {'year': 2022, 'endYear': None, '__typename': 'YearRange'},\n",
       "  'releaseDate': {'day': 1,\n",
       "   'month': 3,\n",
       "   'year': 2022,\n",
       "   '__typename': 'ReleaseDate'}},\n",
       " {'_id': '61e58b3de1a8ddbd964399cb',\n",
       "  'id': 'tt10011306',\n",
       "  'primaryImage': {'id': 'rm1763446785',\n",
       "   'width': 1500,\n",
       "   'height': 2222,\n",
       "   'url': 'https://m.media-amazon.com/images/M/MV5BMmQ0OWQyZjUtMmM5ZS00NjAyLWE1YmEtZThjMTlkNjgzMWJkXkEyXkFqcGdeQXVyMTEzMTI1Mjk3._V1_.jpg',\n",
       "   'caption': {'plainText': 'Spriggan (2022)', '__typename': 'Markdown'},\n",
       "   '__typename': 'Image'},\n",
       "  'titleType': {'text': 'TV Series',\n",
       "   'id': 'tvSeries',\n",
       "   'isSeries': True,\n",
       "   'isEpisode': False,\n",
       "   'categories': [{'value': 'tv', '__typename': 'TitleTypeCategory'}],\n",
       "   'canHaveEpisodes': True,\n",
       "   '__typename': 'TitleType'},\n",
       "  'titleText': {'text': 'Spriggan', '__typename': 'TitleText'},\n",
       "  'originalTitleText': {'text': 'Spriggan', '__typename': 'TitleText'},\n",
       "  'releaseYear': {'year': 2022, 'endYear': None, '__typename': 'YearRange'},\n",
       "  'releaseDate': {'day': 18,\n",
       "   'month': 6,\n",
       "   'year': 2022,\n",
       "   '__typename': 'ReleaseDate'}},\n",
       " {'_id': '61e58b3f971a4a15d6439b17',\n",
       "  'id': 'tt10011314',\n",
       "  'primaryImage': {'id': 'rm2727614721',\n",
       "   'width': 1500,\n",
       "   'height': 2172,\n",
       "   'url': 'https://m.media-amazon.com/images/M/MV5BZWE5ODc4MzMtYWI2OC00M2M2LWI3MTctODFiZWRjMzJjYzIzXkEyXkFqcGdeQXVyMTEzMTI1Mjk3._V1_.jpg',\n",
       "   'caption': {'plainText': 'Vampire in the Garden (2022)',\n",
       "    '__typename': 'Markdown'},\n",
       "   '__typename': 'Image'},\n",
       "  'titleType': {'text': 'TV Series',\n",
       "   'id': 'tvSeries',\n",
       "   'isSeries': True,\n",
       "   'isEpisode': False,\n",
       "   'categories': [{'value': 'tv', '__typename': 'TitleTypeCategory'}],\n",
       "   'canHaveEpisodes': True,\n",
       "   '__typename': 'TitleType'},\n",
       "  'titleText': {'text': 'Vampire in the Garden', '__typename': 'TitleText'},\n",
       "  'originalTitleText': {'text': 'Vampire in the Garden',\n",
       "   '__typename': 'TitleText'},\n",
       "  'releaseYear': {'year': 2022, 'endYear': 2022, '__typename': 'YearRange'},\n",
       "  'releaseDate': {'day': 16,\n",
       "   'month': 5,\n",
       "   'year': 2022,\n",
       "   '__typename': 'ReleaseDate'}}]"
      ]
     },
     "execution_count": 5,
     "metadata": {},
     "output_type": "execute_result"
    }
   ],
   "source": [
    "response.json()[\"results\"]"
   ]
  },
  {
   "cell_type": "code",
   "execution_count": 6,
   "metadata": {},
   "outputs": [
    {
     "name": "stdout",
     "output_type": "stream",
     "text": [
      "{'page': 1, 'next': '/titles?endYear=2022&startYear=1990&genre=Drama&page=2', 'entries': 10, 'results': [{'_id': '61e584ead735dff3f9422c4b', 'id': 'tt0429087', 'primaryImage': {'id': 'rm3004956673', 'width': 675, 'height': 1000, 'url': 'https://m.media-amazon.com/images/M/MV5BMjU0ZmU1NTItNmRjNS00MjRkLWE0MDctYWMyNDY0YTA3ZDc4XkEyXkFqcGdeQXVyMDM2NDM2MQ@@._V1_.jpg', 'caption': {'plainText': 'Charlie Hunnam in Shantaram (2022)', '__typename': 'Markdown'}, '__typename': 'Image'}, 'titleType': {'text': 'TV Series', 'id': 'tvSeries', 'isSeries': True, 'isEpisode': False, 'categories': [{'value': 'tv', '__typename': 'TitleTypeCategory'}], 'canHaveEpisodes': True, '__typename': 'TitleType'}, 'titleText': {'text': 'Shantaram', '__typename': 'TitleText'}, 'originalTitleText': {'text': 'Shantaram', '__typename': 'TitleText'}, 'releaseYear': {'year': 2022, 'endYear': 2022, '__typename': 'YearRange'}, 'releaseDate': {'day': 14, 'month': 10, 'year': 2022, '__typename': 'ReleaseDate'}}, {'_id': '61e58920d8f3c0931e431dcf', 'id': 'tt0808491', 'primaryImage': {'id': 'rm1496121601', 'width': 1500, 'height': 2125, 'url': 'https://m.media-amazon.com/images/M/MV5BYzYzN2MzNjgtOTFlMC00MzIzLWI0YjgtZGJiNzg5MzVkYjgwXkEyXkFqcGdeQXVyOTEwNTkyNjE@._V1_.jpg', 'caption': {'plainText': 'The Swarm (2022)', '__typename': 'Markdown'}, '__typename': 'Image'}, 'titleType': {'text': 'TV Series', 'id': 'tvSeries', 'isSeries': True, 'isEpisode': False, 'categories': [{'value': 'tv', '__typename': 'TitleTypeCategory'}], 'canHaveEpisodes': True, '__typename': 'TitleType'}, 'titleText': {'text': 'The Swarm', '__typename': 'TitleText'}, 'originalTitleText': {'text': 'The Swarm', '__typename': 'TitleText'}, 'releaseYear': {'year': 2022, 'endYear': None, '__typename': 'YearRange'}, 'releaseDate': {'day': None, 'month': None, 'year': 2022, '__typename': 'ReleaseDate'}}, {'_id': '61e58ad2ef99b1c5434380e1', 'id': 'tt0965381', 'primaryImage': {'id': 'rm3017329409', 'width': 3508, 'height': 4961, 'url': 'https://m.media-amazon.com/images/M/MV5BODgzZDk1NzEtODhkYi00NTJhLWJjYTUtNTMxY2I3MDg3ZmE0XkEyXkFqcGdeQXVyNDI3OTE4ODE@._V1_.jpg', 'caption': {'plainText': 'Milli Vanilli (2022)', '__typename': 'Markdown'}, '__typename': 'Image'}, 'titleType': {'text': 'Movie', 'id': 'movie', 'isSeries': False, 'isEpisode': False, 'categories': [{'value': 'movie', '__typename': 'TitleTypeCategory'}], 'canHaveEpisodes': False, '__typename': 'TitleType'}, 'titleText': {'text': 'Milli Vanilli', '__typename': 'TitleText'}, 'originalTitleText': {'text': 'Milli Vanilli', '__typename': 'TitleText'}, 'releaseYear': {'year': 2022, 'endYear': None, '__typename': 'YearRange'}, 'releaseDate': {'day': None, 'month': None, 'year': 2022, '__typename': 'ReleaseDate'}}, {'_id': '61e58b2ea66e5964234395bd', 'id': 'tt10001728', 'primaryImage': {'id': 'rm3808227585', 'width': 1200, 'height': 1584, 'url': 'https://m.media-amazon.com/images/M/MV5BNDFmZDljNWYtMWY4Zi00YWI3LWFjOTgtOWFhYTBmN2EzZWIwXkEyXkFqcGdeQXVyNDE4NTE4MQ@@._V1_.jpg', 'caption': {'plainText': 'Kill Switch (2022)', '__typename': 'Markdown'}, '__typename': 'Image'}, 'titleType': {'text': 'Short', 'id': 'short', 'isSeries': False, 'isEpisode': False, '__typename': 'TitleType'}, 'titleText': {'text': 'Kill Switch', '__typename': 'TitleText'}, 'originalTitleText': {'text': 'Kill Switch', '__typename': 'TitleText'}, 'releaseYear': {'year': 2022, 'endYear': None, '__typename': 'YearRange'}, 'releaseDate': {'day': None, 'month': 10, 'year': 2022, '__typename': 'ReleaseDate'}}, {'_id': '61e58b3378c012aa34439601', 'id': 'tt10003926', 'primaryImage': {'id': 'rm2662392577', 'width': 1200, 'height': 1822, 'url': 'https://m.media-amazon.com/images/M/MV5BZjMzMWFlMzQtN2Y1NC00YWNjLWE4ZTctM2U5M2Q3OTM0ZThkXkEyXkFqcGdeQXVyMjIwMTAzNzU@._V1_.jpg', 'caption': {'plainText': 'Fermí Reixach in Siempre Yo (2022)', '__typename': 'Markdown'}, '__typename': 'Image'}, 'titleType': {'text': 'Short', 'id': 'short', 'isSeries': False, 'isEpisode': False, 'categories': [{'value': 'movie', '__typename': 'TitleTypeCategory'}], 'canHaveEpisodes': False, '__typename': 'TitleType'}, 'titleText': {'text': 'Siempre Yo', '__typename': 'TitleText'}, 'originalTitleText': {'text': 'Siempre Yo', '__typename': 'TitleText'}, 'releaseYear': {'year': 2022, 'endYear': None, '__typename': 'YearRange'}, 'releaseDate': {'day': 1, 'month': 3, 'year': 2022, '__typename': 'ReleaseDate'}}, {'_id': '61e58b3f971a4a15d6439b17', 'id': 'tt10011314', 'primaryImage': {'id': 'rm2727614721', 'width': 1500, 'height': 2172, 'url': 'https://m.media-amazon.com/images/M/MV5BZWE5ODc4MzMtYWI2OC00M2M2LWI3MTctODFiZWRjMzJjYzIzXkEyXkFqcGdeQXVyMTEzMTI1Mjk3._V1_.jpg', 'caption': {'plainText': 'Vampire in the Garden (2022)', '__typename': 'Markdown'}, '__typename': 'Image'}, 'titleType': {'text': 'TV Series', 'id': 'tvSeries', 'isSeries': True, 'isEpisode': False, 'categories': [{'value': 'tv', '__typename': 'TitleTypeCategory'}], 'canHaveEpisodes': True, '__typename': 'TitleType'}, 'titleText': {'text': 'Vampire in the Garden', '__typename': 'TitleText'}, 'originalTitleText': {'text': 'Vampire in the Garden', '__typename': 'TitleText'}, 'releaseYear': {'year': 2022, 'endYear': 2022, '__typename': 'YearRange'}, 'releaseDate': {'day': 16, 'month': 5, 'year': 2022, '__typename': 'ReleaseDate'}}, {'_id': '61e58b578a5a6a599f43a1e9', 'id': 'tt10028196', 'primaryImage': {'id': 'rm1058277633', 'width': 2215, 'height': 2953, 'url': 'https://m.media-amazon.com/images/M/MV5BMmQ4OTEyOTctMmFkOC00N2M4LWIyMDEtN2Y1MzQ0NzMzNDJlXkEyXkFqcGdeQXVyODE5NzE3OTE@._V1_.jpg', 'caption': {'plainText': 'Kareena Kapoor, Aamir Khan, Mona Singh, Manav Vij, and Naga Chaitanya Akkineni in Laal Singh Chaddha (2022)', '__typename': 'Markdown'}, '__typename': 'Image'}, 'titleType': {'text': 'Movie', 'id': 'movie', 'isSeries': False, 'isEpisode': False, 'categories': [{'value': 'movie', '__typename': 'TitleTypeCategory'}], 'canHaveEpisodes': False, '__typename': 'TitleType'}, 'titleText': {'text': 'Laal Singh Chaddha', '__typename': 'TitleText'}, 'originalTitleText': {'text': 'Laal Singh Chaddha', '__typename': 'TitleText'}, 'releaseYear': {'year': 2022, 'endYear': None, '__typename': 'YearRange'}, 'releaseDate': {'day': 11, 'month': 8, 'year': 2022, '__typename': 'ReleaseDate'}}, {'_id': '61e58b77b597b91eb943a80f', 'id': 'tt10047904', 'primaryImage': {'id': 'rm2811362817', 'width': 1448, 'height': 2048, 'url': 'https://m.media-amazon.com/images/M/MV5BOGQwNzBhODUtYjlkMS00NGU5LTlhNTgtZjIwZWIwZGZkYTRlXkEyXkFqcGdeQXVyNzg5OTk2OA@@._V1_.jpg', 'caption': {'plainText': 'Darkling (2022)', '__typename': 'Markdown'}, '__typename': 'Image'}, 'titleType': {'text': 'Movie', 'id': 'movie', 'isSeries': False, 'isEpisode': False, 'categories': [{'value': 'movie', '__typename': 'TitleTypeCategory'}], 'canHaveEpisodes': False, '__typename': 'TitleType'}, 'titleText': {'text': 'Darkling', '__typename': 'TitleText'}, 'originalTitleText': {'text': 'Mrak', '__typename': 'TitleText'}, 'releaseYear': {'year': 2022, 'endYear': None, '__typename': 'YearRange'}, 'releaseDate': {'day': 21, 'month': 4, 'year': 2022, '__typename': 'ReleaseDate'}}, {'_id': '61e58b7ab597b91eb943a90d', 'id': 'tt10049720', 'primaryImage': {'id': 'rm2063436545', 'width': 2494, 'height': 3786, 'url': 'https://m.media-amazon.com/images/M/MV5BMzJkYzIxMTItNWU1OS00MWQ1LWFjMjItYTI5OTgwZGI4NTAxXkEyXkFqcGdeQXVyNzQ0NzU2OA@@._V1_.jpg', 'caption': {'plainText': \"Kevin Porter, Annalicia Aguilar, Kristine Stokes, Morgan Witkop, Steve Filice, William d'Anthony, Peter Marshall Smith, Joey Ruggiero, Jeremiah Crothers, Joe Barra, Emily Lines, and Michael Joseph Nelson in Charlie Hustle (2022)\", '__typename': 'Markdown'}, '__typename': 'Image'}, 'titleType': {'text': 'Movie', 'id': 'movie', 'isSeries': False, 'isEpisode': False, 'categories': [{'value': 'movie', '__typename': 'TitleTypeCategory'}], 'canHaveEpisodes': False, '__typename': 'TitleType'}, 'titleText': {'text': 'Charlie Hustle', '__typename': 'TitleText'}, 'originalTitleText': {'text': 'Charlie Hustle', '__typename': 'TitleText'}, 'releaseYear': {'year': 2022, 'endYear': None, '__typename': 'YearRange'}, 'releaseDate': {'day': None, 'month': None, 'year': 2022, '__typename': 'ReleaseDate'}}, {'_id': '61e58b85909c2ca78143aaa9', 'id': 'tt10054992', 'primaryImage': {'id': 'rm3703934977', 'width': 1536, 'height': 2048, 'url': 'https://m.media-amazon.com/images/M/MV5BNzE5OGU0NmYtMjZkYi00YzExLTg1MDctNGUzZjI2NWI5YzA2XkEyXkFqcGdeQXVyMjA4MDMxNjI@._V1_.jpg', 'caption': {'plainText': 'Thomas Walton, Jared Safier, and Mary Jane Bulseco in D.O.P.E. UNIT (2022)', '__typename': 'Markdown'}, '__typename': 'Image'}, 'titleType': {'text': 'TV Series', 'id': 'tvSeries', 'isSeries': True, 'isEpisode': False, 'categories': [{'value': 'tv', '__typename': 'TitleTypeCategory'}], 'canHaveEpisodes': True, '__typename': 'TitleType'}, 'titleText': {'text': 'D.O.P.E. UNIT', '__typename': 'TitleText'}, 'originalTitleText': {'text': 'D.O.P.E. UNIT', '__typename': 'TitleText'}, 'releaseYear': {'year': 2022, 'endYear': None, '__typename': 'YearRange'}, 'releaseDate': {'day': None, 'month': None, 'year': 2022, '__typename': 'ReleaseDate'}}]}\n"
     ]
    }
   ],
   "source": [
    "#películas de drama desde 1990 a 2022.\n",
    "\n",
    "import requests\n",
    "\n",
    "url = \"https://moviesdatabase.p.rapidapi.com/titles\"\n",
    "\n",
    "querystring = {\"genre\":\"Drama\",\"startYear\":\"1990\",\"endYear\":\"2022\"}\n",
    "\n",
    "headers = {\n",
    "\t\"X-RapidAPI-Key\": \"47608e078dmsha9428889aafcc0ap1afc77jsn6e04b24d521c\",\n",
    "\t\"X-RapidAPI-Host\": \"moviesdatabase.p.rapidapi.com\"\n",
    "}\n",
    "\n",
    "response = requests.get(url, headers=headers, params=querystring)\n",
    "\n",
    "print(response.json())"
   ]
  },
  {
   "cell_type": "code",
   "execution_count": 19,
   "metadata": {},
   "outputs": [
    {
     "data": {
      "text/plain": [
       "dict_keys(['_id', 'id', 'primaryImage', 'titleType', 'titleText', 'originalTitleText', 'releaseYear', 'releaseDate'])"
      ]
     },
     "execution_count": 19,
     "metadata": {},
     "output_type": "execute_result"
    }
   ],
   "source": [
    "respuesta_drama = response.json()\n",
    "respuesta_drama[\"results\"] [0].keys()\n"
   ]
  },
  {
   "cell_type": "code",
   "execution_count": 21,
   "metadata": {},
   "outputs": [
    {
     "data": {
      "text/plain": [
       "'TV Series'"
      ]
     },
     "execution_count": 21,
     "metadata": {},
     "output_type": "execute_result"
    }
   ],
   "source": [
    "respuesta_drama [\"results\"] [0][\"titleType\"][\"text\"] #Aquí nos dice el tipo."
   ]
  },
  {
   "cell_type": "code",
   "execution_count": 25,
   "metadata": {},
   "outputs": [
    {
     "data": {
      "text/plain": [
       "'Shantaram'"
      ]
     },
     "execution_count": 25,
     "metadata": {},
     "output_type": "execute_result"
    }
   ],
   "source": [
    "respuesta_drama [\"results\"] [0] [\"titleText\"][\"text\"] #Aquí nos da el nombre de la película."
   ]
  },
  {
   "cell_type": "code",
   "execution_count": 32,
   "metadata": {},
   "outputs": [
    {
     "data": {
      "text/plain": [
       "10"
      ]
     },
     "execution_count": 32,
     "metadata": {},
     "output_type": "execute_result"
    }
   ],
   "source": [
    "respuesta_drama [\"results\"] [0][\"releaseDate\"][\"month\"]"
   ]
  },
  {
   "cell_type": "code",
   "execution_count": 33,
   "metadata": {},
   "outputs": [
    {
     "data": {
      "text/plain": [
       "2022"
      ]
     },
     "execution_count": 33,
     "metadata": {},
     "output_type": "execute_result"
    }
   ],
   "source": [
    "respuesta_drama [\"results\"] [0][\"releaseDate\"][\"year\"]"
   ]
  },
  {
   "cell_type": "code",
   "execution_count": 36,
   "metadata": {},
   "outputs": [
    {
     "data": {
      "text/plain": [
       "'tt0429087'"
      ]
     },
     "execution_count": 36,
     "metadata": {},
     "output_type": "execute_result"
    }
   ],
   "source": [
    "respuesta_drama [\"results\"] [0][\"id\"]"
   ]
  },
  {
   "cell_type": "code",
   "execution_count": 58,
   "metadata": {},
   "outputs": [
    {
     "name": "stdout",
     "output_type": "stream",
     "text": [
      "['TV Series', 'Shantaram', 10, 2022, 'tt0429087', 'TV Series', 'The Swarm', None, 2022, 'tt0808491', 'Movie', 'Milli Vanilli', None, 2022, 'tt0965381', 'Short', 'Kill Switch', 10, 2022, 'tt10001728', 'Short', 'Siempre Yo', 3, 2022, 'tt10003926', 'TV Series', 'Vampire in the Garden', 5, 2022, 'tt10011314', 'Movie', 'Laal Singh Chaddha', 8, 2022, 'tt10028196', 'Movie', 'Darkling', 4, 2022, 'tt10047904', 'Movie', 'Charlie Hustle', None, 2022, 'tt10049720', 'TV Series', 'D.O.P.E. UNIT', None, 2022, 'tt10054992']\n"
     ]
    }
   ],
   "source": [
    "diccionario_peliculas = {\"tipo\": [], \"nombre\": [], \"mes\": [], \"anio\": [], \"id\": []}\n",
    "\n",
    "for datos in respuesta_drama [\"results\"]:\n",
    "    tipo= datos [\"titleType\"][\"text\"]\n",
    "    nombre= datos [\"titleText\"][\"text\"]\n",
    "    mes= datos [\"releaseDate\"][\"month\"]\n",
    "    anio= datos [\"releaseDate\"][\"year\"]\n",
    "    id = datos [\"id\"]\n",
    "\n",
    "\n",
    "    lista_test.append (tipo)\n",
    "    lista_test.append (nombre)\n",
    "    lista_test.append (mes)\n",
    "    lista_test.append (anio)\n",
    "    lista_test.append (id)\n",
    "    #break \n",
    "print (lista_test)\n",
    "    "
   ]
  },
  {
   "cell_type": "code",
   "execution_count": 53,
   "metadata": {},
   "outputs": [
    {
     "data": {
      "text/plain": [
       "('TV Series',\n",
       " 'Shantaram',\n",
       " 10,\n",
       " 2022,\n",
       " 'tt0429087',\n",
       " 'TV Series',\n",
       " 'The Swarm',\n",
       " None,\n",
       " 2022,\n",
       " 'tt0808491',\n",
       " 'Movie',\n",
       " 'Milli Vanilli',\n",
       " None,\n",
       " 2022,\n",
       " 'tt0965381',\n",
       " 'Short',\n",
       " 'Kill Switch',\n",
       " 10,\n",
       " 2022,\n",
       " 'tt10001728',\n",
       " 'Short',\n",
       " 'Siempre Yo',\n",
       " 3,\n",
       " 2022,\n",
       " 'tt10003926',\n",
       " 'TV Series',\n",
       " 'Vampire in the Garden',\n",
       " 5,\n",
       " 2022,\n",
       " 'tt10011314',\n",
       " 'Movie',\n",
       " 'Laal Singh Chaddha',\n",
       " 8,\n",
       " 2022,\n",
       " 'tt10028196',\n",
       " 'Movie',\n",
       " 'Darkling',\n",
       " 4,\n",
       " 2022,\n",
       " 'tt10047904',\n",
       " 'Movie',\n",
       " 'Charlie Hustle',\n",
       " None,\n",
       " 2022,\n",
       " 'tt10049720',\n",
       " 'TV Series',\n",
       " 'D.O.P.E. UNIT',\n",
       " None,\n",
       " 2022,\n",
       " 'tt10054992')"
      ]
     },
     "execution_count": 53,
     "metadata": {},
     "output_type": "execute_result"
    }
   ],
   "source": [
    "lista_tupla = tuple (lista_test)\n",
    "lista_tupla"
   ]
  }
 ],
 "metadata": {
  "kernelspec": {
   "display_name": "base",
   "language": "python",
   "name": "python3"
  },
  "language_info": {
   "codemirror_mode": {
    "name": "ipython",
    "version": 3
   },
   "file_extension": ".py",
   "mimetype": "text/x-python",
   "name": "python",
   "nbconvert_exporter": "python",
   "pygments_lexer": "ipython3",
   "version": "3.9.7"
  },
  "orig_nbformat": 4
 },
 "nbformat": 4,
 "nbformat_minor": 2
}
