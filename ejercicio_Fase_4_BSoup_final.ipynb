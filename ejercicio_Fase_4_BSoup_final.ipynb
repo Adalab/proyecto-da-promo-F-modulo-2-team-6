{
 "cells": [
  {
   "cell_type": "markdown",
   "metadata": {},
   "source": [
    "# Ejercicio 4"
   ]
  },
  {
   "cell_type": "markdown",
   "metadata": {},
   "source": [
    "## Fase 4: Extracción de Tablas de los Premios Oscar con Beautiful Soup\n",
    "En esta fase, trabajarán con la biblioteca Beautiful Soup para extraer información relevante de las tablas de los premios Oscar desde 1990. La tabla la encontrarás en el este link. La información que deberás sacar es:\n",
    "Fecha de la ceremonia.\n",
    "Mejor película.\n",
    "Mejor director.\n",
    "Mejor actor.\n",
    "Mejor actriz.\n",
    "NOTA: La información de la API deberá ser almacenada en una lista de tuplas. Cada tupla corresponderá a una película. Siguiendo el siguiente ejemplo:\n",
    "  [(1990, 'Driving Miss Daisy', 'O. Stone', \"D. Day-Lewis\",' J. Tandy' ),  ...] "
   ]
  },
  {
   "cell_type": "markdown",
   "metadata": {},
   "source": [
    "# Con diccionario y pasarlo a lista de tuplas\n"
   ]
  },
  {
   "cell_type": "code",
   "execution_count": 1,
   "metadata": {},
   "outputs": [],
   "source": [
    "# antes de empezar importamos las librerías que vamos a usar. \n",
    "from bs4 import BeautifulSoup\n",
    "import requests\n",
    "import re\n",
    "import pandas as pd"
   ]
  },
  {
   "cell_type": "code",
   "execution_count": 3,
   "metadata": {},
   "outputs": [],
   "source": [
    "def sacar_premios_oscar(url):\n",
    "    res_premios_oscar = requests.get(url)\n",
    "\n",
    "    sopa_premios_oscar = BeautifulSoup(res_premios_oscar.content, 'html.parser')\n",
    "\n",
    "    diccionario_oscars = {}  #Utilizando un diccionario como en el ejemplo\n",
    "\n",
    "    #Con el ejemplo de las medallas no me encuentra la tabla, así que... selector, ¿o no se puede?\n",
    "    tabla_wiki = sopa_premios_oscar.find('table', {'class': 'wikitable'})\n",
    "    filas_tabla = tabla_wiki.find_all('tr')[1:]\n",
    "\n",
    "    for fila in filas_tabla:\n",
    "        celdas = fila.find_all('td')\n",
    "        ceremonia = celdas[1].text.strip()\n",
    "\n",
    "        #Recurrimos a putito regex para dejar solo el año como en el ejemplo\n",
    "        anio_ceremonia = re.search(r'\\d{4}', ceremonia)\n",
    "\n",
    "        #year = int(year_match) #¿Por qué no funciona? no entiendo group, solo hay una coincidencia\n",
    "\n",
    "        anio = int(anio_ceremonia.group()) #Conviertimos el año a un número entero\n",
    "        if anio >= 1990:   #Filtro las pelis desde 1990 en adelante\n",
    "            mejor_pelicula = celdas[2].text.strip()\n",
    "            mejor_director = re.sub(r'\\([^)]*\\)', '', celdas[3].text.strip())   #Quitamos la peli entre paréntesis\n",
    "            mejor_actor = re.sub(r'\\([^)]*\\)', '', celdas[4].text.strip())\n",
    "            mejor_actriz = re.sub(r'\\([^)]*\\)', '', celdas[5].text.strip())\n",
    "            diccionario_oscars[anio] = {'mejor_pelicula': mejor_pelicula,\n",
    "                                        'mejor_director': mejor_director,\n",
    "                                        'mejor_actor': mejor_actor,\n",
    "                                        'mejor_actriz': mejor_actriz}\n",
    "            \n",
    "        #Funciona, pero algo me dice que hay que cerrar el if con alguna cosa\n",
    "    #Funciona, lo mismo del comentario anterior\n",
    "\n",
    "    #Convertimos el diccionario en una lista de tuplas\n",
    "    lista_oscars = [(anio, brocoli['mejor_pelicula'], brocoli['mejor_director'], brocoli['mejor_actor'], brocoli['mejor_actriz'])\n",
    "                    for anio, brocoli in diccionario_oscars.items()]\n",
    "\n",
    "    return lista_oscars   #Sin devolverme nada, porque ¿pa qué obedecer?\n"
   ]
  },
  {
   "cell_type": "code",
   "execution_count": 4,
   "metadata": {},
   "outputs": [
    {
     "name": "stdout",
     "output_type": "stream",
     "text": [
      "[(1990, 'Driving Miss Daisy', 'O. Stone', 'D. Day-Lewis', 'J. Tandy'), (1991, 'Dances with Wolves', 'K. Costner', 'J. Irons', 'K. Bates'), (1992, 'The Silence of the Lambs', 'J. Demme', 'A. Hopkins', 'J. Foster'), (1993, 'Unforgiven', 'C. Eastwood', 'A. Pacino', 'E. Thompson'), (1994, \"Schindler's List\", 'S. Spielberg', 'T. Hanks', 'H. Hunter'), (1995, 'Forrest Gump', 'R. Zemeckis', 'T. Hanks', 'J. Lange'), (1996, 'Braveheart', 'M. Gibson', 'N. Cage', 'S. Sarandon'), (1997, 'The English Patient', 'A. Minghella', 'G. Rush', 'F. McDormand'), (1998, 'Titanic', 'J. Cameron', 'J. Nicholson', 'H. Hunt'), (1999, 'Shakespeare in Love', 'S. Spielberg', 'R. Benigni', 'G. Paltrow'), (2000, 'American Beauty', 'S. Mendes', 'K. Spacey', 'H. Swank'), (2001, 'Gladiator', 'S. Soderbergh', 'R. Crowe', 'J. Roberts'), (2002, 'A Beautiful Mind', 'R. Howard', 'D. Washington', 'H. Berry'), (2003, 'Chicago', 'R. Polanski', 'A. Brody', 'N. Kidman'), (2004, 'The Lord of the Rings: The Return of the King', 'P. Jackson', 'S. Penn', 'C. Theron')]\n"
     ]
    }
   ],
   "source": [
    "#Llama a la función y guarda la lista de tuplas en una variable\n",
    "lista_oscars = sacar_premios_oscar(\"https://es.wikipedia.org/wiki/Premios_%C3%93scar\")\n",
    "\n",
    "#Probamos si funciona pidiendo los primeros 5 elementos\n",
    "print(lista_oscars[:15])  #Me gustaría sacar una tupla en cada línea para verlas mejor\n",
    "\n",
    "#Devuelve una lista con una tupla por peli?? O por año??"
   ]
  },
  {
   "cell_type": "code",
   "execution_count": 5,
   "metadata": {},
   "outputs": [
    {
     "data": {
      "text/html": [
       "<div>\n",
       "<style scoped>\n",
       "    .dataframe tbody tr th:only-of-type {\n",
       "        vertical-align: middle;\n",
       "    }\n",
       "\n",
       "    .dataframe tbody tr th {\n",
       "        vertical-align: top;\n",
       "    }\n",
       "\n",
       "    .dataframe thead th {\n",
       "        text-align: right;\n",
       "    }\n",
       "</style>\n",
       "<table border=\"1\" class=\"dataframe\">\n",
       "  <thead>\n",
       "    <tr style=\"text-align: right;\">\n",
       "      <th></th>\n",
       "      <th>Ceremonia</th>\n",
       "      <th>Mejor pelicula</th>\n",
       "      <th>Mejor director</th>\n",
       "      <th>Mejor actor</th>\n",
       "      <th>Mejor actriz</th>\n",
       "    </tr>\n",
       "  </thead>\n",
       "  <tbody>\n",
       "    <tr>\n",
       "      <th>0</th>\n",
       "      <td>1990</td>\n",
       "      <td>Driving Miss Daisy</td>\n",
       "      <td>O. Stone</td>\n",
       "      <td>D. Day-Lewis</td>\n",
       "      <td>J. Tandy</td>\n",
       "    </tr>\n",
       "    <tr>\n",
       "      <th>1</th>\n",
       "      <td>1991</td>\n",
       "      <td>Dances with Wolves</td>\n",
       "      <td>K. Costner</td>\n",
       "      <td>J. Irons</td>\n",
       "      <td>K. Bates</td>\n",
       "    </tr>\n",
       "    <tr>\n",
       "      <th>2</th>\n",
       "      <td>1992</td>\n",
       "      <td>The Silence of the Lambs</td>\n",
       "      <td>J. Demme</td>\n",
       "      <td>A. Hopkins</td>\n",
       "      <td>J. Foster</td>\n",
       "    </tr>\n",
       "    <tr>\n",
       "      <th>3</th>\n",
       "      <td>1993</td>\n",
       "      <td>Unforgiven</td>\n",
       "      <td>C. Eastwood</td>\n",
       "      <td>A. Pacino</td>\n",
       "      <td>E. Thompson</td>\n",
       "    </tr>\n",
       "    <tr>\n",
       "      <th>4</th>\n",
       "      <td>1994</td>\n",
       "      <td>Schindler's List</td>\n",
       "      <td>S. Spielberg</td>\n",
       "      <td>T. Hanks</td>\n",
       "      <td>H. Hunter</td>\n",
       "    </tr>\n",
       "  </tbody>\n",
       "</table>\n",
       "</div>"
      ],
      "text/plain": [
       "   Ceremonia            Mejor pelicula Mejor director   Mejor actor  \\\n",
       "0       1990        Driving Miss Daisy       O. Stone  D. Day-Lewis   \n",
       "1       1991        Dances with Wolves     K. Costner      J. Irons   \n",
       "2       1992  The Silence of the Lambs       J. Demme    A. Hopkins   \n",
       "3       1993                Unforgiven    C. Eastwood     A. Pacino   \n",
       "4       1994          Schindler's List   S. Spielberg      T. Hanks   \n",
       "\n",
       "  Mejor actriz  \n",
       "0     J. Tandy  \n",
       "1     K. Bates  \n",
       "2    J. Foster  \n",
       "3  E. Thompson  \n",
       "4    H. Hunter  "
      ]
     },
     "execution_count": 5,
     "metadata": {},
     "output_type": "execute_result"
    }
   ],
   "source": [
    "#DataFrame\n",
    "df = pd.DataFrame(lista_oscars, columns=[\"Ceremonia\", \"Mejor pelicula\", \"Mejor director\", \"Mejor actor\", \"Mejor actriz\"])\n",
    "df.head()\n",
    "\n",
    "#¿Por qué me da 5 solo? En las tuplas salen las que le diga"
   ]
  },
  {
   "cell_type": "code",
   "execution_count": null,
   "metadata": {},
   "outputs": [],
   "source": []
  },
  {
   "cell_type": "markdown",
   "metadata": {},
   "source": [
    "# Intentando lista de tuplas directamente\n"
   ]
  },
  {
   "cell_type": "code",
   "execution_count": 6,
   "metadata": {},
   "outputs": [],
   "source": [
    "# antes de empezar importamos las librerías que vamos a usar. \n",
    "from bs4 import BeautifulSoup\n",
    "import requests\n",
    "import re\n",
    "import pandas as pd\n",
    "\n",
    "#Esto es innecesario hacerlo otra vez, pero por si borramos todo lo de arriba"
   ]
  },
  {
   "cell_type": "code",
   "execution_count": 7,
   "metadata": {},
   "outputs": [],
   "source": [
    "def sacar_premios_oscar_LdT(url):\n",
    "    res_premios_oscar = requests.get(url)\n",
    "    \n",
    "    sopa_premios_oscar = BeautifulSoup(res_premios_oscar.content, 'html.parser')\n",
    "\n",
    "    lista_oscars = []\n",
    "    \n",
    "    tabla_wiki = sopa_premios_oscar.find('table', {'class': 'wikitable'})  \n",
    "  \n",
    "    filas_tabla = tabla_wiki.find_all('tr')[1:]\n",
    "        \n",
    "    for fila in filas_tabla:\n",
    "        celdas = fila.find_all('td')\n",
    "        ceremonia = celdas[1].text.strip()\n",
    "                \n",
    "        anio_ceremonia = re.search(r'\\d{4}', ceremonia)     \n",
    "        anio = int(anio_ceremonia.group())  \n",
    "\n",
    "        if anio >= 1990:  \n",
    "            mejor_pelicula = celdas[2].text.strip()\n",
    "            mejor_director = re.sub(r'\\([^)]*\\)', '', celdas[3].text.strip())\n",
    "            mejor_actor = re.sub(r'\\([^)]*\\)', '', celdas[4].text.strip())\n",
    "            mejor_actriz = re.sub(r'\\([^)]*\\)', '', celdas[5].text.strip())\n",
    "            tuplita_por_año = (anio, mejor_pelicula, mejor_director, mejor_actor, mejor_actriz)\n",
    "            lista_oscars.append(tuplita_por_año)\n",
    "    \n",
    "    return lista_oscars   #Sin devolverme nada, porque ¿pa qué obedecer?\n"
   ]
  },
  {
   "cell_type": "code",
   "execution_count": 8,
   "metadata": {},
   "outputs": [
    {
     "name": "stdout",
     "output_type": "stream",
     "text": [
      "[(1990, 'Driving Miss Daisy', 'O. Stone', 'D. Day-Lewis', 'J. Tandy'), (1991, 'Dances with Wolves', 'K. Costner', 'J. Irons', 'K. Bates'), (1992, 'The Silence of the Lambs', 'J. Demme', 'A. Hopkins', 'J. Foster'), (1993, 'Unforgiven', 'C. Eastwood', 'A. Pacino', 'E. Thompson'), (1994, \"Schindler's List\", 'S. Spielberg', 'T. Hanks', 'H. Hunter'), (1995, 'Forrest Gump', 'R. Zemeckis', 'T. Hanks', 'J. Lange'), (1996, 'Braveheart', 'M. Gibson', 'N. Cage', 'S. Sarandon'), (1997, 'The English Patient', 'A. Minghella', 'G. Rush', 'F. McDormand'), (1998, 'Titanic', 'J. Cameron', 'J. Nicholson', 'H. Hunt'), (1999, 'Shakespeare in Love', 'S. Spielberg', 'R. Benigni', 'G. Paltrow'), (2000, 'American Beauty', 'S. Mendes', 'K. Spacey', 'H. Swank'), (2001, 'Gladiator', 'S. Soderbergh', 'R. Crowe', 'J. Roberts'), (2002, 'A Beautiful Mind', 'R. Howard', 'D. Washington', 'H. Berry'), (2003, 'Chicago', 'R. Polanski', 'A. Brody', 'N. Kidman'), (2004, 'The Lord of the Rings: The Return of the King', 'P. Jackson', 'S. Penn', 'C. Theron')]\n"
     ]
    }
   ],
   "source": [
    "# Llama a la función y guarda la lista de tuplas en una variable\n",
    "lista_oscars = sacar_premios_oscar_LdT(\"https://es.wikipedia.org/wiki/Premios_%C3%93scar\")\n",
    "\n",
    "# Probamos si funciona pidiendo los primeros 5 elementos\n",
    "print(lista_oscars[:15])  #me gustaría sacar una tupla en cada línea para verlo mejor\n",
    "\n",
    "#Devuelve una lista con una tupla por peli?? O por año??"
   ]
  },
  {
   "cell_type": "code",
   "execution_count": 9,
   "metadata": {},
   "outputs": [
    {
     "data": {
      "text/html": [
       "<div>\n",
       "<style scoped>\n",
       "    .dataframe tbody tr th:only-of-type {\n",
       "        vertical-align: middle;\n",
       "    }\n",
       "\n",
       "    .dataframe tbody tr th {\n",
       "        vertical-align: top;\n",
       "    }\n",
       "\n",
       "    .dataframe thead th {\n",
       "        text-align: right;\n",
       "    }\n",
       "</style>\n",
       "<table border=\"1\" class=\"dataframe\">\n",
       "  <thead>\n",
       "    <tr style=\"text-align: right;\">\n",
       "      <th></th>\n",
       "      <th>Ceremonia</th>\n",
       "      <th>Mejor película</th>\n",
       "      <th>Mejor director</th>\n",
       "      <th>Mejor actor</th>\n",
       "      <th>Mejor actriz</th>\n",
       "    </tr>\n",
       "  </thead>\n",
       "  <tbody>\n",
       "    <tr>\n",
       "      <th>0</th>\n",
       "      <td>1990</td>\n",
       "      <td>Driving Miss Daisy</td>\n",
       "      <td>O. Stone</td>\n",
       "      <td>D. Day-Lewis</td>\n",
       "      <td>J. Tandy</td>\n",
       "    </tr>\n",
       "    <tr>\n",
       "      <th>1</th>\n",
       "      <td>1991</td>\n",
       "      <td>Dances with Wolves</td>\n",
       "      <td>K. Costner</td>\n",
       "      <td>J. Irons</td>\n",
       "      <td>K. Bates</td>\n",
       "    </tr>\n",
       "    <tr>\n",
       "      <th>2</th>\n",
       "      <td>1992</td>\n",
       "      <td>The Silence of the Lambs</td>\n",
       "      <td>J. Demme</td>\n",
       "      <td>A. Hopkins</td>\n",
       "      <td>J. Foster</td>\n",
       "    </tr>\n",
       "    <tr>\n",
       "      <th>3</th>\n",
       "      <td>1993</td>\n",
       "      <td>Unforgiven</td>\n",
       "      <td>C. Eastwood</td>\n",
       "      <td>A. Pacino</td>\n",
       "      <td>E. Thompson</td>\n",
       "    </tr>\n",
       "    <tr>\n",
       "      <th>4</th>\n",
       "      <td>1994</td>\n",
       "      <td>Schindler's List</td>\n",
       "      <td>S. Spielberg</td>\n",
       "      <td>T. Hanks</td>\n",
       "      <td>H. Hunter</td>\n",
       "    </tr>\n",
       "  </tbody>\n",
       "</table>\n",
       "</div>"
      ],
      "text/plain": [
       "   Ceremonia            Mejor película Mejor director   Mejor actor  \\\n",
       "0       1990        Driving Miss Daisy       O. Stone  D. Day-Lewis   \n",
       "1       1991        Dances with Wolves     K. Costner      J. Irons   \n",
       "2       1992  The Silence of the Lambs       J. Demme    A. Hopkins   \n",
       "3       1993                Unforgiven    C. Eastwood     A. Pacino   \n",
       "4       1994          Schindler's List   S. Spielberg      T. Hanks   \n",
       "\n",
       "  Mejor actriz  \n",
       "0     J. Tandy  \n",
       "1     K. Bates  \n",
       "2    J. Foster  \n",
       "3  E. Thompson  \n",
       "4    H. Hunter  "
      ]
     },
     "execution_count": 9,
     "metadata": {},
     "output_type": "execute_result"
    }
   ],
   "source": [
    "# Para visualizar DataFrame\n",
    "df = pd.DataFrame(lista_oscars, columns=[\"Ceremonia\", \"Mejor película\", \"Mejor director\", \"Mejor actor\", \"Mejor actriz\"])\n",
    "df.head()"
   ]
  },
  {
   "cell_type": "code",
   "execution_count": null,
   "metadata": {},
   "outputs": [],
   "source": [
    "# Tengo la duda de si la segunda versión es independiente y funciona o si en realidad me está imprimiendo la primera, porque en la ultima cajita no especifico LdT"
   ]
  }
 ],
 "metadata": {
  "kernelspec": {
   "display_name": "base",
   "language": "python",
   "name": "python3"
  },
  "language_info": {
   "codemirror_mode": {
    "name": "ipython",
    "version": 3
   },
   "file_extension": ".py",
   "mimetype": "text/x-python",
   "name": "python",
   "nbconvert_exporter": "python",
   "pygments_lexer": "ipython3",
   "version": "3.9.7"
  }
 },
 "nbformat": 4,
 "nbformat_minor": 2
}
