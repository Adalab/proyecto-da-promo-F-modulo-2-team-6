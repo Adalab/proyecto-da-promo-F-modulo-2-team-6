{
 "cells": [
  {
   "cell_type": "code",
   "execution_count": null,
   "metadata": {},
   "outputs": [],
   "source": [
    "import re\n",
    "import pandas as pd\n",
    "import requests\n",
    "\n",
    "import time #modulo para controlar los tiempos y los sleep (evitar el error 429)\n",
    "\n",
    "#DEFINO LOS HEADERS: aqui tenemos las key de cada una para ir alternando\n",
    "headers = {\n",
    "#\"X-RapidAPI-Key\": \"1ef9312677msh54e21139cb02deap1a8f37jsn53623375f3fe\", #Elena\n",
    "\"X-RapidAPI-Key\": \"28a3c3ab32msha5ca6e00170b6c7p197d01jsn44c7f725210a\", #Marga\n",
    "#\"X-RapidAPI-Key\": \"2583d39c0emshe321f51d17d9328p10cfb0jsn38ed4dc93da2\", #Zahara\n",
    "#\"X-RapidAPI-Key\": \"47608e078dmsha9428889aafcc0ap1afc77jsn6e04b24d521c\", #MariCarmen\n",
    "\"X-RapidAPI-Host\": \"moviesdatabase.p.rapidapi.com\"\n",
    "}\n",
    "\n",
    "#Asignación: \n",
    "# MariCarmen = Drama + Comedy\n",
    "# Zahara = Action + Fantasy \n",
    "# Elena = Horror + Mystery \n",
    "# Marga = thriller + Romance\n",
    "\n",
    "#DEFINO LOS GENEROS \n",
    "#genres = [\"Drama\", \"Comedy\", \"Action\", \"Fantasy\", \"Horror\", \"Mystery\", \"Romance\", \"Thriller\"]\n",
    "genres = [\"Thriller\"] #aqui hay que modificar el género por el cual estamos descargando \n",
    "#year == 1990 a 2023 \n",
    "#genre == genres \n",
    "#page == de 1 a 50 \n",
    "#titletype == movie or short \n",
    "#limit = 50 \n",
    "sleep_time = 2\n",
    "\n",
    "#SACAR TODAS LAS URLS: \n",
    "\n",
    "lista_peliculas = [] #Lista de peliculas fuera del bucle! \n",
    "for genre in genres:\n",
    "  \n",
    "    for year in range(1990, 2000): #aqui modificamos el rango de años. \n",
    "        #Cesar says: ponemos rango de 1 a 50 pq es el max permitido por la API en una sola call \n",
    "        for page in range (1, 51):  \n",
    "\n",
    "            url = f\"https://moviesdatabase.p.rapidapi.com/titles?year={year}&genre={genre}&page={page}&limit=50\" #ponemos el límite de 50 que nos dijo Ana. \n",
    "            \n",
    "            response = requests.get(url, headers=headers)\n",
    "            #SI LA RESPUESTA ES 200 ENTONCES COMIENZO A HACER TODO EL LOOP DE LINKS Y EXTRAER DATOS: \n",
    "            if response.status_code == 200:\n",
    "                # Procesamos la respuesta da data aqui, lo convertimos a JSONy extraemos la información:\n",
    "                datos = response.json()\n",
    "                lista_de_diccionarios = datos[\"results\"]\n",
    "                \n",
    "\n",
    "                for datos in lista_de_diccionarios: \n",
    "                    \n",
    "                    #lista que usamos para ir appendeando toda la información de abajo /cada peli y será una lista \"de paso\"\n",
    "                    lista_consumible = []\n",
    "                    \n",
    "                    # aqui creamos las variables con las \"rutas \" que hemos ido buscando arriba /dentro del json \n",
    "                    tipo = datos[\"titleType\"][\"text\"]\n",
    "                    texto = datos[\"titleText\"][\"text\"]\n",
    "                    #para que no me de error el NONE de aquellas pelis que no tengan mes o año. añado el check de: \n",
    "                    release_date = datos.get(\"releaseDate\")\n",
    "                    if release_date:\n",
    "                        mes = release_date.get(\"month\")\n",
    "                        anio = release_date.get(\"year\")\n",
    "                        #esto es para que no me añada las que tienen NONE, porque dijo Ana que las obviemos\n",
    "                    else:\n",
    "                       continue\n",
    "                    #hasta aqui el control del mes y año \n",
    "                    id = datos[\"id\"]\n",
    "                    if tipo == \"Movie\" or tipo ==\"Short\":\n",
    "\n",
    "                        if mes:\n",
    "                            lista_consumible.append(mes)\n",
    "                            lista_consumible.append(genre) \n",
    "                            lista_consumible.append(tipo)\n",
    "                            lista_consumible.append(texto)\n",
    "                            lista_consumible.append(anio)\n",
    "                            lista_consumible.append(id)\n",
    "                        else:\n",
    "                            continue \n",
    "                        \n",
    "                    if lista_consumible: #evita hacer append de tuplas vacías (poq no tienen año o mes)\n",
    "                        \n",
    "                        lista_peliculas.append(tuple(lista_consumible))\n",
    "                        #lista_peliculas.append(lista_consumible)\n",
    "                    sleep_time\n",
    "                print(f\"Received data for {genre} in {year}, page {page}\")\n",
    "\n",
    "               \n",
    "            #SI LA RESPUESTA NO ES 200. TELL ME SOMETHING I DONT KNOW\n",
    "            elif response.status_code == 429:\n",
    "                print(\"Too many requests. Sleeping...\")\n",
    "\n",
    "\n",
    "            else: # Otro error que no sea el 429 \n",
    "                if \"error\" in response.text:\n",
    "                    error_message = response.json().get(\"error\")\n",
    "                    print(f\"Error Message: {error_message}\")\n",
    "\n",
    "            print(\"...\")\n",
    "\n",
    "\n",
    "   "
   ]
  },
  {
   "cell_type": "code",
   "execution_count": null,
   "metadata": {},
   "outputs": [],
   "source": [
    "len(lista_peliculas) #Es el listado de tuplas que sacamos"
   ]
  },
  {
   "cell_type": "code",
   "execution_count": null,
   "metadata": {},
   "outputs": [],
   "source": [
    "df_peliculas = pd.DataFrame(lista_peliculas) #convertirlo a data Frame"
   ]
  },
  {
   "cell_type": "code",
   "execution_count": null,
   "metadata": {},
   "outputs": [],
   "source": [
    "df_peliculas = pd.DataFrame(lista_peliculas, columns=[\"genre\", \"type\", \"name\", \"month\", \"year\", \"id\"]) #convertirlo a dataframe con las columnas que hemos descargado. Veréis q he añadido el género para que cuando lo juntesmo todo, sepamos q es\n"
   ]
  },
  {
   "cell_type": "code",
   "execution_count": null,
   "metadata": {},
   "outputs": [],
   "source": [
    "df_peliculas"
   ]
  },
  {
   "cell_type": "markdown",
   "metadata": {},
   "source": [
    "ESTOS SON LOS PASOS QUE TENDREMOS QUE HACER UNA VEZ DESCARGADO TODO. TAL COMO DECÏA ANA EN LA SESION, PASAREMOS TODOS LOS FIHCEROS A LA SCRUM MASTER PARA UQE LOS FUSIONE. "
   ]
  },
  {
   "cell_type": "code",
   "execution_count": null,
   "metadata": {},
   "outputs": [],
   "source": [
    "df_peliculas.to_csv(\"thriller_2013_5.csv\") #poner el nombre de lo que estamos guardando (género + intervalo de años)"
   ]
  },
  {
   "cell_type": "code",
   "execution_count": null,
   "metadata": {},
   "outputs": [],
   "source": [
    "df_peliculas.to_csv(\"datos_comedy.csv\") #guardo cada descarga q haga con el nombre de lo q he descargado y siempre poniendo el .csv detrás. \n",
    "df_peliculas.to_csv(\"datos_romance.csv\") #otras opcionnes = a la anterior "
   ]
  },
  {
   "cell_type": "code",
   "execution_count": null,
   "metadata": {},
   "outputs": [],
   "source": [
    "df_peliculas.to_excel(\"datos_api.xlsx\") #si queremos guardarlo en excel en lugar de csv "
   ]
  },
  {
   "cell_type": "code",
   "execution_count": null,
   "metadata": {},
   "outputs": [],
   "source": [
    "#como lo juntamos todo? los CSVs que nos hemos descargado cada una: \n",
    "\n",
    "df_comedy = pd.read_csv(\"datos_comedy.csv\")\n",
    "df_drama = pd.read_csv(\"datos_drama.csv\")"
   ]
  },
  {
   "cell_type": "code",
   "execution_count": null,
   "metadata": {},
   "outputs": [],
   "source": [
    "df_final = pd.concat([df_comedy, df_drama], axis = 0)\n",
    "#axis 0 == contactenar por columnas\n",
    "#axis 1 == concatenar por filas "
   ]
  },
  {
   "cell_type": "code",
   "execution_count": null,
   "metadata": {},
   "outputs": [],
   "source": [
    "df_final.to_csv(\"datos_api_final.csv\") #para convertirlo todo a csv "
   ]
  }
 ],
 "metadata": {
  "kernelspec": {
   "display_name": "base",
   "language": "python",
   "name": "python3"
  },
  "language_info": {
   "codemirror_mode": {
    "name": "ipython",
    "version": 3
   },
   "file_extension": ".py",
   "mimetype": "text/x-python",
   "name": "python",
   "nbconvert_exporter": "python",
   "pygments_lexer": "ipython3",
   "version": "3.11.5"
  },
  "orig_nbformat": 4
 },
 "nbformat": 4,
 "nbformat_minor": 2
}
