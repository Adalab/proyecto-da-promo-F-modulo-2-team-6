{
 "cells": [
  {
   "cell_type": "code",
   "execution_count": null,
   "metadata": {},
   "outputs": [],
   "source": [
    "# Importar librería para la conexión con MySQL\n",
    "# -----------------------------------------------------------------------\n",
    "import mysql.connector\n",
    "from mysql.connector import errorcode\n",
    "\n",
    "\n",
    "# Importar librerías para manipulación y análisis de datos\n",
    "# -----------------------------------------------------------------------\n",
    "import pandas as pd\n",
    "import numpy as np"
   ]
  },
  {
   "cell_type": "markdown",
   "metadata": {},
   "source": [
    "# SUBO TABLA DE LOS OSCARS (FASE 4)"
   ]
  },
  {
   "cell_type": "code",
   "execution_count": null,
   "metadata": {},
   "outputs": [],
   "source": [
    "df_oscars = pd.read_csv(\"F4_OSCAR_all.csv\") #aplico éste si la primera columna ya es el ID y no el orden /lo he borrado antes"
   ]
  },
  {
   "cell_type": "code",
   "execution_count": null,
   "metadata": {},
   "outputs": [],
   "source": [
    "df_oscars.head(1)"
   ]
  },
  {
   "cell_type": "code",
   "execution_count": null,
   "metadata": {},
   "outputs": [],
   "source": [
    "lista_tuplas_oscars = []\n",
    "for x in df_oscars.values:\n",
    "\n",
    "    lista_tuplas_oscars.append(tuple(x))\n",
    "    lista_tuplas_oscars"
   ]
  },
  {
   "cell_type": "code",
   "execution_count": null,
   "metadata": {},
   "outputs": [],
   "source": [
    "# En este código estamos haciendo un try except. Si recordamos esto nos permitía hacer un manejo de los errores, para evitar que nuestro código se pare. Para eso lo que estamos haciendo es\n",
    "## intenta hacer la conexión son la base de datos de tienda \n",
    "try:\n",
    "  cnx = mysql.connector.connect(user='root', password='AlumnaAdalab',\n",
    "                              host='127.0.0.1',\n",
    "                              database='movies_database')\n",
    "# en caso de que no lo consigas por que hay algún error entonces ...\n",
    "except mysql.connector.Error as err:\n",
    "\n",
    "  # si es un error con la contraseña devuelveme un mensaje de acceso denegado ya que tenemos problemas con la contraseña\n",
    "  if err.errno == errorcode.ER_ACCESS_DENIED_ERROR:\n",
    "    print(\"Something is wrong with your user name or password\")\n",
    "  \n",
    "  # si el error no tiene que ver con la contraseña, puede ser porque la base de datos no exista, devuelveme un mensaje de que la base de datos no existe\n",
    "  elif err.errno == errorcode.ER_BAD_DB_ERROR:\n",
    "    print(\"Database does not exist\")\n",
    "  \n",
    "  # si no es por ninguno de los errores anteriores, printeame cual es el error que estoy teniendo en mi conexión\n",
    "  else:\n",
    "    print(err)\n",
    "else:\n",
    "  cnx.close()"
   ]
  },
  {
   "cell_type": "code",
   "execution_count": null,
   "metadata": {},
   "outputs": [],
   "source": [
    "cnx = mysql.connector.connect (user = \"root\", \n",
    "                               password = \"AlumnaAdalab\", \n",
    "                               host='127.0.0.1',\n",
    "                               database=\"movies_database\")\n",
    "\n",
    "\n",
    "mycursor = cnx.cursor()\n",
    "\n",
    "sql_oscars = \"INSERT INTO oscars (id_pelicula, mejor_pelicula, mejor_director, mejor_actor, mejor_actriz, ceremonia, anio_estreno, peliculas_id_pelicula) VALUES (%s, %s, %s, %s, %s, %s, %s, %s)\"\n",
    "#variables en el mismo orden que scsv, tantas %s como variables tiene mi csv. \n",
    "\n",
    "try: \n",
    "    mycursor.executemany(sql_oscars, lista_tuplas_oscars)\n",
    "    #ejecuta my query, de que datos? del fichero q estan en mi lista de tuplas q he converido ariba leyendo el csv.) \n",
    "    cnx.commit()\n",
    "    print(mycursor.rowcount, \"registros insertados\")\n",
    "\n",
    "except mysql.connector.Error as error:\n",
    "    print(\"Error al insertar datos en MySQL:\", error)\n"
   ]
  },
  {
   "cell_type": "code",
   "execution_count": null,
   "metadata": {},
   "outputs": [],
   "source": [
    "len(set(lista_tuplas_oscars))"
   ]
  },
  {
   "cell_type": "markdown",
   "metadata": {},
   "source": [
    "lista_tuplas_actores = = mi fichero de actores.  FASE 3 \n",
    "hacemos un set(lista_tuplas_actores) para quitarlos "
   ]
  },
  {
   "cell_type": "markdown",
   "metadata": {},
   "source": [
    "# SUBO TABLA DE PELICULAS (FASE 1)"
   ]
  },
  {
   "cell_type": "code",
   "execution_count": null,
   "metadata": {},
   "outputs": [],
   "source": [
    "df_peliculas = pd.read_csv(\"F1_PELICULAS_all.csv\") #aplico éste si la primera columna ya es el ID y no el orden /lo he borrado antes"
   ]
  },
  {
   "cell_type": "code",
   "execution_count": null,
   "metadata": {},
   "outputs": [],
   "source": [
    "df_peliculas.drop_duplicates(subset=\"id_pelicula\", inplace=True)\n",
    "\n",
    "# https://pandas.pydata.org/docs/reference/api/pandas.DataFrame.drop_duplicates.html"
   ]
  },
  {
   "cell_type": "code",
   "execution_count": null,
   "metadata": {},
   "outputs": [],
   "source": [
    "df_peliculas.head(1)"
   ]
  },
  {
   "cell_type": "code",
   "execution_count": null,
   "metadata": {},
   "outputs": [],
   "source": [
    "lista_tuplas_peliculas = []\n",
    "for x in df_peliculas.values:\n",
    "\n",
    "    lista_tuplas_peliculas.append(tuple(x))\n",
    "    lista_tuplas_peliculas"
   ]
  },
  {
   "cell_type": "code",
   "execution_count": null,
   "metadata": {},
   "outputs": [],
   "source": [
    "import mysql.connector\n",
    "from mysql.connector import errorcode "
   ]
  },
  {
   "cell_type": "code",
   "execution_count": null,
   "metadata": {},
   "outputs": [],
   "source": [
    "cnx = mysql.connector.connect(user='root', \n",
    "                              password='AlumnaAdalab',\n",
    "                              host='localhost',\n",
    "                              database='movies_database')\n",
    "\n",
    "print(cnx)\n",
    "cnx.close()"
   ]
  },
  {
   "cell_type": "code",
   "execution_count": null,
   "metadata": {},
   "outputs": [],
   "source": [
    "try:\n",
    "  cnx = mysql.connector.connect(user='root', password='AlumnaAdalab',\n",
    "                              host='localhost',\n",
    "                              database='movies_database')\n",
    "# en caso de que no lo consigas por que hay algún error entonces ...\n",
    "except mysql.connector.Error as err:\n",
    "\n",
    "  # si es un error con la contraseña devuelveme un mensaje de acceso denegado ya que tenemos problemas con la contraseña\n",
    "  if err.errno == errorcode.ER_ACCESS_DENIED_ERROR:\n",
    "    print(\"Something is wrong with your user name or password\")\n",
    "  \n",
    "  # si el error no tiene que ver con la contraseña, puede ser porque la base de datos no exista, devuelveme un mensaje de que la base de datos no existe\n",
    "  elif err.errno == errorcode.ER_BAD_DB_ERROR:\n",
    "    print(\"Database does not exist\")\n",
    "  \n",
    "  # si no es por ninguno de los errores anteriores, printeame cual es el error que estoy teniendo en mi conexión\n",
    "  else:\n",
    "    print(err)\n",
    "else:\n",
    "  cnx.close()"
   ]
  },
  {
   "cell_type": "code",
   "execution_count": null,
   "metadata": {},
   "outputs": [],
   "source": [
    "cnx = mysql.connector.connect (user = \"root\", \n",
    "                               password = \"AlumnaAdalab\", \n",
    "                               host='localhost',\n",
    "                               database=\"movies_database\")\n",
    "\n",
    "\n",
    "mycursor = cnx.cursor()\n",
    "\n",
    "\n",
    "#sql_pelis = \"INSERT INTO peliculas (id_pelicula, genero, tipo, anio_estreno, mes_estreno, titulo) VALUES (%s, %s, %s, %s, %s, %s)\"\n",
    "sql_pelis = \"INSERT INTO peliculas (id_pelicula, genero, tipo, titulo, anio_estreno, mes_estreno) VALUES (%s, %s, %s, %s, %s, %s)\"\n",
    "\n",
    "\n",
    "#variables en el mismo orden que scsv, tantas %s como variables tiene mi csv. \n",
    "\n",
    "try: \n",
    "    #ejecuta el comando q te digo de SQL con la lista de tuplas. (tt347, \"hola Caracola\", \"Movie\",6, 2022, \"Comedy\")\n",
    "    #mycursor.execute(\"INSTERT INTO peliculas\", (\"tt347\", \"hola Caracola\", \"Movie\",6, 2022, \"Comedy\"))\n",
    "    mycursor.executemany(sql_pelis, lista_tuplas_peliculas)\n",
    "    #ejecuta my query, de que datos? del fichero q estan en mi lista de tuplas q he converido ariba leyendo el csv.) \n",
    "    cnx.commit()\n",
    "    print(mycursor.rowcount, \"registros insertados\")\n",
    "\n",
    "except mysql.connector.Error as error:\n",
    "    print(\"Error al insertar datos en MySQL:\", error)"
   ]
  },
  {
   "cell_type": "markdown",
   "metadata": {},
   "source": [
    "# SUBO TABLA DE LOS IMDB (FASE 2)"
   ]
  },
  {
   "cell_type": "code",
   "execution_count": null,
   "metadata": {},
   "outputs": [],
   "source": [
    "df_imdb = pd.read_csv(\"F2_IMDB_all.csv\") #aplico éste si la primera columna ya es el ID y no el orden /lo he borrado antes"
   ]
  },
  {
   "cell_type": "code",
   "execution_count": null,
   "metadata": {},
   "outputs": [],
   "source": [
    "df_imdb[df_imdb[\"duracion\"].isna()]\n",
    "# https://pandas.pydata.org/docs/reference/api/pandas.DataFrame.isna.html"
   ]
  },
  {
   "cell_type": "code",
   "execution_count": null,
   "metadata": {},
   "outputs": [],
   "source": [
    "lista_tuplas_imdb = []\n",
    "for x in df_imdb_no_na.values:\n",
    "\n",
    "    lista_tuplas_imdb.append(tuple(x))\n",
    "    lista_tuplas_imdb"
   ]
  },
  {
   "cell_type": "code",
   "execution_count": null,
   "metadata": {},
   "outputs": [],
   "source": [
    "print(\"INSERT INTO imdb VALUES\")\n",
    "for peli in lista_tuplas_imdb:\n",
    "    print(peli, \",\")"
   ]
  },
  {
   "cell_type": "code",
   "execution_count": null,
   "metadata": {},
   "outputs": [],
   "source": [
    "cnx = mysql.connector.connect (user = \"root\", \n",
    "                               password = \"AlumnaAdalab\", \n",
    "                               host='localhost',\n",
    "                               database=\"movies_database\")\n",
    "\n",
    "\n",
    "mycursor = cnx.cursor()\n",
    "\n",
    "sql_imdb = \"INSERT INTO imdb (puntuacion,direccion,guionistas,argumento,duracion,nombre_imdb,tomatometer,peliculas_id_pelicula) VALUES (%s, %s, %s, %s, %s, %s, %s, %s)\"\n",
    "#variables en el mismo orden que scsv, tantas %s como variables tiene mi csv. \n",
    "\n",
    "try: \n",
    "    mycursor.executemany(sql_imdb, lista_tuplas_imdb)\n",
    "    #ejecuta my query, de que datos? del fichero q estan en mi lista de tuplas q he converido ariba leyendo el csv.) \n",
    "    cnx.commit()\n",
    "    print(mycursor.rowcount, \"registros insertados\")\n",
    "\n",
    "except mysql.connector.Error as error:\n",
    "    print(\"Error al insertar datos en MySQL:\", error)"
   ]
  },
  {
   "cell_type": "markdown",
   "metadata": {},
   "source": [
    "# Falta Fase 3\n"
   ]
  }
 ],
 "metadata": {
  "kernelspec": {
   "display_name": "base",
   "language": "python",
   "name": "python3"
  },
  "language_info": {
   "codemirror_mode": {
    "name": "ipython",
    "version": 3
   },
   "file_extension": ".py",
   "mimetype": "text/x-python",
   "name": "python",
   "nbconvert_exporter": "python",
   "pygments_lexer": "ipython3",
   "version": "3.11.5"
  },
  "orig_nbformat": 4
 },
 "nbformat": 4,
 "nbformat_minor": 2
}
