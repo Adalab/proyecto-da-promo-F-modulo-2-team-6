{
 "cells": [
  {
   "cell_type": "code",
   "execution_count": null,
   "metadata": {},
   "outputs": [],
   "source": [
    "#!pip install selenium\n",
    "#!pip install webdriver-manager\n",
    "#!pip install tqdm       #Por si las moscas. Ahora los tengo comentados pero se pueden volver a instalar si veo que no funcionan."
   ]
  },
  {
   "cell_type": "code",
   "execution_count": null,
   "metadata": {},
   "outputs": [],
   "source": [
    "import requests\n",
    "import pandas as pd\n",
    "\n",
    "# Importar librerías para web scraping y manipulación de datos\n",
    "# -----------------------------------------------------------------------\n",
    "from bs4 import BeautifulSoup\n",
    "import requests\n",
    "\n",
    "\n",
    "from tqdm import tqdm\n",
    "\n",
    "# Importar librerías para automatización de navegadores web con Selenium\n",
    "# -----------------------------------------------------------------------\n",
    "from selenium import webdriver  # Selenium es una herramienta para automatizar la interacción con navegadores web.\n",
    "from webdriver_manager.chrome import ChromeDriverManager  # ChromeDriverManager gestiona la instalación del controlador de Chrome.\n",
    "from selenium.webdriver.common.keys import Keys  # Keys es útil para simular eventos de teclado en Selenium.\n",
    "\n",
    "# Importar librerías para pausar la ejecución\n",
    "# -----------------------------------------------------------------------\n",
    "from time import sleep  # Sleep se utiliza para pausar la ejecución del programa por un número de segundos."
   ]
  },
  {
   "cell_type": "code",
   "execution_count": null,
   "metadata": {},
   "outputs": [],
   "source": [
    "pd.set_option('display.max_columns', None) #Se utiliza para que Panda muestre todas las columnas del DataFrame."
   ]
  },
  {
   "cell_type": "code",
   "execution_count": null,
   "metadata": {},
   "outputs": [],
   "source": [
    "test = [(\"Drama\", \"Movie\", \"Oda az igazság\", 1990, 2, \"tt0154039\"), (\"Drama\", \"Movie\", \"A zöld sárkány gyermekei\", 2011, 4, \"tt0162942\"), (\"Drama\", \"Movie\", \"The Final Journey\", 2010, 9, \"tt0230212\"), (\"Comedy\", \"Movie\", \"Deceit\", 1992, 8, \"tt0097176\"), (\"Comedy\", \"Movie\", \"Pareja enloquecida busca madre de alquiler\", 1990, 4, \"tt0098064\") ] #En el orden que aparece en el csv: género, tipo, nombre, año, mes y id."
   ]
  },
  {
   "cell_type": "code",
   "execution_count": null,
   "metadata": {},
   "outputs": [],
   "source": [
    "driver = webdriver.Chrome()\n",
    "\n",
    "driver.maximize_window() #Maximizamos la ventana antes de meternos en IMDB\n",
    "\n",
    "\n",
    "driver.get(\"https://www.imdb.com/\")\n",
    "\n",
    "sleep(2)\n",
    "\n",
    "eleccion_usuario = test [0][5] #Lo probamos primero con uno primero (el primero de las tuplas). Como el ID está en la posición 6, indico que me busque el [5].\n",
    "\n",
    "driver.find_elements(\"css selector\", \"#suggestion-search\").send_keys(eleccion_usuario, Keys.ENTER) #Para itroducir el ID en el cambio de búsqueda\n",
    "\n",
    "\n",
    "sleep(3)\n",
    "\n",
    "#Cdo estamos dentro de la peli, vamos a coger los nombres de los 10 primeros actores que aparecen bajo top cast y para ello hacemos un for loop. Puesto que puede que algunas pelis o cortos no tengan 10, tenemos que hacer un try y except y bajo el except, incluir \"NA\" porque se debe cubrir toda la tupla.\n",
    "\n",
    "lista_detallada_actores = [] #Aquí almacenamos los nombres de los actores.\n",
    "\n",
    "elementos_actores = driver.find_elements (\"css selector\", \"#__next > main > div > section.ipc-page-background.ipc-page-background--base.sc-304f99f6-0.eaRXHu > div > section > div > div.sc-9178d6fe-1.kFxVZc.ipc-page-grid__item.ipc-page-grid__item--span-2 > section.ipc-page-section.ipc-page-section--base.sc-bfec09a1-0.gmonkL.title-cast.title-cast--movie.celwidget > div.ipc-shoveler.ipc-shoveler--base.ipc-shoveler--page0.title-cast__grid > div.ipc-sub-grid.ipc-sub-grid--page-span-2.ipc-sub-grid--wraps-at-above-l.ipc-shoveler__grid > div:nth-child(1) > div.sc-bfec09a1-7.dpBDvu > a\").text\n",
    "\n",
    "for  i in range (1, 11):\n",
    "    \n",
    "    try:\n",
    "        nombre_actor = elemento_actores [i -1]. text\n",
    "        lista_detallada_actores.append (nombre_actor)\n",
    "    except:\n",
    "        \n",
    "        lista_detallada_actores.append(\"NA\")  # Agregar \"NA\" en caso de que no se encuentre el actor.\n",
    "        "
   ]
  },
  {
   "cell_type": "code",
   "execution_count": null,
   "metadata": {},
   "outputs": [],
   "source": [
    "\n",
    "# Inicializar la lista para almacenar los nombres de los actores\n",
    "lista_detallada_actores_final = []\n",
    "\n",
    "elementos_actores = driver.find_elements(By.CSS_SELECTOR, 'selecciona el selector CSS para los nombres de los actores')\n",
    "\n",
    "for i in range(1, 11):\n",
    "    try:\n",
    "        nombre_actor = elementos_actores[i - 1].text\n",
    "        lista_detallada_actores_final.append(nombre_actor)\n",
    "    except IndexError:\n",
    "        lista_detallada_actores_final.append(\"NA\")\n",
    "\n",
    "# Puedes manejar otros tipos de excepciones si es necesario\n"
   ]
  },
  {
   "cell_type": "code",
   "execution_count": null,
   "metadata": {},
   "outputs": [],
   "source": [
    "test [0][5]"
   ]
  },
  {
   "cell_type": "code",
   "execution_count": null,
   "metadata": {},
   "outputs": [],
   "source": [
    "for peli in test:\n",
    "    print (peli[5])"
   ]
  },
  {
   "cell_type": "code",
   "execution_count": null,
   "metadata": {},
   "outputs": [],
   "source": [
    "#DATOS QUE NECESITAMOS\n",
    "\n",
    "\n",
    "sleep(3)\n",
    "\n",
    "    try:\n",
    "        nombre = driver.find_element(\"css selector\", \"\").text\n",
    "        \n",
    "    except:\n",
    "        \n",
    "        nombre= \"desconocido\"\n",
    "        \n",
    "sleep(3)\n",
    "\n",
    "    try: \n",
    "        nacimiento = driver.find_element(\"css selector\", \" \").text.split(\",\")[-1] \n",
    "    \n",
    "    except:\n",
    "        año = \"desconocido\"\n",
    "        \n",
    "sleep(3)\n",
    "\n",
    "    try:\n",
    "\n",
    "        conocimiento = driver.find_element(\"css selector\", \"\").text\n",
    "        \n",
    "    except:\n",
    "        conocimiento =\"desconocido\"\n",
    "        \n",
    "sleep(3)\n",
    "        \n",
    "    try:\n",
    "        que_hace = driver.find_element(\"css selector\", \"\").text\n",
    "        \n",
    "    except: \n",
    "        que_hace = \"desconocido\"\n",
    "        \n",
    "sleep(3)\n",
    "        \n",
    "    try:\n",
    "        premio_oscar = driver.find_element(\"css selector\", \"\").text\n",
    "        \n",
    "    except:\n",
    "        \n",
    "        premio_oscar = \"NA\"\n",
    "        \n",
    "sleep(3)\n",
    "        \n",
    "    lista_datos_actores = []\n",
    "    \n",
    "    lista_datos.append (nombre)\n",
    "    lista_datos.append (nacimiento)\n",
    "    lista_datos.append (conocimiento)\n",
    "    lista_datos.append (que_hace)\n",
    "    lista_datos.append (premio_oscar)\n",
    "    lista_detallada_actores_final.append (tuple (lista_datos))\n",
    "    driver.back()\n",
    "    \n",
    "        "
   ]
  },
  {
   "cell_type": "code",
   "execution_count": null,
   "metadata": {},
   "outputs": [],
   "source": [
    "for actor in tqdm(lista_tupla_actores[0][: 3]):\n",
    "    lista_actores = []\n",
    "    print(actor)\n",
    "    sleep(7)\n",
    "    driver.find_element(\"css selector\", \"#suggestion-search\").send_keys(actor, Keys.ENTER)\n",
    "    \n",
    "    sleep(7)\n",
    "    driver.find_element(\"css selector\", \"#__next > main > div.ipc-page-content-container.ipc-page-content-container--full.sc-383f2ac5-0.bfcGjo > div.ipc-page-content-container.ipc-page-content-container--center > section > div > div.ipc-page-grid__item.ipc-page-grid__item--span-2 > section:nth-child(3) > div.sc-17bafbdb-2.ffAEHI > ul > li:nth-child(1)\").click()\n",
    "    try: \n",
    "        año = driver.find_element(\"css selector\", \"#__next > main > div > section.ipc-page-background.ipc-page-background--base.sc-304f99f6-0.eaRXHu > section > div:nth-child(4) > section > section > div.sc-e226b0e3-4.femeOx > div > div.sc-e226b0e3-11.gOzomZ > section > aside > div > span:nth-child(2)\").text.split(\",\")[-1] \n",
    "    except:\n",
    "        año = \"desconocido\"\n",
    "    conocido = driver.find_element(\"css selector\", \"#__next > main > div > section.ipc-page-background.ipc-page-background--base.sc-304f99f6-0.eaRXHu > div > section > div > div.sc-9178d6fe-1.kFxVZc.ipc-page-grid__item.ipc-page-grid__item--span-2 > div.celwidget > section:nth-child(1) > div.sc-a6d4b6c0-0.jGufEe > div > div.ipc-sub-grid.ipc-sub-grid--page-span-2.ipc-sub-grid--wraps-at-above-l.ipc-shoveler__grid\").text\n",
    "    que_hace = driver.find_element(\"css selector\", \"#__next > main > div > section.ipc-page-background.ipc-page-background--base.sc-304f99f6-0.eaRXHu > section > div:nth-child(4) > section > section > div.sc-e226b0e3-3.jJsEuz > div > ul > li\").text\n",
    "    lista_caracteristicas = []\n",
    "    \n",
    "    lista_caracteristicas.append(año)\n",
    "    lista_caracteristicas.append(conocido)\n",
    "    lista_caracteristicas.append(que_hace)\n",
    "    lista_caracteristicas.append(actor)\n",
    "    lista_detalles_actores.append(tuple(lista_caracteristicas))\n",
    "    driver.back()"
   ]
  }
 ],
 "metadata": {
  "language_info": {
   "name": "python"
  }
 },
 "nbformat": 4,
 "nbformat_minor": 2
}
