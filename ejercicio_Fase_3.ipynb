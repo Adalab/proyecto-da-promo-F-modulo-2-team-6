{
 "cells": [
  {
   "cell_type": "code",
   "execution_count": 1,
   "metadata": {},
   "outputs": [],
   "source": [
    "import pandas as pd \n",
    "#from bs4 import BeautifulSoup\n",
    "import requests\n",
    "from selenium import webdriver  \n",
    "from webdriver_manager.chrome import ChromeDriverManager  \n",
    "from selenium.webdriver.common.keys import Keys  \n",
    "from selenium.webdriver.support.ui import Select  \n",
    "from time import sleep  \n",
    "pd.set_option('display.max_columns', None)"
   ]
  },
  {
   "cell_type": "code",
   "execution_count": 2,
   "metadata": {},
   "outputs": [],
   "source": [
    "test = [(\"Action\", \"Movie\", \"Spy Story\", 1990, 3, \"tt0075259\"), (\"Comedy\", \"Short\", \"Like My Profile\", 2012, 0, \"tt10107370\"), (\"Action\", \"Movie\", \"Spy Story\", 1990, 3, \"tt0075259\"), (\"Mystery\", \"Movie\", \"Shutter Island\", 2010, 2, \"tt1130884\"), (\"Romance\", \"Movie\", \"The Last of the Mohicans\", 1993, 1, \"tt0104691\") ]  #En el orden que aparece en el csv: género, tipo, nombre, año, mes y id"
   ]
  },
  {
   "cell_type": "markdown",
   "metadata": {},
   "source": [
    "### Extracción de actores para una peli"
   ]
  },
  {
   "cell_type": "code",
   "execution_count": 22,
   "metadata": {},
   "outputs": [],
   "source": [
    "driver = webdriver.Chrome()\n",
    "\n",
    "driver.maximize_window() #Maximizamos ventana antes de meternos en IMDB\n",
    "\n",
    "sleep(2)\n",
    "\n",
    "driver.get(\"https://www.imdb.com/\")\n",
    "\n",
    "sleep(2)\n",
    "\n",
    "id = test [0][5] #Lo probamos primero con uno primero (el primero de las tuplas). Como el ID está en la posición 6, indico que me busque por esto\n",
    "\n",
    "driver.find_element(\"css selector\", \"#suggestion-search\").send_keys(id, Keys.ENTER) #Para itroducir el ID en el cambo de búsqueda\n",
    "\n",
    "sleep(3)\n",
    "\n",
    "#Cdo estamos dentro de la peli, vamos a coger los nombres de los 10 primeros actores que aparecen bajo top cast y para ello hacemos un for loop. Puesto que puede que algunas pelis o cortos no tengan 10, tenemos que hacer un try y except y bajo el except, incluir \"NA\" para que el tampo de mis tuplas sean de 10\n",
    "\n",
    "lista_actores = []\n",
    "\n",
    "lista_actores_consumible = []\n",
    "\n",
    "for i in range (1,11):\n",
    "\n",
    "    try:\n",
    "        nombre_actor = driver.find_element(\"css selector\", f\"#__next > main > div > section.ipc-page-background.ipc-page-background--base.sc-304f99f6-0.eaRXHu > div > section > div > div.sc-9178d6fe-1.kFxVZc.ipc-page-grid__item.ipc-page-grid__item--span-2 > section.ipc-page-section.ipc-page-section--base.sc-bfec09a1-0.gmonkL.title-cast.title-cast--movie.celwidget > div.ipc-shoveler.ipc-shoveler--base.ipc-shoveler--page0.title-cast__grid > div.ipc-sub-grid.ipc-sub-grid--page-span-2.ipc-sub-grid--wraps-at-above-l.ipc-shoveler__grid > div:nth-child({i}) > div.sc-bfec09a1-7.dpBDvu > a\").text\n",
    "        lista_actores_consumible.append (nombre_actor)\n",
    "\n",
    "    except:\n",
    "        lista_actores.append(\"NA\")\n",
    "    \n",
    "lista_actores_consumible.append(id) #Lo pongo al nivel del \"for\" para que lo apendee una vez y no cada vez que itere un actor y lo añado a la lista de consumible para que aparezca dentro de la lista de tuplas de actores y tb lo pongo antes de convertir la lista a tupla (línea de código a continuación)\n",
    "\n",
    "lista_actores.append (tuple(lista_actores_consumible))\n",
    "\n"
   ]
  },
  {
   "cell_type": "code",
   "execution_count": 23,
   "metadata": {},
   "outputs": [
    {
     "data": {
      "text/plain": [
       "[('Michael Petrovitch',\n",
       "  'Philip Latham',\n",
       "  'Don Fellows',\n",
       "  'Michael Gwynn',\n",
       "  'Nicholas Parsons',\n",
       "  'Toby Robins',\n",
       "  'Tessa Wyatt',\n",
       "  'Derren Nesbitt',\n",
       "  'Nigel Plaskitt',\n",
       "  'Ciaran Madden',\n",
       "  'tt0075259')]"
      ]
     },
     "execution_count": 23,
     "metadata": {},
     "output_type": "execute_result"
    }
   ],
   "source": [
    "lista_actores"
   ]
  },
  {
   "cell_type": "code",
   "execution_count": 4,
   "metadata": {},
   "outputs": [
    {
     "data": {
      "text/plain": [
       "'tt0075259'"
      ]
     },
     "execution_count": 4,
     "metadata": {},
     "output_type": "execute_result"
    }
   ],
   "source": [
    "test [0][5]"
   ]
  },
  {
   "cell_type": "code",
   "execution_count": 5,
   "metadata": {},
   "outputs": [
    {
     "name": "stdout",
     "output_type": "stream",
     "text": [
      "tt0075259\n",
      "tt10107370\n",
      "tt0075259\n",
      "tt1130884\n",
      "tt0104691\n"
     ]
    }
   ],
   "source": [
    "for peli in test:\n",
    "    print (peli[5])"
   ]
  },
  {
   "cell_type": "markdown",
   "metadata": {},
   "source": [
    "### Extracción de actores para todas las pelis del test"
   ]
  },
  {
   "cell_type": "code",
   "execution_count": 4,
   "metadata": {},
   "outputs": [],
   "source": [
    "driver = webdriver.Chrome()\n",
    "\n",
    "driver.maximize_window() #Maximizamos ventana antes de meternos en IMDB\n",
    "\n",
    "sleep(2)\n",
    "\n",
    "driver.get(\"https://www.imdb.com/\")\n",
    "\n",
    "sleep(2)\n",
    "\n",
    "lista_actors = []\n",
    "\n",
    "for peli in test:\n",
    "\n",
    "    driver.find_element(\"css selector\", \"#suggestion-search\").send_keys(peli[5], Keys.ENTER) #Para que coja el ID de cada tupla de peli\n",
    "\n",
    "    lista_actores_consumible = []\n",
    "    \n",
    "    for i in range (1,11):\n",
    "\n",
    "        try:\n",
    "            nombre_actor = driver.find_element(\"css selector\", f\"#__next > main > div > section.ipc-page-background.ipc-page-background--base.sc-304f99f6-0.eaRXHu > div > section > div > div.sc-9178d6fe-1.kFxVZc.ipc-page-grid__item.ipc-page-grid__item--span-2 > section.ipc-page-section.ipc-page-section--base.sc-bfec09a1-0.gmonkL.title-cast.title-cast--movie.celwidget > div.ipc-shoveler.ipc-shoveler--base.ipc-shoveler--page0.title-cast__grid > div.ipc-sub-grid.ipc-sub-grid--page-span-2.ipc-sub-grid--wraps-at-above-l.ipc-shoveler__grid > div:nth-child({i}) > div.sc-bfec09a1-7.dpBDvu > a\").text\n",
    "            lista_actores_consumible.append (nombre_actor)\n",
    "\n",
    "        except:\n",
    "            lista_actores_consumible.append(\"NA\")\n",
    "    \n",
    "    lista_actores_consumible.append(peli[5]) #Lo pongo al nivel del \"for\" para que lo apendee una vez y no cada vez que itere un actor y lo añado a la lista de consumible para que aparezca dentro de la lista de tuplas de actores y tb lo pongo antes de convertir la lista a tupla (línea de código a continuación)\n",
    "\n",
    "    lista_actors.append (tuple(lista_actores_consumible))\n",
    "\n",
    "    driver.back()"
   ]
  },
  {
   "cell_type": "code",
   "execution_count": 5,
   "metadata": {},
   "outputs": [
    {
     "data": {
      "text/plain": [
       "[('Michael Petrovitch',\n",
       "  'Philip Latham',\n",
       "  'Don Fellows',\n",
       "  'Michael Gwynn',\n",
       "  'Nicholas Parsons',\n",
       "  'Toby Robins',\n",
       "  'Tessa Wyatt',\n",
       "  'Derren Nesbitt',\n",
       "  'Nigel Plaskitt',\n",
       "  'Ciaran Madden',\n",
       "  'tt0075259'),\n",
       " ('Corné Koegelenberg',\n",
       "  'Retief van der Liefde',\n",
       "  'Lilani Prinsen',\n",
       "  'NA',\n",
       "  'NA',\n",
       "  'NA',\n",
       "  'NA',\n",
       "  'NA',\n",
       "  'NA',\n",
       "  'NA',\n",
       "  'tt10107370'),\n",
       " ('Michael Petrovitch',\n",
       "  'Philip Latham',\n",
       "  'Don Fellows',\n",
       "  'Michael Gwynn',\n",
       "  'Nicholas Parsons',\n",
       "  'Toby Robins',\n",
       "  'Tessa Wyatt',\n",
       "  'Derren Nesbitt',\n",
       "  'Nigel Plaskitt',\n",
       "  'Ciaran Madden',\n",
       "  'tt0075259'),\n",
       " ('Leonardo DiCaprio',\n",
       "  'Emily Mortimer',\n",
       "  'Mark Ruffalo',\n",
       "  'Ben Kingsley',\n",
       "  'Max von Sydow',\n",
       "  'Michelle Williams',\n",
       "  'Patricia Clarkson',\n",
       "  'Jackie Earle Haley',\n",
       "  'Ted Levine',\n",
       "  'John Carroll Lynch',\n",
       "  'tt1130884'),\n",
       " ('Daniel Day-Lewis',\n",
       "  'Madeleine Stowe',\n",
       "  'Russell Means',\n",
       "  'Eric Schweig',\n",
       "  'Jodhi May',\n",
       "  'Steven Waddington',\n",
       "  'Wes Studi',\n",
       "  'Maurice Roëves',\n",
       "  'Patrice Chéreau',\n",
       "  'Edward Blatchford',\n",
       "  'tt0104691')]"
      ]
     },
     "execution_count": 5,
     "metadata": {},
     "output_type": "execute_result"
    }
   ],
   "source": [
    "lista_actors"
   ]
  },
  {
   "cell_type": "markdown",
   "metadata": {},
   "source": [
    "### Info de  actores para todas las pelis"
   ]
  },
  {
   "cell_type": "code",
   "execution_count": 15,
   "metadata": {},
   "outputs": [],
   "source": [
    "driver = webdriver.Chrome()\n",
    "\n",
    "driver.maximize_window() #Maximizamos ventana antes de meternos en IMDB\n",
    "\n",
    "sleep(2)\n",
    "\n",
    "driver.get(\"https://www.imdb.com/\")\n",
    "\n",
    "sleep(2)\n",
    "\n",
    "info_actores = []\n",
    "\n",
    "for actores_peli in lista_actors[3:5]:\n",
    "\n",
    "    info_actores_consumible = []\n",
    "\n",
    "    for actores in actores_peli [0:2]:\n",
    "    \n",
    "        info_actores_consumible.append (actores.upper()) #AÑADIMOS NOMBRE en mayúsculas para verlo bien\n",
    "\n",
    "        if actores == \"NA\":\n",
    "            info_actores_consumible.append (\"NA nacimiento\")\n",
    "            info_actores_consumible.append (\"NA conocido\")\n",
    "            info_actores_consumible.append (\"NA profesión\")\n",
    "            info_actores_consumible.append (\"NA oscars\")\n",
    "\n",
    "\n",
    "        else:\n",
    "\n",
    "            driver.find_element(\"css selector\", \"#suggestion-search\").send_keys(actores, Keys.ENTER) #busco cada actor en el \"search box\"\n",
    "\n",
    "            sleep (2)\n",
    "                    \n",
    "            #Click en el resultado el actor para ver su información\n",
    "            driver.find_element(\"css selector\", \"#__next > main > div.ipc-page-content-container.ipc-page-content-container--full.sc-383f2ac5-0.bfcGjo > div.ipc-page-content-container.ipc-page-content-container--center > section > div > div.ipc-page-grid__item.ipc-page-grid__item--span-2 > section:nth-child(3) > div.sc-17bafbdb-2.ffAEHI > ul > li:nth-child(1) > div.ipc-metadata-list-summary-item__c > div > a\").click()\n",
    "            \n",
    "            sleep (2)\n",
    "            \n",
    "            #AÑADIMOS AÑO DE NACIMIENTO      \n",
    "            try:\n",
    "                nacimiento = driver.find_element (\"css selector\", \"#__next > main > div > section.ipc-page-background.ipc-page-background--base.sc-304f99f6-0.eaRXHu > section > div:nth-child(4) > section > section > div.sc-e226b0e3-4.ecgcFy > div.sc-e226b0e3-6.hfusNC > div.sc-e226b0e3-11.jSQoAO > section > aside > div > span:nth-child(2)\"). text\n",
    "                info_actores_consumible.append (nacimiento.split(\",\")[1]) \n",
    "            \n",
    "            except:\n",
    "                info_actores_consumible.append (\"NA nacimiento\")\n",
    "            \n",
    "            sleep(3) \n",
    "\n",
    "            \n",
    "            #AÑADIMOS POR QUÉ ES CONOCIDO      \n",
    "            try:\n",
    "                conocido = driver.find_element (\"css selector\", \"#__next > main > div > section.ipc-page-background.ipc-page-background--base.sc-304f99f6-0.eaRXHu > div > section > div > div.sc-9178d6fe-1.kFxVZc.ipc-page-grid__item.ipc-page-grid__item--span-2 > div.celwidget > section:nth-child(1) > div.sc-a6d4b6c0-0.jGufEe\"). text\n",
    "                info_actores_consumible.append (conocido.split(\"\\n\")[0: :4]) ### Cómo hacer para que sólo me aparezcan los títulos???? no es siempre cada 4\n",
    "            \n",
    "            except:\n",
    "                info_actores_consumible.append (\"NA por qué es conocido\")\n",
    "            \n",
    "            sleep(3)\n",
    "\n",
    "            #AÑADIMOS PROFESIÓN\n",
    "            try:\n",
    "                profesion = driver.find_element (\"css selector\", \"#__next > main > div > section.ipc-page-background.ipc-page-background--base.sc-304f99f6-0.eaRXHu > section > div:nth-child(4) > section > section > div.sc-e226b0e3-3.jJsEuz > div > ul\"). text\n",
    "                info_actores_consumible.append (profesion.split(\"\\n\"))           \n",
    "            \n",
    "            except:\n",
    "                info_actores_consumible.append (\"NA profesion\")\n",
    "\n",
    "            #AÑADIMOS INFO SOBRE OSCARS\n",
    "            try:\n",
    "                oscars = driver.find_element (\"css selector\", \"#__next > main > div > section.ipc-page-background.ipc-page-background--base.sc-304f99f6-0.eaRXHu > div > section > div > div.sc-9178d6fe-1.kFxVZc.ipc-page-grid__item.ipc-page-grid__item--span-2 > section:nth-child(3) > div > ul > li > a.ipc-metadata-list-item__label.ipc-metadata-list-item__label--link\"). text\n",
    "                info_actores_consumible.append (oscars)           \n",
    "            \n",
    "            except:\n",
    "                info_actores_consumible.append (\"No ha ganado ningún oscar\")\n",
    "    \n",
    "    \n",
    "    info_actores_consumible.append(actores_peli[10]) #Lo pongo al nivel del \"for\" para que lo apendee una vez y no cada vez que itere un actor y lo añado a la lista de consumible para que aparezca dentro de la lista de tuplas de actores y tb lo pongo antes de convertir la lista a tupla (línea de código a continuación)\n",
    "\n",
    "    info_actores.append (tuple(info_actores_consumible))\n",
    "\n",
    "    driver.back()\n"
   ]
  },
  {
   "cell_type": "code",
   "execution_count": 16,
   "metadata": {},
   "outputs": [
    {
     "data": {
      "text/plain": [
       "[('LEONARDO DICAPRIO',\n",
       "  ' 1974',\n",
       "  ['Inception', 'Titanic', 'The Departed', 'The Aviator'],\n",
       "  ['Producer', 'Actor', 'Writer'],\n",
       "  'Won 1 Oscar',\n",
       "  'EMILY MORTIMER',\n",
       "  ' 1971',\n",
       "  ['Mary Poppins Returns',\n",
       "   'Lars and the Real Girl',\n",
       "   'Match Point',\n",
       "   'Transsiberian'],\n",
       "  ['Actress', 'Writer', 'Producer'],\n",
       "  'Nominated for 1 BAFTA Award',\n",
       "  'tt1130884'),\n",
       " ('DANIEL DAY-LEWIS',\n",
       "  ' 1957',\n",
       "  ['There Will Be Blood',\n",
       "   'The Last of the Mohicans',\n",
       "   'Lincoln',\n",
       "   'Gangs of New York'],\n",
       "  ['Actor', 'Music Department', 'Soundtrack'],\n",
       "  'Won 3 Oscars',\n",
       "  'MADELEINE STOWE',\n",
       "  ' 1958',\n",
       "  ['Twelve Monkeys',\n",
       "   \"The General's Daughter\",\n",
       "   'Short Cuts',\n",
       "   'The Last of the Mohicans'],\n",
       "  ['Actress', 'Director', 'Writer'],\n",
       "  'Awards',\n",
       "  'tt0104691')]"
      ]
     },
     "execution_count": 16,
     "metadata": {},
     "output_type": "execute_result"
    }
   ],
   "source": [
    "info_actores"
   ]
  },
  {
   "cell_type": "code",
   "execution_count": 57,
   "metadata": {},
   "outputs": [
    {
     "data": {
      "text/plain": [
       "['Skemer',\n",
       " 'TV Movie',\n",
       " 'Writer',\n",
       " '2022',\n",
       " 'Eenrigting',\n",
       " 'Short',\n",
       " 'Writer',\n",
       " '2014',\n",
       " 'Die Groot Dag',\n",
       " 'TV Movie',\n",
       " 'Writer',\n",
       " '2023',\n",
       " 'Valentynssokkie',\n",
       " 'TV Movie',\n",
       " 'Writer',\n",
       " '2023']"
      ]
     },
     "execution_count": 57,
     "metadata": {},
     "output_type": "execute_result"
    }
   ],
   "source": [
    "ver = 'Skemer\\nTV Movie\\nWriter\\n2022\\nEenrigting\\nShort\\nWriter\\n2014\\nDie Groot Dag\\nTV Movie\\nWriter\\n2023\\nValentynssokkie\\nTV Movie\\nWriter\\n2023'\n",
    "ver.split(\"\\n\")"
   ]
  },
  {
   "cell_type": "markdown",
   "metadata": {},
   "source": [
    "## TODO JUNTO"
   ]
  },
  {
   "cell_type": "code",
   "execution_count": 20,
   "metadata": {},
   "outputs": [
    {
     "name": "stdout",
     "output_type": "stream",
     "text": [
      "[('Michael Petrovitch', 'Philip Latham', 'Don Fellows', 'Michael Gwynn', 'Nicholas Parsons', 'Toby Robins', 'Tessa Wyatt', 'Derren Nesbitt', 'Nigel Plaskitt', 'Ciaran Madden', 'tt0075259'), ('Corné Koegelenberg', 'Retief van der Liefde', 'Lilani Prinsen', 'NA', 'NA', 'NA', 'NA', 'NA', 'NA', 'NA', 'tt10107370'), ('Michael Petrovitch', 'Philip Latham', 'Don Fellows', 'Michael Gwynn', 'Nicholas Parsons', 'Toby Robins', 'Tessa Wyatt', 'Derren Nesbitt', 'Nigel Plaskitt', 'Ciaran Madden', 'tt0075259'), ('Leonardo DiCaprio', 'Emily Mortimer', 'Mark Ruffalo', 'Ben Kingsley', 'Max von Sydow', 'Michelle Williams', 'Patricia Clarkson', 'Jackie Earle Haley', 'Ted Levine', 'John Carroll Lynch', 'tt1130884'), ('Daniel Day-Lewis', 'Madeleine Stowe', 'Russell Means', 'Eric Schweig', 'Jodhi May', 'Steven Waddington', 'Wes Studi', 'Maurice Roëves', 'Patrice Chéreau', 'Edward Blatchford', 'tt0104691')]\n",
      "[('LEONARDO DICAPRIO', ' 1974', ['Inception', 'Titanic', 'The Departed', 'The Aviator'], ['Producer', 'Actor', 'Writer'], 'Won 1 Oscar', 'EMILY MORTIMER', ' 1971', ['Mary Poppins Returns', 'Lars and the Real Girl', 'Match Point', 'Transsiberian'], ['Actress', 'Writer', 'Producer'], 'Nominated for 1 BAFTA Award', 'tt1130884'), ('DANIEL DAY-LEWIS', ' 1957', ['There Will Be Blood', 'The Last of the Mohicans', 'Lincoln', 'Gangs of New York'], ['Actor', 'Music Department', 'Soundtrack'], 'Won 3 Oscars', 'MADELEINE STOWE', ' 1958', ['Twelve Monkeys', \"The General's Daughter\", 'Short Cuts', 'The Last of the Mohicans'], ['Actress', 'Director', 'Writer'], 'Awards', 'tt0104691')]\n"
     ]
    }
   ],
   "source": [
    "driver = webdriver.Chrome()\n",
    "\n",
    "driver.maximize_window() #Maximizamos ventana antes de meternos en IMDB\n",
    "\n",
    "sleep(2)\n",
    "\n",
    "driver.get(\"https://www.imdb.com/\")\n",
    "\n",
    "sleep(2)\n",
    "\n",
    "lista_actors = []\n",
    "\n",
    "for peli in test:\n",
    "\n",
    "    driver.find_element(\"css selector\", \"#suggestion-search\").send_keys(peli[5], Keys.ENTER) #Para que coja el ID de cada tupla de peli\n",
    "\n",
    "    lista_actores_consumible = []\n",
    "    \n",
    "    for i in range (1,11):\n",
    "\n",
    "        try:\n",
    "            nombre_actor = driver.find_element(\"css selector\", f\"#__next > main > div > section.ipc-page-background.ipc-page-background--base.sc-304f99f6-0.eaRXHu > div > section > div > div.sc-9178d6fe-1.kFxVZc.ipc-page-grid__item.ipc-page-grid__item--span-2 > section.ipc-page-section.ipc-page-section--base.sc-bfec09a1-0.gmonkL.title-cast.title-cast--movie.celwidget > div.ipc-shoveler.ipc-shoveler--base.ipc-shoveler--page0.title-cast__grid > div.ipc-sub-grid.ipc-sub-grid--page-span-2.ipc-sub-grid--wraps-at-above-l.ipc-shoveler__grid > div:nth-child({i}) > div.sc-bfec09a1-7.dpBDvu > a\").text\n",
    "            lista_actores_consumible.append (nombre_actor)\n",
    "\n",
    "        except:\n",
    "            lista_actores_consumible.append(\"NA\")\n",
    "    \n",
    "    lista_actores_consumible.append(peli[5]) #Lo pongo al nivel del \"for\" para que lo apendee una vez y no cada vez que itere un actor y lo añado a la lista de consumible para que aparezca dentro de la lista de tuplas de actores y tb lo pongo antes de convertir la lista a tupla (línea de código a continuación)\n",
    "\n",
    "    lista_actors.append (tuple(lista_actores_consumible))\n",
    "\n",
    "    driver.back()\n",
    "\n",
    "print (lista_actors)\n",
    "\n",
    "# SEGUNDA PARTE -INFO ACTOR\n",
    "\n",
    "info_actores = []\n",
    "\n",
    "for actores_peli in lista_actors[3:5]: #para hacerlo mas corto, solo cojo las 2 últimas pelis\n",
    "\n",
    "    info_actores_consumible = []\n",
    "\n",
    "    for actores in actores_peli [0:2]:\n",
    "    \n",
    "        info_actores_consumible.append (actores.upper()) #AÑADIMOS NOMBRE en mayúsculas para verlo bien\n",
    "\n",
    "        if actores == \"NA\":\n",
    "            info_actores_consumible.append (\"NA nacimiento\")\n",
    "            info_actores_consumible.append (\"NA conocido\")\n",
    "            info_actores_consumible.append (\"NA profesión\")\n",
    "            info_actores_consumible.append (\"NA oscars\")\n",
    "\n",
    "\n",
    "        else:\n",
    "\n",
    "            driver.find_element(\"css selector\", \"#suggestion-search\").send_keys(actores, Keys.ENTER) #busco cada actor en el \"search box\"\n",
    "\n",
    "            sleep (2)\n",
    "                    \n",
    "            #Click en el resultado el actor para ver su información\n",
    "            driver.find_element(\"css selector\", \"#__next > main > div.ipc-page-content-container.ipc-page-content-container--full.sc-383f2ac5-0.bfcGjo > div.ipc-page-content-container.ipc-page-content-container--center > section > div > div.ipc-page-grid__item.ipc-page-grid__item--span-2 > section:nth-child(3) > div.sc-17bafbdb-2.ffAEHI > ul > li:nth-child(1) > div.ipc-metadata-list-summary-item__c > div > a\").click()\n",
    "            \n",
    "            sleep (2)\n",
    "            \n",
    "            #AÑADIMOS AÑO DE NACIMIENTO      \n",
    "            try:\n",
    "                nacimiento = driver.find_element (\"css selector\", \"#__next > main > div > section.ipc-page-background.ipc-page-background--base.sc-304f99f6-0.eaRXHu > section > div:nth-child(4) > section > section > div.sc-e226b0e3-4.ecgcFy > div.sc-e226b0e3-6.hfusNC > div.sc-e226b0e3-11.jSQoAO > section > aside > div > span:nth-child(2)\"). text\n",
    "                info_actores_consumible.append (nacimiento.split(\",\")[1]) \n",
    "            \n",
    "            except:\n",
    "                info_actores_consumible.append (\"NA nacimiento\")\n",
    "            \n",
    "            sleep(3) \n",
    "\n",
    "            \n",
    "            #AÑADIMOS POR QUÉ ES CONOCIDO      \n",
    "            try:\n",
    "                conocido = driver.find_element (\"css selector\", \"#__next > main > div > section.ipc-page-background.ipc-page-background--base.sc-304f99f6-0.eaRXHu > div > section > div > div.sc-9178d6fe-1.kFxVZc.ipc-page-grid__item.ipc-page-grid__item--span-2 > div.celwidget > section:nth-child(1) > div.sc-a6d4b6c0-0.jGufEe\"). text\n",
    "                info_actores_consumible.append (conocido.split(\"\\n\")[0: :4]) ### Cómo hacer para que sólo me aparezcan los títulos???? no es siempre cada 4\n",
    "            \n",
    "            except:\n",
    "                info_actores_consumible.append (\"NA por qué es conocido\")\n",
    "            \n",
    "            sleep(3)\n",
    "\n",
    "            #AÑADIMOS PROFESIÓN\n",
    "            try:\n",
    "                profesion = driver.find_element (\"css selector\", \"#__next > main > div > section.ipc-page-background.ipc-page-background--base.sc-304f99f6-0.eaRXHu > section > div:nth-child(4) > section > section > div.sc-e226b0e3-3.jJsEuz > div > ul\"). text\n",
    "                info_actores_consumible.append (profesion.split(\"\\n\"))           \n",
    "            \n",
    "            except:\n",
    "                info_actores_consumible.append (\"NA profesion\")\n",
    "\n",
    "            #AÑADIMOS INFO SOBRE OSCARS\n",
    "            try:\n",
    "                oscars = driver.find_element (\"css selector\", \"#__next > main > div > section.ipc-page-background.ipc-page-background--base.sc-304f99f6-0.eaRXHu > div > section > div > div.sc-9178d6fe-1.kFxVZc.ipc-page-grid__item.ipc-page-grid__item--span-2 > section:nth-child(3) > div > ul > li > a.ipc-metadata-list-item__label.ipc-metadata-list-item__label--link\"). text\n",
    "                info_actores_consumible.append (oscars)           \n",
    "            \n",
    "            except:\n",
    "                info_actores_consumible.append (\"No ha ganado ningún oscar\")\n",
    "    \n",
    "    \n",
    "    info_actores_consumible.append(actores_peli[10]) #Lo pongo al nivel del \"for\" para que lo apendee una vez y no cada vez que itere un actor y lo añado a la lista de consumible para que aparezca dentro de la lista de tuplas de actores y tb lo pongo antes de convertir la lista a tupla (línea de código a continuación)\n",
    "\n",
    "    info_actores.append (tuple(info_actores_consumible))\n",
    "\n",
    "    driver.back()\n",
    "\n",
    "print (info_actores)"
   ]
  }
 ],
 "metadata": {
  "kernelspec": {
   "display_name": "base",
   "language": "python",
   "name": "python3"
  },
  "language_info": {
   "codemirror_mode": {
    "name": "ipython",
    "version": 3
   },
   "file_extension": ".py",
   "mimetype": "text/x-python",
   "name": "python",
   "nbconvert_exporter": "python",
   "pygments_lexer": "ipython3",
   "version": "3.11.6"
  }
 },
 "nbformat": 4,
 "nbformat_minor": 2
}
