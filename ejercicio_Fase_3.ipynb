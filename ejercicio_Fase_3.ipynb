{
 "cells": [
  {
   "cell_type": "code",
   "execution_count": 1,
   "metadata": {},
   "outputs": [],
   "source": [
    "import pandas as pd \n",
    "#from bs4 import BeautifulSoup\n",
    "import requests\n",
    "from selenium import webdriver  \n",
    "from webdriver_manager.chrome import ChromeDriverManager  \n",
    "from selenium.webdriver.common.keys import Keys  \n",
    "from selenium.webdriver.support.ui import Select  \n",
    "from time import sleep  \n",
    "pd.set_option('display.max_columns', None)"
   ]
  },
  {
   "cell_type": "code",
   "execution_count": 2,
   "metadata": {},
   "outputs": [],
   "source": [
    "test = [(\"Action\", \"Movie\", \"Spy Story\", 1990, 3, \"tt0075259\"), (\"Comedy\", \"Short\", \"Like My Profile\", 2012, 0, \"tt10107370\"), (\"Action\", \"Movie\", \"Spy Story\", 1990, 3, \"tt0075259\"), (\"Mystery\", \"Movie\", \"Shutter Island\", 2010, 2, \"tt1130884\"), (\"Romance\", \"Movie\", \"The Last of the Mohicans\", 1993, 1, \"tt0104691\") ]  #En el orden que aparece en el csv: género, tipo, nombre, año, mes y id"
   ]
  },
  {
   "cell_type": "code",
   "execution_count": null,
   "metadata": {},
   "outputs": [],
   "source": [
    "driver = webdriver.Chrome()\n",
    "\n",
    "driver.maximize_window() #Maximizamos ventana antes de meternos en IMDB\n",
    "\n",
    "sleep(2)\n",
    "\n",
    "driver.get(\"https://www.imdb.com/\")\n",
    "\n",
    "sleep(2)\n",
    "\n",
    "eleccion_usuario = test [0][5] #Lo probamos primero con uno primero (el primero de las tuplas). Como el ID está en la posición 6, indico que me busque por esto\n",
    "\n",
    "driver.find_element(\"css selector\", \"#suggestion-search\").send_keys(eleccion_usuario, Keys.ENTER) #Para itroducir el ID en el cambo de búsqueda\n",
    "\n",
    "sleep(3)\n",
    "\n",
    "#Cdo estamos dentro de la peli, vamos a coger los nombres de los 10 primeros actores que aparecen bajo top cast y para ello hacemos un for loop. Puesto que puede que algunas pelis o cortos no tengan 10, tenemos que hacer un try y except y bajo el except, incluir \"NA\" para que el tampo de mis tuplas sean de 10\n",
    "\n",
    "lista_actores = []\n",
    "\n",
    "for i in range (1,11):\n",
    "    lista_actores_consumible = []\n",
    "    try:\n",
    "        nombre_actor = driver.find_element(\"css selector\", \"#__next > main > div > section.ipc-page-background.ipc-page-background--base.sc-304f99f6-0.eaRXHu > div > section > div > div.sc-9178d6fe-1.kFxVZc.ipc-page-grid__item.ipc-page-grid__item--span-2 > section.ipc-page-section.ipc-page-section--base.sc-bfec09a1-0.gmonkL.title-cast.title-cast--movie.celwidget > div.ipc-shoveler.ipc-shoveler--base.ipc-shoveler--page0.title-cast__grid > div.ipc-sub-grid.ipc-sub-grid--page-span-2.ipc-sub-grid--wraps-at-above-l.ipc-shoveler__grid > div:nth-child(1) > div.sc-bfec09a1-7.dpBDvu > a\").text\n",
    "        lista_actores.append (tuple)\n",
    "\n"
   ]
  },
  {
   "cell_type": "code",
   "execution_count": 4,
   "metadata": {},
   "outputs": [
    {
     "data": {
      "text/plain": [
       "'tt0075259'"
      ]
     },
     "execution_count": 4,
     "metadata": {},
     "output_type": "execute_result"
    }
   ],
   "source": [
    "test [0][5]"
   ]
  },
  {
   "cell_type": "code",
   "execution_count": 5,
   "metadata": {},
   "outputs": [
    {
     "name": "stdout",
     "output_type": "stream",
     "text": [
      "tt0075259\n",
      "tt10107370\n",
      "tt0075259\n",
      "tt1130884\n",
      "tt0104691\n"
     ]
    }
   ],
   "source": [
    "for peli in test:\n",
    "    print (peli[5])"
   ]
  },
  {
   "cell_type": "code",
   "execution_count": null,
   "metadata": {},
   "outputs": [],
   "source": [
    "#ACTORES\n",
    "\n",
    "nombre = driver.find_element(\"css selector\", \"\").text\n",
    "sleep(3)\n",
    "\n",
    "nacimiento = driver.find_element(\"css selector\", \"\").text\n",
    "sleep(3)\n",
    "\n",
    "conocimiento = driver.find_element(\"css selector\", \"\").text\n",
    "sleep(3)\n",
    "\n",
    "hace = driver.find_element(\"css selector\", \"\").text\n",
    "sleep(3)\n",
    "\n",
    "premios = driver.find_element(\"css selector\", \"\").text\n",
    "sleep(3)"
   ]
  }
 ],
 "metadata": {
  "kernelspec": {
   "display_name": "base",
   "language": "python",
   "name": "python3"
  },
  "language_info": {
   "codemirror_mode": {
    "name": "ipython",
    "version": 3
   },
   "file_extension": ".py",
   "mimetype": "text/x-python",
   "name": "python",
   "nbconvert_exporter": "python",
   "pygments_lexer": "ipython3",
   "version": "3.11.6"
  }
 },
 "nbformat": 4,
 "nbformat_minor": 2
}
