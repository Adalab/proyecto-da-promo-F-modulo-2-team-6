{
 "cells": [
  {
   "cell_type": "code",
   "execution_count": null,
   "metadata": {},
   "outputs": [],
   "source": [
    "import requests\n",
    "import pandas as pd"
   ]
  },
  {
   "cell_type": "code",
   "execution_count": null,
   "metadata": {},
   "outputs": [],
   "source": [
    "#Iteramos por género, año y página\n",
    "generos = [\"Drama\", \"Comedy\", \"Action\", \"Fantasy\", \"Horror\", \"Mystery\", \"Romance\", \"Thriller\"]\n",
    "\n",
    "lista_pelis = []\n",
    "\n",
    "for genero in generos:\n",
    "\tfor year in range (1990, 1999): #cambiar años -- he reducido para que tardarse menos\n",
    "\t\tfor page in range (1, 10):\n",
    "\t\t\ttry:\n",
    "\t\t\t\turl_pelis = f\"https://moviesdatabase.p.rapidapi.com/titles?year={year}&genre={genero}&page={page}\"\n",
    "\t\t\t\theaders = {\n",
    "\t\t\t\t\t\"X-RapidAPI-Key\": \"1ef9312677msh54e21139cb02deap1a8f37jsn53623375f3fe\",\n",
    "\t\t\t\t\t\"X-RapidAPI-Host\": \"moviesdatabase.p.rapidapi.com\"}\n",
    "\t\t\t\t#print (url_pelis)\n",
    "\t\t\t\tllamada = requests.get(url_pelis, headers=headers)\n",
    "\t\t\t\tprint (llamada.reason)\n",
    "\t\t\t\t#print (\"_____\")\n",
    "\t\t\t\tpelis = llamada.json()[\"results\"]\n",
    "\n",
    "\t\t\t\tfor peli in pelis:\n",
    "\t\t\t\t\t#Puesto que cada iteración es una peli que se va a ir llenando y vaciando cuando iteramos para que se vaya añadiendo como una lista por peli a la lista de pelis grandes\n",
    "\t\t\t\t\tlista_consumible = [] \n",
    "\t\t\t\t\t# Estas son las rutas de nuestras variables que las incluímos antes del \"if\" porque la condición depende de estas variables\n",
    "\t\t\t\t\tyear = year\n",
    "\t\t\t\t\tid = peli[\"id\"]\n",
    "\t\t\t\t\ttipo = peli[\"titleType\"][\"text\"]\n",
    "\t\t\t\t\tnombre = peli[\"titleText\"][\"text\"]\n",
    "\t\t\t\t\tanio = peli[\"releaseDate\"][\"year\"]\n",
    "\t\t\t\t\tmes = peli[\"releaseDate\"][\"month\"]\n",
    "\t\t\t\t\t\t\t\t\t\t\t\n",
    "\t\t\t\t\tif tipo == \"Movie\" or tipo == \"Short\": #PUesto que sólo queremos pelis y cortos, creamos una condición para añadir sólo este tipo a nuestra lista de consumible y lista de pelis global\n",
    "\t\t\t\t\t\tlista_consumible.append(year) #Es para verificar que está iterando por todos los años. Lo quitamos luego\n",
    "\t\t\t\t\t\tlista_consumible.append(id)\n",
    "\t\t\t\t\t\tlista_consumible.append(tipo)\n",
    "\t\t\t\t\t\tlista_consumible.append(nombre)\n",
    "\t\t\t\t\t\tlista_consumible.append(anio)\n",
    "\t\t\t\t\t\tlista_consumible.append(mes)\n",
    "\t\t\t\t\t\tlista_pelis.append(lista_consumible) #Una vez que crea la lista de consumible en el que cada lista es una peli, se añade a la lista de pelis para que tengamos una lista por peli\n",
    "\t\t\t\t\t\t\n",
    "\t\t\t\t\telse: \n",
    "\t\t\t\t\t\tpass\t\n",
    "\t\t\t\t\t\t\t\n",
    "\t\t\texcept:\n",
    "\t\t\t\tpass #si ponemos un \"break\" el código se deja de ejecutar y lo que queremos es que itere todos los géneros y años, aunque haya un límite de páginas por género y año. por lo que si se encuentra con que hay un númro inferior de páginas, le indicamos que pase y continue iterando\n",
    "\t\t\t\n",
    "\t\t\t"
   ]
  },
  {
   "cell_type": "code",
   "execution_count": null,
   "metadata": {},
   "outputs": [],
   "source": [
    "lista_pelis"
   ]
  },
  {
   "cell_type": "code",
   "execution_count": null,
   "metadata": {},
   "outputs": [],
   "source": [
    "df = pd.DataFrame(lista_pelis)"
   ]
  },
  {
   "cell_type": "code",
   "execution_count": null,
   "metadata": {},
   "outputs": [],
   "source": [
    "df.shape"
   ]
  },
  {
   "cell_type": "code",
   "execution_count": null,
   "metadata": {},
   "outputs": [],
   "source": [
    "df.head(20)"
   ]
  },
  {
   "cell_type": "code",
   "execution_count": null,
   "metadata": {},
   "outputs": [],
   "source": [
    "df.tail(20)"
   ]
  },
  {
   "cell_type": "code",
   "execution_count": null,
   "metadata": {},
   "outputs": [],
   "source": [
    "df.duplicated().sum()  #Estos son los duplicados??"
   ]
  }
 ],
 "metadata": {
  "kernelspec": {
   "display_name": "base",
   "language": "python",
   "name": "python3"
  },
  "language_info": {
   "codemirror_mode": {
    "name": "ipython",
    "version": 3
   },
   "file_extension": ".py",
   "mimetype": "text/x-python",
   "name": "python",
   "nbconvert_exporter": "python",
   "pygments_lexer": "ipython3",
   "version": "3.11.5"
  },
  "orig_nbformat": 4
 },
 "nbformat": 4,
 "nbformat_minor": 2
}
