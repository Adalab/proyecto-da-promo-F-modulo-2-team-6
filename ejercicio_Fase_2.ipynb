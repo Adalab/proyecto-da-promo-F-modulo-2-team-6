{
 "cells": [
  {
   "cell_type": "code",
   "execution_count": 6,
   "metadata": {},
   "outputs": [],
   "source": [
    "# Importar librerías para tratamiento de datos\n",
    "# -----------------------------------------------------------------------\n",
    "import pandas as pd  # Pandas es una poderosa librería para manipulación y análisis de datos en Python.\n",
    "\n",
    "# Importar librerías para web scraping y manipulación de datos\n",
    "# -----------------------------------------------------------------------\n",
    "from bs4 import BeautifulSoup\n",
    "import requests\n",
    "\n",
    "# Importar librerías para automatización de navegadores web con Selenium\n",
    "# -----------------------------------------------------------------------\n",
    "from selenium import webdriver  # Selenium es una herramienta para automatizar la interacción con navegadores web.\n",
    "from webdriver_manager.chrome import ChromeDriverManager  # ChromeDriverManager gestiona la instalación del controlador de Chrome.\n",
    "from selenium.webdriver.common.keys import Keys  # Keys es útil para simular eventos de teclado en Selenium.\n",
    "from selenium.webdriver.support.ui import Select  # Select se utiliza para interactuar con elementos <select> en páginas web.\n",
    "\n",
    "# Importar librerías para pausar la ejecución\n",
    "# -----------------------------------------------------------------------\n",
    "from time import sleep  # Sleep se utiliza para pausar la ejecución del programa por un número de segundos.\n",
    "\n",
    "# Configuraciones\n",
    "# -----------------------------------------------------------------------\n",
    "pd.set_option('display.max_columns', None)  # Establece una opción de Pandas para mostrar todas las columnas de un DataFrame.\n"
   ]
  },
  {
   "cell_type": "code",
   "execution_count": null,
   "metadata": {},
   "outputs": [],
   "source": [
    "# abrir navegador\n",
    "driver = webdriver.Chrome()\n",
    "\n",
    "#Busca la web que yo quiera, en este caso IMDB\n",
    "driver.get(\"https://www.imdb.com/\")\n",
    "\n",
    "# Maximizar la ventana del navegador para mostrar la página completa\n",
    "#driver.maximize_window()\n",
    "\n",
    "# Solicitar al usuario que ingrese qué producto desea buscar\n",
    "eleccion_usuario = input(\"Introduce el ID de la película que quieres buscar\")\n",
    "\n",
    "# Utilizar la entrada de texto para buscar productos y presionar la tecla \"Enter\"\n",
    "driver.find_element(\"css selector\", \"#suggestion-search\").send_keys(eleccion_usuario, Keys.ENTER)\n",
    "\n",
    "sleep(3)\n",
    "\n",
    "#Queremos la puntuación \n",
    "puntuacion = driver.find_element(\"css selector\", \"#__next > main > div > section.ipc-page-background.ipc-page-background--base.sc-304f99f6-0.eaRXHu > section > div:nth-child(4) > section > section > div.sc-e226b0e3-4.fjlSjH > div.sc-e226b0e3-6.ktaZPG > div.sc-e226b0e3-11.ddApwd > div.sc-3a4309f8-0.fjtZsE.sc-dffc6c81-5.itEvYq > div > div:nth-child(1) > a > span > div > div.sc-bde20123-0.gtEgaf > div.sc-bde20123-2.gYgHoj > span.sc-bde20123-1.iZlgcd\").text\n",
    "sleep(3)\n",
    "#Queremos la puntuación de los tomatitos\n",
    "\n",
    "#Queremos el nombre del director/es\n",
    "director = driver.find_element(\"css selector\", \"#__next > main > div > section.ipc-page-background.ipc-page-background--base.sc-304f99f6-0.eaRXHu > div > section > div > div.sc-9178d6fe-1.kFxVZc.ipc-page-grid__item.ipc-page-grid__item--span-2 > section.ipc-page-section.ipc-page-section--base.sc-bfec09a1-0.gmonkL.title-cast.title-cast--movie.celwidget > ul > li:nth-child(1) > div > ul > li > a\").text\n",
    "sleep(3)\n",
    "#Queremos los guionistas\n",
    "guionistas = driver.find_element(\"css selector\", \"#__next > main > div > section.ipc-page-background.ipc-page-background--base.sc-304f99f6-0.eaRXHu > div > section > div > div.sc-9178d6fe-1.kFxVZc.ipc-page-grid__item.ipc-page-grid__item--span-2 > section.ipc-page-section.ipc-page-section--base.sc-bfec09a1-0.gmonkL.title-cast.title-cast--movie.celwidget > ul > li:nth-child(2) > div\").text\n",
    "sleep(5)\n",
    "#Queremos el argumento\n",
    "# argumento = driver.find_element(\"css selector\", \"#__next > main > div > section.ipc-page-background.ipc-page-background--base.sc-304f99f6-0.eaRXHu > div > section > div > div.sc-9178d6fe-1.kFxVZc.ipc-page-grid__item.ipc-page-grid__item--span-2 > section:nth-child(20) > div.sc-ab73d3b3-0.jCFAZd > div.ipc-overflowText.ipc-overflowText--pageSection.ipc-overflowText--base > div > div > div\").text\n",
    "#                                                   #__next > main > div > section.ipc-page-background.ipc-page-background--base.sc-304f99f6-0.eaRXHu > div > section > div > div.sc-9178d6fe-1.kFxVZc.ipc-page-grid__item.ipc-page-grid__item--span-2 > section:nth-child(16) > div.sc-ab73d3b3-0.jCFAZd > div.ipc-overflowText.ipc-overflowText--pageSection.ipc-overflowText--base > div > div > div\n",
    "#                                                   #__next > main > div > section.ipc-page-background.ipc-page-background--base.sc-304f99f6-0.eaRXHu > div > section > div > div.sc-9178d6fe-1.kFxVZc.ipc-page-grid__item.ipc-page-grid__item--span-2 > section:nth-child(20) > div.sc-ab73d3b3-0.jCFAZd > div.ipc-overflowText.ipc-overflowText--pageSection.ipc-overflowText--base > div > div > div\n",
    "#                                                   #__next > main > div > section.ipc-page-background.ipc-page-background--base.sc-304f99f6-0.eaRXHu > div > section > div > div.sc-9178d6fe-1.kFxVZc.ipc-page-grid__item.ipc-page-grid__item--span-2 > section:nth-child(25) > div.sc-ab73d3b3-0.jCFAZd > div.ipc-overflowText.ipc-overflowText--pageSection.ipc-overflowText--base > div > div > div\n",
    "#                                                 #__next > main > div > section.ipc-page-background.ipc-page-background--base.sc-304f99f6-0.eaRXHu > section > div:nth-child(4) > section > section > div.sc-e226b0e3-4.fjlSjH > div.sc-e226b0e3-6.ktaZPG > div.sc-e226b0e3-10.bALQos > section > p > span.sc-466bb6c-2.eVLpWt\n",
    "# xpath         Barbie                                     //*[@id=\"__next\"]/main/div/section[1]/div/section/div/div[1]/section[7]/div[2]/div[1]/div/div/div\n",
    "#                 la otra                                  //*[@id=\"__next\"]/main/div/section[1]/div/section/div/div[1]/section[5]/div[2]/div[1]/div/div/div\n",
    "#                 marga                                    //*[@id=\"__next\"]/main/div/section[1]/div/section/div/div[1]/section[4]/div[2]/div[1]/div/div/div\n",
    "\n",
    "\n",
    "# argumento de arriba                 peli rara       //*[@id=\"__next\"]/main/div/section[1]/div/section/div/div[1]/section[4]/div[2]/div[1]/div/div/div\n",
    "\n",
    "sleep(5)\n",
    "#Queremos la duración en minutos\n",
    "#Por ahora lo tenemos en hh:mm\n",
    "duracion = driver.find_element(\"css selector\", \"#__next > main > div > section.ipc-page-background.ipc-page-background--base.sc-304f99f6-0.eaRXHu > div > section > div > div.sc-9178d6fe-1.kFxVZc.ipc-page-grid__item.ipc-page-grid__item--span-2 > section:nth-child(41) > div.sc-f65f65be-0.fVkLRr > ul > li:nth-child(1) > div\").text\n",
    "sleep(3)\n",
    "#Queremos el nombre de la peli\n",
    "nombre_peli = driver.find_element(\"css selector\", \"#__next > main > div > section.ipc-page-background.ipc-page-background--base.sc-304f99f6-0.eaRXHu > section > div:nth-child(4) > section > section > div.sc-e226b0e3-3.jJsEuz > div.sc-dffc6c81-0.iwmAVw > h1 > span\").text\n",
    "sleep(3)\n",
    "\n"
   ]
  },
  {
   "cell_type": "code",
   "execution_count": 9,
   "metadata": {},
   "outputs": [
    {
     "name": "stdout",
     "output_type": "stream",
     "text": [
      "La respuesta de la petición es: 403\n"
     ]
    }
   ],
   "source": [
    "#PARTE BSOUP PARA ARGUMENTO Y OTRAS COSAS \n",
    "\n",
    "# definimos la url de la página de la vamos a sacar datos\n",
    "url_imdb = \"https://www.imdb.com/\"\n",
    "\n",
    "# hacemos la request a la página de la que queremos sacar la info\n",
    "res_imdb = requests.get(url_imdb)\n",
    "\n",
    "# vemos si todo ha ido bien\n",
    "print(\"La respuesta de la petición es:\", res_imdb.status_code)"
   ]
  },
  {
   "cell_type": "markdown",
   "metadata": {},
   "source": [
    "res_moviles.content"
   ]
  },
  {
   "cell_type": "code",
   "execution_count": null,
   "metadata": {},
   "outputs": [],
   "source": [
    "puntuacion"
   ]
  },
  {
   "cell_type": "code",
   "execution_count": null,
   "metadata": {},
   "outputs": [],
   "source": []
  },
  {
   "cell_type": "code",
   "execution_count": null,
   "metadata": {},
   "outputs": [],
   "source": []
  },
  {
   "cell_type": "code",
   "execution_count": null,
   "metadata": {},
   "outputs": [],
   "source": []
  }
 ],
 "metadata": {
  "kernelspec": {
   "display_name": "Python 3",
   "language": "python",
   "name": "python3"
  },
  "language_info": {
   "codemirror_mode": {
    "name": "ipython",
    "version": 3
   },
   "file_extension": ".py",
   "mimetype": "text/x-python",
   "name": "python",
   "nbconvert_exporter": "python",
   "pygments_lexer": "ipython3",
   "version": "3.11.5"
  }
 },
 "nbformat": 4,
 "nbformat_minor": 2
}
