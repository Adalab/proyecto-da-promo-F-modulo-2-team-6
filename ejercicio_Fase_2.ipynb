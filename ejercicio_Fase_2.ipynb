{
 "cells": [
  {
   "cell_type": "code",
   "execution_count": null,
   "metadata": {},
   "outputs": [],
   "source": [
    "# Importar librerías para tratamiento de datos\n",
    "# -----------------------------------------------------------------------\n",
    "import pandas as pd  # Pandas es una poderosa librería para manipulación y análisis de datos en Python.\n",
    "\n",
    "# Importar librerías para web scraping y manipulación de datos\n",
    "# -----------------------------------------------------------------------\n",
    "from bs4 import BeautifulSoup\n",
    "import requests\n",
    "\n",
    "# Importar librerías para automatización de navegadores web con Selenium\n",
    "# -----------------------------------------------------------------------\n",
    "from selenium import webdriver  # Selenium es una herramienta para automatizar la interacción con navegadores web.\n",
    "from webdriver_manager.chrome import ChromeDriverManager  # ChromeDriverManager gestiona la instalación del controlador de Chrome.\n",
    "from selenium.webdriver.common.keys import Keys  # Keys es útil para simular eventos de teclado en Selenium.\n",
    "from selenium.webdriver.support.ui import Select  # Select se utiliza para interactuar con elementos <select> en páginas web.\n",
    "\n",
    "# Importar librerías para pausar la ejecución\n",
    "# -----------------------------------------------------------------------\n",
    "from time import sleep  # Sleep se utiliza para pausar la ejecución del programa por un número de segundos.\n",
    "\n",
    "# Configuraciones\n",
    "# -----------------------------------------------------------------------\n",
    "pd.set_option('display.max_columns', None)  # Establece una opción de Pandas para mostrar todas las columnas de un DataFrame.\n"
   ]
  },
  {
   "cell_type": "code",
   "execution_count": 18,
   "metadata": {},
   "outputs": [
    {
     "ename": "NoSuchElementException",
     "evalue": "Message: no such element: Unable to locate element: {\"method\":\"css selector\",\"selector\":\"#__next > main > div > section.ipc-page-background.ipc-page-background--base.sc-304f99f6-0.eaRXHu > div > section > div > div.sc-9178d6fe-1.kFxVZc.ipc-page-grid__item.ipc-page-grid__item--span-2 > section:nth-child(20) > div.sc-ab73d3b3-0.jCFAZd > div.ipc-overflowText.ipc-overflowText--pageSection.ipc-overflowText--base > div > div > div\"}\n  (Session info: chrome=118.0.5993.118); For documentation on this error, please visit: https://www.selenium.dev/documentation/webdriver/troubleshooting/errors#no-such-element-exception\nStacktrace:\n\tGetHandleVerifier [0x00007FF660C28EF2+54786]\n\t(No symbol) [0x00007FF660B95612]\n\t(No symbol) [0x00007FF660A4A64B]\n\t(No symbol) [0x00007FF660A8B79C]\n\t(No symbol) [0x00007FF660A8B91C]\n\t(No symbol) [0x00007FF660AC6D87]\n\t(No symbol) [0x00007FF660AABEAF]\n\t(No symbol) [0x00007FF660AC4D02]\n\t(No symbol) [0x00007FF660AABC43]\n\t(No symbol) [0x00007FF660A80941]\n\t(No symbol) [0x00007FF660A81B84]\n\tGetHandleVerifier [0x00007FF660F77F52+3524194]\n\tGetHandleVerifier [0x00007FF660FCD800+3874576]\n\tGetHandleVerifier [0x00007FF660FC5D7F+3843215]\n\tGetHandleVerifier [0x00007FF660CC5086+694166]\n\t(No symbol) [0x00007FF660BA0A88]\n\t(No symbol) [0x00007FF660B9CA94]\n\t(No symbol) [0x00007FF660B9CBC2]\n\t(No symbol) [0x00007FF660B8CC83]\n\tBaseThreadInitThunk [0x00007FFCC559257D+29]\n\tRtlUserThreadStart [0x00007FFCC68AAA78+40]\n",
     "output_type": "error",
     "traceback": [
      "\u001b[1;31m---------------------------------------------------------------------------\u001b[0m",
      "\u001b[1;31mNoSuchElementException\u001b[0m                    Traceback (most recent call last)",
      "\u001b[1;32mc:\\Users\\amira\\Escritorio\\Adalab\\Modulo2\\Proyecto\\proyecto-selenium-IMDB.ipynb Cell 2\u001b[0m line \u001b[0;36m3\n\u001b[0;32m     <a href='vscode-notebook-cell:/c%3A/Users/amira/Escritorio/Adalab/Modulo2/Proyecto/proyecto-selenium-IMDB.ipynb#W5sZmlsZQ%3D%3D?line=27'>28</a>\u001b[0m sleep(\u001b[39m5\u001b[39m)\n\u001b[0;32m     <a href='vscode-notebook-cell:/c%3A/Users/amira/Escritorio/Adalab/Modulo2/Proyecto/proyecto-selenium-IMDB.ipynb#W5sZmlsZQ%3D%3D?line=28'>29</a>\u001b[0m \u001b[39m#Queremos el argumento\u001b[39;00m\n\u001b[1;32m---> <a href='vscode-notebook-cell:/c%3A/Users/amira/Escritorio/Adalab/Modulo2/Proyecto/proyecto-selenium-IMDB.ipynb#W5sZmlsZQ%3D%3D?line=29'>30</a>\u001b[0m argumento \u001b[39m=\u001b[39m driver\u001b[39m.\u001b[39;49mfind_element(\u001b[39m\"\u001b[39;49m\u001b[39mcss selector\u001b[39;49m\u001b[39m\"\u001b[39;49m, \u001b[39m\"\u001b[39;49m\u001b[39m#__next > main > div > section.ipc-page-background.ipc-page-background--base.sc-304f99f6-0.eaRXHu > div > section > div > div.sc-9178d6fe-1.kFxVZc.ipc-page-grid__item.ipc-page-grid__item--span-2 > section:nth-child(20) > div.sc-ab73d3b3-0.jCFAZd > div.ipc-overflowText.ipc-overflowText--pageSection.ipc-overflowText--base > div > div > div\u001b[39;49m\u001b[39m\"\u001b[39;49m)\u001b[39m.\u001b[39mtext\n\u001b[0;32m     <a href='vscode-notebook-cell:/c%3A/Users/amira/Escritorio/Adalab/Modulo2/Proyecto/proyecto-selenium-IMDB.ipynb#W5sZmlsZQ%3D%3D?line=30'>31</a>\u001b[0m sleep(\u001b[39m5\u001b[39m)\n\u001b[0;32m     <a href='vscode-notebook-cell:/c%3A/Users/amira/Escritorio/Adalab/Modulo2/Proyecto/proyecto-selenium-IMDB.ipynb#W5sZmlsZQ%3D%3D?line=31'>32</a>\u001b[0m \u001b[39m#Queremos la duración en minutos\u001b[39;00m\n\u001b[0;32m     <a href='vscode-notebook-cell:/c%3A/Users/amira/Escritorio/Adalab/Modulo2/Proyecto/proyecto-selenium-IMDB.ipynb#W5sZmlsZQ%3D%3D?line=32'>33</a>\u001b[0m \u001b[39m#Por ahora lo tenemos en hh:mm\u001b[39;00m\n",
      "File \u001b[1;32m~\\AppData\\Local\\Packages\\PythonSoftwareFoundation.Python.3.11_qbz5n2kfra8p0\\LocalCache\\local-packages\\Python311\\site-packages\\selenium\\webdriver\\remote\\webdriver.py:738\u001b[0m, in \u001b[0;36mWebDriver.find_element\u001b[1;34m(self, by, value)\u001b[0m\n\u001b[0;32m    735\u001b[0m     by \u001b[39m=\u001b[39m By\u001b[39m.\u001b[39mCSS_SELECTOR\n\u001b[0;32m    736\u001b[0m     value \u001b[39m=\u001b[39m \u001b[39mf\u001b[39m\u001b[39m'\u001b[39m\u001b[39m[name=\u001b[39m\u001b[39m\"\u001b[39m\u001b[39m{\u001b[39;00mvalue\u001b[39m}\u001b[39;00m\u001b[39m\"\u001b[39m\u001b[39m]\u001b[39m\u001b[39m'\u001b[39m\n\u001b[1;32m--> 738\u001b[0m \u001b[39mreturn\u001b[39;00m \u001b[39mself\u001b[39;49m\u001b[39m.\u001b[39;49mexecute(Command\u001b[39m.\u001b[39;49mFIND_ELEMENT, {\u001b[39m\"\u001b[39;49m\u001b[39musing\u001b[39;49m\u001b[39m\"\u001b[39;49m: by, \u001b[39m\"\u001b[39;49m\u001b[39mvalue\u001b[39;49m\u001b[39m\"\u001b[39;49m: value})[\u001b[39m\"\u001b[39m\u001b[39mvalue\u001b[39m\u001b[39m\"\u001b[39m]\n",
      "File \u001b[1;32m~\\AppData\\Local\\Packages\\PythonSoftwareFoundation.Python.3.11_qbz5n2kfra8p0\\LocalCache\\local-packages\\Python311\\site-packages\\selenium\\webdriver\\remote\\webdriver.py:344\u001b[0m, in \u001b[0;36mWebDriver.execute\u001b[1;34m(self, driver_command, params)\u001b[0m\n\u001b[0;32m    342\u001b[0m response \u001b[39m=\u001b[39m \u001b[39mself\u001b[39m\u001b[39m.\u001b[39mcommand_executor\u001b[39m.\u001b[39mexecute(driver_command, params)\n\u001b[0;32m    343\u001b[0m \u001b[39mif\u001b[39;00m response:\n\u001b[1;32m--> 344\u001b[0m     \u001b[39mself\u001b[39;49m\u001b[39m.\u001b[39;49merror_handler\u001b[39m.\u001b[39;49mcheck_response(response)\n\u001b[0;32m    345\u001b[0m     response[\u001b[39m\"\u001b[39m\u001b[39mvalue\u001b[39m\u001b[39m\"\u001b[39m] \u001b[39m=\u001b[39m \u001b[39mself\u001b[39m\u001b[39m.\u001b[39m_unwrap_value(response\u001b[39m.\u001b[39mget(\u001b[39m\"\u001b[39m\u001b[39mvalue\u001b[39m\u001b[39m\"\u001b[39m, \u001b[39mNone\u001b[39;00m))\n\u001b[0;32m    346\u001b[0m     \u001b[39mreturn\u001b[39;00m response\n",
      "File \u001b[1;32m~\\AppData\\Local\\Packages\\PythonSoftwareFoundation.Python.3.11_qbz5n2kfra8p0\\LocalCache\\local-packages\\Python311\\site-packages\\selenium\\webdriver\\remote\\errorhandler.py:229\u001b[0m, in \u001b[0;36mErrorHandler.check_response\u001b[1;34m(self, response)\u001b[0m\n\u001b[0;32m    227\u001b[0m         alert_text \u001b[39m=\u001b[39m value[\u001b[39m\"\u001b[39m\u001b[39malert\u001b[39m\u001b[39m\"\u001b[39m]\u001b[39m.\u001b[39mget(\u001b[39m\"\u001b[39m\u001b[39mtext\u001b[39m\u001b[39m\"\u001b[39m)\n\u001b[0;32m    228\u001b[0m     \u001b[39mraise\u001b[39;00m exception_class(message, screen, stacktrace, alert_text)  \u001b[39m# type: ignore[call-arg]  # mypy is not smart enough here\u001b[39;00m\n\u001b[1;32m--> 229\u001b[0m \u001b[39mraise\u001b[39;00m exception_class(message, screen, stacktrace)\n",
      "\u001b[1;31mNoSuchElementException\u001b[0m: Message: no such element: Unable to locate element: {\"method\":\"css selector\",\"selector\":\"#__next > main > div > section.ipc-page-background.ipc-page-background--base.sc-304f99f6-0.eaRXHu > div > section > div > div.sc-9178d6fe-1.kFxVZc.ipc-page-grid__item.ipc-page-grid__item--span-2 > section:nth-child(20) > div.sc-ab73d3b3-0.jCFAZd > div.ipc-overflowText.ipc-overflowText--pageSection.ipc-overflowText--base > div > div > div\"}\n  (Session info: chrome=118.0.5993.118); For documentation on this error, please visit: https://www.selenium.dev/documentation/webdriver/troubleshooting/errors#no-such-element-exception\nStacktrace:\n\tGetHandleVerifier [0x00007FF660C28EF2+54786]\n\t(No symbol) [0x00007FF660B95612]\n\t(No symbol) [0x00007FF660A4A64B]\n\t(No symbol) [0x00007FF660A8B79C]\n\t(No symbol) [0x00007FF660A8B91C]\n\t(No symbol) [0x00007FF660AC6D87]\n\t(No symbol) [0x00007FF660AABEAF]\n\t(No symbol) [0x00007FF660AC4D02]\n\t(No symbol) [0x00007FF660AABC43]\n\t(No symbol) [0x00007FF660A80941]\n\t(No symbol) [0x00007FF660A81B84]\n\tGetHandleVerifier [0x00007FF660F77F52+3524194]\n\tGetHandleVerifier [0x00007FF660FCD800+3874576]\n\tGetHandleVerifier [0x00007FF660FC5D7F+3843215]\n\tGetHandleVerifier [0x00007FF660CC5086+694166]\n\t(No symbol) [0x00007FF660BA0A88]\n\t(No symbol) [0x00007FF660B9CA94]\n\t(No symbol) [0x00007FF660B9CBC2]\n\t(No symbol) [0x00007FF660B8CC83]\n\tBaseThreadInitThunk [0x00007FFCC559257D+29]\n\tRtlUserThreadStart [0x00007FFCC68AAA78+40]\n"
     ]
    }
   ],
   "source": [
    "# abrir navegador\n",
    "driver = webdriver.Chrome()\n",
    "\n",
    "#Busca la web que yo quiera, en este caso IMDB\n",
    "driver.get(\"https://www.imdb.com/\")\n",
    "\n",
    "# Maximizar la ventana del navegador para mostrar la página completa\n",
    "#driver.maximize_window()\n",
    "\n",
    "# Solicitar al usuario que ingrese qué producto desea buscar\n",
    "eleccion_usuario = input(\"Introduce el ID de la película que quieres buscar\")\n",
    "\n",
    "# Utilizar la entrada de texto para buscar productos y presionar la tecla \"Enter\"\n",
    "driver.find_element(\"css selector\", \"#suggestion-search\").send_keys(eleccion_usuario, Keys.ENTER)\n",
    "\n",
    "sleep(3)\n",
    "\n",
    "#Queremos la puntuación \n",
    "puntuacion = driver.find_element(\"css selector\", \"#__next > main > div > section.ipc-page-background.ipc-page-background--base.sc-304f99f6-0.eaRXHu > section > div:nth-child(4) > section > section > div.sc-e226b0e3-4.fjlSjH > div.sc-e226b0e3-6.ktaZPG > div.sc-e226b0e3-11.ddApwd > div.sc-3a4309f8-0.fjtZsE.sc-dffc6c81-5.itEvYq > div > div:nth-child(1) > a > span > div > div.sc-bde20123-0.gtEgaf > div.sc-bde20123-2.gYgHoj > span.sc-bde20123-1.iZlgcd\").text\n",
    "sleep(3)\n",
    "#Queremos la puntuación de los tomatitos\n",
    "\n",
    "#Queremos el nombre del director/es\n",
    "director = driver.find_element(\"css selector\", \"#__next > main > div > section.ipc-page-background.ipc-page-background--base.sc-304f99f6-0.eaRXHu > div > section > div > div.sc-9178d6fe-1.kFxVZc.ipc-page-grid__item.ipc-page-grid__item--span-2 > section.ipc-page-section.ipc-page-section--base.sc-bfec09a1-0.gmonkL.title-cast.title-cast--movie.celwidget > ul > li:nth-child(1) > div > ul > li > a\").text\n",
    "sleep(3)\n",
    "#Queremos los guionistas\n",
    "guionistas = driver.find_element(\"css selector\", \"#__next > main > div > section.ipc-page-background.ipc-page-background--base.sc-304f99f6-0.eaRXHu > div > section > div > div.sc-9178d6fe-1.kFxVZc.ipc-page-grid__item.ipc-page-grid__item--span-2 > section.ipc-page-section.ipc-page-section--base.sc-bfec09a1-0.gmonkL.title-cast.title-cast--movie.celwidget > ul > li:nth-child(2) > div\").text\n",
    "sleep(5)\n",
    "#Queremos el argumento\n",
    "# argumento = driver.find_element(\"css selector\", \"#__next > main > div > section.ipc-page-background.ipc-page-background--base.sc-304f99f6-0.eaRXHu > div > section > div > div.sc-9178d6fe-1.kFxVZc.ipc-page-grid__item.ipc-page-grid__item--span-2 > section:nth-child(20) > div.sc-ab73d3b3-0.jCFAZd > div.ipc-overflowText.ipc-overflowText--pageSection.ipc-overflowText--base > div > div > div\").text\n",
    "#                                                   #__next > main > div > section.ipc-page-background.ipc-page-background--base.sc-304f99f6-0.eaRXHu > div > section > div > div.sc-9178d6fe-1.kFxVZc.ipc-page-grid__item.ipc-page-grid__item--span-2 > section:nth-child(16) > div.sc-ab73d3b3-0.jCFAZd > div.ipc-overflowText.ipc-overflowText--pageSection.ipc-overflowText--base > div > div > div\n",
    "#                                                   #__next > main > div > section.ipc-page-background.ipc-page-background--base.sc-304f99f6-0.eaRXHu > div > section > div > div.sc-9178d6fe-1.kFxVZc.ipc-page-grid__item.ipc-page-grid__item--span-2 > section:nth-child(20) > div.sc-ab73d3b3-0.jCFAZd > div.ipc-overflowText.ipc-overflowText--pageSection.ipc-overflowText--base > div > div > div\n",
    "#                                                   #__next > main > div > section.ipc-page-background.ipc-page-background--base.sc-304f99f6-0.eaRXHu > div > section > div > div.sc-9178d6fe-1.kFxVZc.ipc-page-grid__item.ipc-page-grid__item--span-2 > section:nth-child(25) > div.sc-ab73d3b3-0.jCFAZd > div.ipc-overflowText.ipc-overflowText--pageSection.ipc-overflowText--base > div > div > div\n",
    "#                                                 #__next > main > div > section.ipc-page-background.ipc-page-background--base.sc-304f99f6-0.eaRXHu > section > div:nth-child(4) > section > section > div.sc-e226b0e3-4.fjlSjH > div.sc-e226b0e3-6.ktaZPG > div.sc-e226b0e3-10.bALQos > section > p > span.sc-466bb6c-2.eVLpWt\n",
    "# xpath         Barbie                                     //*[@id=\"__next\"]/main/div/section[1]/div/section/div/div[1]/section[7]/div[2]/div[1]/div/div/div\n",
    "#                 la otra                                  //*[@id=\"__next\"]/main/div/section[1]/div/section/div/div[1]/section[5]/div[2]/div[1]/div/div/div\n",
    "#                 marga                                    //*[@id=\"__next\"]/main/div/section[1]/div/section/div/div[1]/section[4]/div[2]/div[1]/div/div/div\n",
    "\n",
    "\n",
    "# argumento de arriba                 peli rara       //*[@id=\"__next\"]/main/div/section[1]/div/section/div/div[1]/section[4]/div[2]/div[1]/div/div/div\n",
    "\n",
    "sleep(5)\n",
    "#Queremos la duración en minutos\n",
    "#Por ahora lo tenemos en hh:mm\n",
    "duracion = driver.find_element(\"css selector\", \"#__next > main > div > section.ipc-page-background.ipc-page-background--base.sc-304f99f6-0.eaRXHu > div > section > div > div.sc-9178d6fe-1.kFxVZc.ipc-page-grid__item.ipc-page-grid__item--span-2 > section:nth-child(41) > div.sc-f65f65be-0.fVkLRr > ul > li:nth-child(1) > div\").text\n",
    "sleep(3)\n",
    "#Queremos el nombre de la peli\n",
    "nombre_peli = driver.find_element(\"css selector\", \"#__next > main > div > section.ipc-page-background.ipc-page-background--base.sc-304f99f6-0.eaRXHu > section > div:nth-child(4) > section > section > div.sc-e226b0e3-3.jJsEuz > div.sc-dffc6c81-0.iwmAVw > h1 > span\").text\n",
    "sleep(3)\n",
    "\n"
   ]
  },
  {
   "cell_type": "code",
   "execution_count": 17,
   "metadata": {},
   "outputs": [
    {
     "data": {
      "text/plain": [
       "'7,3'"
      ]
     },
     "execution_count": 17,
     "metadata": {},
     "output_type": "execute_result"
    }
   ],
   "source": [
    "puntuacion"
   ]
  },
  {
   "cell_type": "code",
   "execution_count": null,
   "metadata": {},
   "outputs": [],
   "source": []
  },
  {
   "cell_type": "code",
   "execution_count": null,
   "metadata": {},
   "outputs": [],
   "source": []
  },
  {
   "cell_type": "code",
   "execution_count": null,
   "metadata": {},
   "outputs": [],
   "source": []
  }
 ],
 "metadata": {
  "kernelspec": {
   "display_name": "Python 3",
   "language": "python",
   "name": "python3"
  },
  "language_info": {
   "codemirror_mode": {
    "name": "ipython",
    "version": 3
   },
   "file_extension": ".py",
   "mimetype": "text/x-python",
   "name": "python",
   "nbconvert_exporter": "python",
   "pygments_lexer": "ipython3",
   "version": "3.11.6"
  }
 },
 "nbformat": 4,
 "nbformat_minor": 2
}
