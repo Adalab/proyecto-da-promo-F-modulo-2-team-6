{
 "cells": [
  {
   "cell_type": "code",
   "execution_count": 4,
   "metadata": {},
   "outputs": [],
   "source": [
    "import pandas as pd \n",
    "#from bs4 import BeautifulSoup\n",
    "import requests\n",
    "from selenium import webdriver  \n",
    "from webdriver_manager.chrome import ChromeDriverManager  \n",
    "from selenium.webdriver.common.keys import Keys  \n",
    "from selenium.webdriver.support.ui import Select  \n",
    "from time import sleep  \n",
    "pd.set_option('display.max_columns', None)"
   ]
  },
  {
   "cell_type": "code",
   "execution_count": 7,
   "metadata": {},
   "outputs": [],
   "source": [
    "driver = webdriver.Chrome()\n",
    "\n",
    "driver.get(\"https://www.imdb.com/\")\n",
    "\n",
    "sleep(2)\n",
    "\n",
    "driver.maximize_window()\n",
    "\n",
    "eleccion_usuario = input(\"Introduce el ID de la película que quieres buscar\")\n",
    "\n",
    "driver.find_element(\"css selector\", \"#suggestion-search\").send_keys(eleccion_usuario, Keys.ENTER)\n",
    "\n",
    "sleep(3)\n",
    "\n",
    "driver.find_element(\"css selector\", \"#__next > main > div > section.ipc-page-background.ipc-page-background--base.sc-304f99f6-0.eaRXHu > section > div:nth-child(4) > section > section > div.sc-e226b0e3-4.fjlSjH > div.sc-e226b0e3-6.ktaZPG > div.sc-e226b0e3-10.bALQos > section > div.sc-dffc6c81-3.jFHENY > div > ul > li:nth-child(3) > a.ipc-metadata-list-item__label.ipc-metadata-list-item__label--link\").click()\n",
    "\n",
    "\n"
   ]
  },
  {
   "cell_type": "code",
   "execution_count": null,
   "metadata": {},
   "outputs": [],
   "source": [
    "#ACTORES\n",
    "\n",
    "nombre = driver.find_element(\"css selector\", \"\").text\n",
    "sleep(3)\n",
    "\n",
    "nacimiento = driver.find_element(\"css selector\", \"\").text\n",
    "sleep(3)\n",
    "\n",
    "conocimiento = driver.find_element(\"css selector\", \"\").text\n",
    "sleep(3)\n",
    "\n",
    "hace = driver.find_element(\"css selector\", \"\").text\n",
    "sleep(3)\n",
    "\n",
    "premios = driver.find_element(\"css selector\", \"\").text\n",
    "sleep(3)"
   ]
  }
 ],
 "metadata": {
  "kernelspec": {
   "display_name": "base",
   "language": "python",
   "name": "python3"
  },
  "language_info": {
   "codemirror_mode": {
    "name": "ipython",
    "version": 3
   },
   "file_extension": ".py",
   "mimetype": "text/x-python",
   "name": "python",
   "nbconvert_exporter": "python",
   "pygments_lexer": "ipython3",
   "version": "3.9.7"
  }
 },
 "nbformat": 4,
 "nbformat_minor": 2
}
